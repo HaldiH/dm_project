{
 "cells": [
  {
   "cell_type": "code",
   "execution_count": 14,
   "metadata": {},
   "outputs": [],
   "source": [
    "from MeanPredictor import MeanPredictor\n",
    "import pandas as pd\n",
    "import numpy as np\n",
    "from processing_utils import encode_smiles_column_of, prune_dataset_lines, get_train_data\n",
    "from sklearn.metrics import mean_squared_error, r2_score"
   ]
  },
  {
   "cell_type": "code",
   "execution_count": 12,
   "metadata": {},
   "outputs": [],
   "source": [
    "raw_dataset = pd.read_csv('./dataset/data.csv')\n",
    "dataset = encode_smiles_column_of(\n",
    "    prune_dataset_lines(\n",
    "        raw_dataset,\n",
    "        remove_nan_lines=False,\n",
    "        remove_nan_cols=True,\n",
    "        remove_duplicates=True,\n",
    "        in_favour_of_col='Energy_(kcal/mol)'\n",
    "    ),\n",
    "    strategy='count_encoding')\n",
    "\n",
    "X_train, y_train, X_test, y_test = get_train_data(\n",
    "    dataset,\n",
    "    validation=False,\n",
    "    as_numpy=False\n",
    ")\n"
   ]
  },
  {
   "cell_type": "code",
   "execution_count": 56,
   "metadata": {},
   "outputs": [
    {
     "name": "stdout",
     "output_type": "stream",
     "text": [
      "MSE: 225695109.65139806, R2 score: -2.1094237467877974e-15\n"
     ]
    }
   ],
   "source": [
    "X, y = pd.concat([X_train, X_test]), pd.concat([y_train, y_test])\n",
    "y_pred = np.ones_like(y) * np.mean(y.to_numpy(), axis=0)\n",
    "print(f\"MSE: {mean_squared_error(y, y_pred)}, R2 score: {r2_score(y, y_pred)}\")"
   ]
  }
 ],
 "metadata": {
  "kernelspec": {
   "display_name": "Python 3.10.5 64-bit",
   "language": "python",
   "name": "python3"
  },
  "language_info": {
   "codemirror_mode": {
    "name": "ipython",
    "version": 3
   },
   "file_extension": ".py",
   "mimetype": "text/x-python",
   "name": "python",
   "nbconvert_exporter": "python",
   "pygments_lexer": "ipython3",
   "version": "3.10.4"
  },
  "orig_nbformat": 4,
  "vscode": {
   "interpreter": {
    "hash": "e7370f93d1d0cde622a1f8e1c04877d8463912d04d973331ad4851f04de6915a"
   }
  }
 },
 "nbformat": 4,
 "nbformat_minor": 2
}
