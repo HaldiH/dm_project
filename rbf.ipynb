{
 "cells": [
  {
   "cell_type": "markdown",
   "metadata": {},
   "source": [
    "### RBF Network Regression"
   ]
  },
  {
   "cell_type": "code",
   "execution_count": 2,
   "metadata": {},
   "outputs": [
    {
     "name": "stdout",
     "output_type": "stream",
     "text": [
      "Raw dataset shape = (39926, 24)  Pruned dataset shape = (12865, 6)\n",
      "Encoded dataset shape = (12865, 35)\n"
     ]
    }
   ],
   "source": [
    "import pandas as pd\n",
    "from processing_utils import *\n",
    "\n",
    "raw_dataset = pd.read_csv('./dataset/data.csv')\n",
    "\n",
    "pruned_dataset = prune_dataset_lines(raw_dataset, remove_nan_lines=False, remove_nan_cols=True)\n",
    "print(\"Raw dataset shape =\", raw_dataset.shape, \" Pruned dataset shape =\", pruned_dataset.shape)\n",
    "\n",
    "encoded_pruned_data = encode_smiles_column_of(pruned_dataset, 'count_encoding') # change to one_hot_encoding here\n",
    "print(\"Encoded dataset shape =\", encoded_pruned_data.shape)\n",
    "\n",
    "X_train, y_train, X_val, y_val, X_test, y_test = return_required_data(\n",
    "    encoded_pruned_data, \n",
    "    ['Energy_(kcal/mol)', 'Energy DG:kcal/mol)'], \n",
    "    normalize=True\n",
    ")"
   ]
  },
  {
   "cell_type": "markdown",
   "metadata": {},
   "source": [
    "#### TODO : Use RBF.py to see performance."
   ]
  },
  {
   "cell_type": "code",
   "execution_count": 11,
   "metadata": {},
   "outputs": [
    {
     "name": "stdout",
     "output_type": "stream",
     "text": [
      "(378, 33)\n",
      "(9005, 33)\n",
      "(378, 378)\n"
     ]
    },
    {
     "ename": "ValueError",
     "evalue": "matmul: Input operand 1 has a mismatch in its core dimension 0, with gufunc signature (n?,k),(k,m?)->(n?,m?) (size 378 is different from 9005)",
     "output_type": "error",
     "traceback": [
      "\u001b[0;31m---------------------------------------------------------------------------\u001b[0m",
      "\u001b[0;31mValueError\u001b[0m                                Traceback (most recent call last)",
      "\u001b[1;32m/home/hugo/Projects/dm_project/rbf.ipynb Cell 4'\u001b[0m in \u001b[0;36m<cell line: 4>\u001b[0;34m()\u001b[0m\n\u001b[1;32m      <a href='vscode-notebook-cell:/home/hugo/Projects/dm_project/rbf.ipynb#ch0000003?line=1'>2</a>\u001b[0m get_ipython()\u001b[39m.\u001b[39mrun_line_magic(\u001b[39m'\u001b[39m\u001b[39mautoreload\u001b[39m\u001b[39m'\u001b[39m, \u001b[39m'\u001b[39m\u001b[39m2\u001b[39m\u001b[39m'\u001b[39m)\n\u001b[1;32m      <a href='vscode-notebook-cell:/home/hugo/Projects/dm_project/rbf.ipynb#ch0000003?line=2'>3</a>\u001b[0m \u001b[39mfrom\u001b[39;00m \u001b[39mRBF\u001b[39;00m \u001b[39mimport\u001b[39;00m RBF\n\u001b[0;32m----> <a href='vscode-notebook-cell:/home/hugo/Projects/dm_project/rbf.ipynb#ch0000003?line=3'>4</a>\u001b[0m RBF(n_clusters\u001b[39m=\u001b[39;49m\u001b[39m8\u001b[39;49m)\u001b[39m.\u001b[39;49mfit(X_train, y_train)\n",
      "File \u001b[0;32m~/Projects/dm_project/RBF.py:31\u001b[0m, in \u001b[0;36mRBF.fit\u001b[0;34m(self, X, y)\u001b[0m\n\u001b[1;32m     27\u001b[0m \u001b[39mself\u001b[39m\u001b[39m.\u001b[39msigmas \u001b[39m=\u001b[39m [np\u001b[39m.\u001b[39mcov(X[pred \u001b[39m==\u001b[39m cluster])\n\u001b[1;32m     28\u001b[0m                \u001b[39mfor\u001b[39;00m cluster \u001b[39min\u001b[39;00m \u001b[39mrange\u001b[39m(\u001b[39mself\u001b[39m\u001b[39m.\u001b[39mn_clusters)]\n\u001b[1;32m     29\u001b[0m \u001b[39m# phi_j is a scalar representing the activation of the jth cluster wrt its distance with x\u001b[39;00m\n\u001b[1;32m     30\u001b[0m \u001b[39m# so for each cluster we need to estimate the best weights\u001b[39;00m\n\u001b[0;32m---> 31\u001b[0m phi \u001b[39m=\u001b[39m \u001b[39mself\u001b[39;49m\u001b[39m.\u001b[39;49m__phi(X)\n\u001b[1;32m     32\u001b[0m \u001b[39mself\u001b[39m\u001b[39m.\u001b[39mlr \u001b[39m=\u001b[39m LinearRegression()\u001b[39m.\u001b[39mfit(phi, y)\n\u001b[1;32m     33\u001b[0m \u001b[39mreturn\u001b[39;00m \u001b[39mself\u001b[39m\n",
      "File \u001b[0;32m~/Projects/dm_project/RBF.py:21\u001b[0m, in \u001b[0;36mRBF.__phi\u001b[0;34m(self, x)\u001b[0m\n\u001b[1;32m     20\u001b[0m \u001b[39mdef\u001b[39;00m \u001b[39m__phi\u001b[39m(\u001b[39mself\u001b[39m, x):\n\u001b[0;32m---> 21\u001b[0m     \u001b[39mreturn\u001b[39;00m np\u001b[39m.\u001b[39marray([RBF\u001b[39m.\u001b[39mphi(x, center, sigma) \u001b[39mfor\u001b[39;00m center, sigma \u001b[39min\u001b[39;00m \u001b[39mzip\u001b[39m(\u001b[39mself\u001b[39m\u001b[39m.\u001b[39mkmeans\u001b[39m.\u001b[39mcluster_centers_, \u001b[39mself\u001b[39m\u001b[39m.\u001b[39msigmas)])\n",
      "File \u001b[0;32m~/Projects/dm_project/RBF.py:21\u001b[0m, in \u001b[0;36m<listcomp>\u001b[0;34m(.0)\u001b[0m\n\u001b[1;32m     20\u001b[0m \u001b[39mdef\u001b[39;00m \u001b[39m__phi\u001b[39m(\u001b[39mself\u001b[39m, x):\n\u001b[0;32m---> 21\u001b[0m     \u001b[39mreturn\u001b[39;00m np\u001b[39m.\u001b[39marray([RBF\u001b[39m.\u001b[39;49mphi(x, center, sigma) \u001b[39mfor\u001b[39;00m center, sigma \u001b[39min\u001b[39;00m \u001b[39mzip\u001b[39m(\u001b[39mself\u001b[39m\u001b[39m.\u001b[39mkmeans\u001b[39m.\u001b[39mcluster_centers_, \u001b[39mself\u001b[39m\u001b[39m.\u001b[39msigmas)])\n",
      "File \u001b[0;32m~/Projects/dm_project/RBF.py:18\u001b[0m, in \u001b[0;36mRBF.phi\u001b[0;34m(x, mu, sigma)\u001b[0m\n\u001b[1;32m     16\u001b[0m \u001b[39mprint\u001b[39m(np\u001b[39m.\u001b[39mshape(x\u001b[39m-\u001b[39mmu))\n\u001b[1;32m     17\u001b[0m \u001b[39mprint\u001b[39m(np\u001b[39m.\u001b[39mshape(sigma))\n\u001b[0;32m---> 18\u001b[0m \u001b[39mreturn\u001b[39;00m np\u001b[39m.\u001b[39mexp(\u001b[39m-\u001b[39;49m\u001b[39m1\u001b[39;49m\u001b[39m/\u001b[39;49m\u001b[39m2\u001b[39;49m \u001b[39m*\u001b[39;49m (x \u001b[39m-\u001b[39;49m mu)\u001b[39m.\u001b[39;49mT \u001b[39m@\u001b[39;49m np\u001b[39m.\u001b[39;49mlinalg\u001b[39m.\u001b[39;49minv(sigma) \u001b[39m@\u001b[39m (x \u001b[39m-\u001b[39m mu))\n",
      "\u001b[0;31mValueError\u001b[0m: matmul: Input operand 1 has a mismatch in its core dimension 0, with gufunc signature (n?,k),(k,m?)->(n?,m?) (size 378 is different from 9005)"
     ]
    }
   ],
   "source": [
    "%reload_ext autoreload\n",
    "%autoreload 2\n",
    "from RBF import RBF\n",
    "RBF(n_clusters=8).fit(X_train, y_train)\n"
   ]
  },
  {
   "cell_type": "code",
   "execution_count": null,
   "metadata": {},
   "outputs": [],
   "source": []
  }
 ],
 "metadata": {
  "kernelspec": {
   "display_name": "Python 3.10.4 ('.venv': venv)",
   "language": "python",
   "name": "python3"
  },
  "language_info": {
   "codemirror_mode": {
    "name": "ipython",
    "version": 3
   },
   "file_extension": ".py",
   "mimetype": "text/x-python",
   "name": "python",
   "nbconvert_exporter": "python",
   "pygments_lexer": "ipython3",
   "version": "3.10.4"
  },
  "orig_nbformat": 4,
  "vscode": {
   "interpreter": {
    "hash": "89b1433cb17a6eee649a1bda0661a92a7fef89a14515622a5dec3ce2465fee6c"
   }
  }
 },
 "nbformat": 4,
 "nbformat_minor": 2
}
