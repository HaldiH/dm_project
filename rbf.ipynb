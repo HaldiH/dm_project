{
 "cells": [
  {
   "cell_type": "markdown",
   "metadata": {},
   "source": [
    "### RBF Network Regression"
   ]
  },
  {
   "cell_type": "code",
   "execution_count": 8,
   "metadata": {},
   "outputs": [
    {
     "name": "stdout",
     "output_type": "stream",
     "text": [
      "Raw dataset shape = (39926, 24)  Pruned dataset shape = (12865, 6)\n",
      "Encoded dataset shape = (12865, 35)\n"
     ]
    }
   ],
   "source": [
    "import pandas as pd\n",
    "from processing_utils import *\n",
    "\n",
    "raw_dataset = pd.read_csv('./dataset/data.csv')\n",
    "\n",
    "pruned_dataset = prune_dataset_lines(raw_dataset, remove_nan_lines=False, remove_nan_cols=True)\n",
    "print(\"Raw dataset shape =\", raw_dataset.shape, \" Pruned dataset shape =\", pruned_dataset.shape)\n",
    "\n",
    "encoded_pruned_data = encode_smiles_column_of(pruned_dataset, 'count_encoding') # change to one_hot_encoding here\n",
    "print(\"Encoded dataset shape =\", encoded_pruned_data.shape)\n",
    "\n",
    "X_train, y_train, X_val, y_val, X_test, y_test = return_required_data(\n",
    "    encoded_pruned_data, \n",
    "    ['Energy_(kcal/mol)', 'Energy DG:kcal/mol)'], \n",
    "    normalize=True\n",
    ")"
   ]
  },
  {
   "cell_type": "markdown",
   "metadata": {},
   "source": [
    "#### TODO : Use RBF.py to see performance."
   ]
  },
  {
   "cell_type": "code",
   "execution_count": 13,
   "metadata": {},
   "outputs": [
    {
     "data": {
      "text/plain": [
       "array([[-0.27220344, -0.27295819],\n",
       "       [-0.00153994, -0.00145149],\n",
       "       [-0.00153896, -0.00145051],\n",
       "       ...,\n",
       "       [-0.00153993, -0.00145149],\n",
       "       [-0.00116524, -0.00107735],\n",
       "       [-0.00138337, -0.00129493]])"
      ]
     },
     "execution_count": 13,
     "metadata": {},
     "output_type": "execute_result"
    }
   ],
   "source": [
    "%reload_ext autoreload\n",
    "%autoreload 2\n",
    "from RBF import RBF\n",
    "rbf = RBF(n_clusters=8).fit(X_train, y_train)\n",
    "rbf.predict(X_test)\n"
   ]
  },
  {
   "cell_type": "code",
   "execution_count": null,
   "metadata": {},
   "outputs": [],
   "source": []
  }
 ],
 "metadata": {
  "kernelspec": {
   "display_name": "Python 3.10.4 ('.venv': venv)",
   "language": "python",
   "name": "python3"
  },
  "language_info": {
   "codemirror_mode": {
    "name": "ipython",
    "version": 3
   },
   "file_extension": ".py",
   "mimetype": "text/x-python",
   "name": "python",
   "nbconvert_exporter": "python",
   "pygments_lexer": "ipython3",
   "version": "3.10.4"
  },
  "orig_nbformat": 4,
  "vscode": {
   "interpreter": {
    "hash": "89b1433cb17a6eee649a1bda0661a92a7fef89a14515622a5dec3ce2465fee6c"
   }
  }
 },
 "nbformat": 4,
 "nbformat_minor": 2
}
