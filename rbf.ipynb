{
 "cells": [
  {
   "cell_type": "code",
   "execution_count": null,
   "metadata": {},
   "outputs": [],
   "source": [
    "# Run this to setup environment\n",
    "%pip install -r requirements.txt"
   ]
  },
  {
   "cell_type": "code",
   "execution_count": 1,
   "metadata": {},
   "outputs": [],
   "source": [
    "import pandas as pd\n",
    "from processing_utils import *\n",
    "from rbf import RBF\n",
    "from rbf_optimization import objective\n",
    "import optuna\n",
    "from sklearn.metrics import r2_score, mean_squared_error\n",
    "import random\n",
    "%reload_ext autoreload\n",
    "%autoreload 2"
   ]
  },
  {
   "cell_type": "markdown",
   "metadata": {},
   "source": [
    "### RBF Network Regression"
   ]
  },
  {
   "cell_type": "code",
   "execution_count": null,
   "metadata": {},
   "outputs": [],
   "source": [
    "raw_dataset = pd.read_csv('./dataset/data.csv')\n",
    "\n",
    "dataset = encode_smiles_column_of(\n",
    "    prune_dataset_lines(\n",
    "        raw_dataset,\n",
    "        remove_nan_lines=False,\n",
    "        remove_nan_cols=True,\n",
    "        remove_duplicates=True\n",
    "    ),\n",
    "    strategy='count_encoding'\n",
    ")\n",
    "\n",
    "X_train, y_train, X_val, y_val, X_test, y_test = get_train_data(\n",
    "    dataset,\n",
    "    targets_columns=['Energy_(kcal/mol)', 'Energy DG:kcal/mol)'],\n",
    "    random_state=None,\n",
    "    as_numpy=False\n",
    ")"
   ]
  },
  {
   "cell_type": "markdown",
   "metadata": {},
   "source": [
    "### Example of Optuna hyperparameters optimization with Optuna"
   ]
  },
  {
   "cell_type": "code",
   "execution_count": null,
   "metadata": {},
   "outputs": [],
   "source": [
    "rbf = RBF(n_clusters=8, sigma=3.14, normalize=True).fit(X_train, y_train)   # RBF class does data normalization no worries.\n",
    "y_pred = rbf.predict(X_val)\n",
    "r2_score(y_val, y_pred)\n",
    "\n",
    "study = optuna.create_study(\n",
    "    direction='maximize',\n",
    "    study_name=\"RBF hyperparameters optimization\"\n",
    ")\n",
    "\n",
    "study.optimize(\n",
    "    lambda trial: objective(\n",
    "        trial, X_train, y_train, X_val, y_val, normalize=True, metric=r2_score),\n",
    "    n_trials=10\n",
    ")"
   ]
  },
  {
   "cell_type": "code",
   "execution_count": null,
   "metadata": {},
   "outputs": [],
   "source": [
    "rbf = RBF(study.best_params[\"n_clusters\"], study.best_params[\"sigma\"], normalize=True).fit(X_train, y_train)\n",
    "y_pred = rbf.predict(X_test)\n",
    "\n",
    "print(\"Test mse =\", mean_squared_error(y_test, y_pred))\n",
    "print(\"Test R2 =\", r2_score(y_test, y_pred))\n",
    "print(\"best parameters:\", study.best_params)"
   ]
  },
  {
   "cell_type": "markdown",
   "metadata": {},
   "source": [
    "## Performances w.r.t. training dataset size"
   ]
  },
  {
   "cell_type": "code",
   "execution_count": null,
   "metadata": {},
   "outputs": [],
   "source": [
    "N_ESSAIS = 50\n",
    "mses = [[] for _ in range(N_ESSAIS)]\n",
    "r2_scores = [[] for _ in range(N_ESSAIS)]\n",
    "percentages = np.linspace(0.2, 1, 50)"
   ]
  },
  {
   "cell_type": "code",
   "execution_count": null,
   "metadata": {},
   "outputs": [],
   "source": [
    "from pathlib import Path\n",
    "cluster_numbers = []\n",
    "standard_deviations = []\n",
    "optimization = np.arange(start=0, stop=N_ESSAIS * len(percentages), step=1)\n",
    "\n",
    "# this took 15 min on my machine with N_ESSAIS = 5\n",
    "for k in range(N_ESSAIS):\n",
    "    seed = random.randint(0, 10000)\n",
    "    random_state = np.random.RandomState(seed)\n",
    "\n",
    "    for p in percentages:\n",
    "\n",
    "        X_train, y_train, X_val, y_val, X_test, y_test = get_train_data(\n",
    "            dataset,\n",
    "            targets_columns=['Energy_(kcal/mol)', 'Energy DG:kcal/mol)'],\n",
    "            random_state=random_state,\n",
    "            as_numpy=False,\n",
    "        )\n",
    "\n",
    "        study = optuna.create_study(\n",
    "            direction='maximize',\n",
    "            study_name=f\"RBF hyperparameters optimization for percentage p={p} Essai={k}\"\n",
    "        )\n",
    "\n",
    "        study.optimize(\n",
    "            lambda trial: objective(\n",
    "                trial, X_train, y_train, X_val, y_val, normalize=True, metric=r2_score),\n",
    "            n_trials=10,\n",
    "            # n_jobs=-1\n",
    "        )\n",
    "\n",
    "        rbf = RBF(\n",
    "            study.best_params[\"n_clusters\"],\n",
    "            study.best_params[\"sigma\"],\n",
    "            normalize=True\n",
    "        ).fit(X_train, y_train)\n",
    "        y_pred = rbf.predict(X_test)\n",
    "        mses[k].append(mean_squared_error(y_test, y_pred))\n",
    "        r2_scores[k].append(r2_score(y_test, y_pred))\n",
    "\n",
    "        cluster_numbers.append(study.best_params[\"n_clusters\"])\n",
    "        standard_deviations.append(study.best_params[\"sigma\"])\n",
    "\n",
    "\n",
    "path = Path('./results/rbf')\n",
    "mses = np.array(mses)\n",
    "r2_scores = np.array(r2_scores)\n",
    "\n",
    "np.save(path/'rbf_mses_var_percentage', mses)\n",
    "np.save(path/'rbf_scores_var_percentage', r2_scores)\n"
   ]
  },
  {
   "cell_type": "code",
   "execution_count": null,
   "metadata": {},
   "outputs": [],
   "source": [
    "import matplotlib.pyplot as plt\n",
    "from pathlib import Path\n",
    "\n",
    "path = Path('./results/rbf')\n",
    "\n",
    "#mses = np.array(mses)\n",
    "#r2_scores = np.array(r2_scores)\n",
    "\n",
    "mses = np.load(path/'rbf_mses_var_percentage.npy')\n",
    "r2_scores = np.load(path/'rbf_scores_var_percentage.npy')\n",
    "\n",
    "np.save(path/'rbf_mses_var_percentage', mses)\n",
    "np.save(path/'rbf_scores_var_percentage', r2_scores)\n",
    "\n",
    "plt.figure(figsize=(20, 8))\n",
    "plt.subplot(1, 2, 1)\n",
    "plt.title(\"Mean Squares Error\")\n",
    "plt.xlabel(\"Train Data Percentage\")\n",
    "plt.ylabel(\"Test MSE\")\n",
    "plt.grid(True)\n",
    "\n",
    "final_mses = np.mean(mses, axis=0)\n",
    "mses_error = np.std(mses, axis=0)\n",
    "\n",
    "# remove the fucky percentages\n",
    "rows = np.abs(final_mses) < 10000\n",
    "final_mses_chosen = final_mses[rows][2:]\n",
    "mses_error_chosen = mses_error[rows][2:]\n",
    "percentages_chosen = percentages[rows][2:]\n",
    "\n",
    "plt.semilogy(percentages_chosen, final_mses_chosen, label='Linear Regression')\n",
    "plt.legend()\n",
    "plt.fill_between(percentages_chosen, final_mses_chosen - mses_error_chosen, final_mses_chosen + mses_error_chosen, alpha=0.2, edgecolor='#1B2ACC', facecolor='#089FFF')\n",
    "\n",
    "plt.subplot(1, 2, 2)\n",
    "plt.title(\"R2 score\")\n",
    "plt.xlabel(\"Train Data Percentage\")\n",
    "plt.ylabel(\"Test R2 score\")\n",
    "plt.grid(True)\n",
    "plt.yscale('linear')\n",
    "\n",
    "final_r2_score = np.mean(r2_scores, axis=0)\n",
    "r2_score_error = np.std(r2_scores, axis=0)\n",
    "\n",
    "# remove fucky values\n",
    "r2_rows = np.abs(final_r2_score) < 10000\n",
    "final_r2_score_chosen = final_r2_score[r2_rows][2:]\n",
    "r2_score_error_chosen = r2_score_error[r2_rows][2:]\n",
    "r2_percentages_chosen = percentages[r2_rows][2:]\n",
    "\n",
    "plt.plot(r2_percentages_chosen, final_r2_score_chosen, label='Linear Regression')\n",
    "plt.legend()\n",
    "plt.fill_between(r2_percentages_chosen, final_r2_score_chosen - r2_score_error_chosen, final_r2_score_chosen + r2_score_error_chosen, alpha=0.2, edgecolor='#1B2ACC', facecolor='#089FFF')"
   ]
  },
  {
   "cell_type": "markdown",
   "metadata": {},
   "source": [
    "## Cross Validation Score"
   ]
  },
  {
   "cell_type": "code",
   "execution_count": 2,
   "metadata": {},
   "outputs": [],
   "source": [
    "from sklearn.model_selection import KFold\n",
    "from sklearn.metrics import r2_score\n",
    "\n",
    "def cross_validation_of(rbf_network: RBF, X: pd.DataFrame, y: pd.DataFrame, n_splits=5):\n",
    "    assert y.ndim == 1 or y.shape[1] == 1 \n",
    "    \n",
    "    kf = KFold(n_splits=n_splits)\n",
    "    cross_validation_scores = []\n",
    "\n",
    "    for train_index, test_index in kf.split(X):\n",
    "        X_train, X_test = X.to_numpy()[train_index], X.to_numpy()[test_index]\n",
    "        y_train, y_test = y.to_numpy()[train_index].reshape(-1, 1), y.to_numpy()[test_index].reshape(-1, 1)\n",
    "\n",
    "        rbf_network.fit(X_train, y_train)\n",
    "        cross_validation_scores.append(r2_score(rbf_network.predict(X_test), y_test))\n",
    "\n",
    "    return cross_validation_scores"
   ]
  },
  {
   "cell_type": "markdown",
   "metadata": {},
   "source": [
    "#### Computation of Best RBF Network"
   ]
  },
  {
   "cell_type": "code",
   "execution_count": null,
   "metadata": {},
   "outputs": [],
   "source": [
    "study = optuna.create_study(\n",
    "    direction='maximize',\n",
    "    study_name=\"RBF hyperparameters optimization\"\n",
    ")\n",
    "\n",
    "study.optimize(\n",
    "    lambda trial: objective(\n",
    "        trial, X_train, y_train, X_val, y_val, normalize=True, metric=r2_score),\n",
    "    n_trials=200\n",
    ")\n",
    "\n",
    "X = pd.concat([X_train, X_test])\n",
    "y = pd.concat([y_train, y_test])\n",
    "\n",
    "final_rbf = RBF(study.best_params[\"n_clusters\"], study.best_params[\"sigma\"], normalize=True).fit(X_train, y_train)\n",
    "y_pred = rbf.predict(X_test)\n",
    "\n",
    "print(\"Test mse =\", mean_squared_error(y_test, y_pred))\n",
    "print(\"Test R2 =\", r2_score(y_test, y_pred))\n",
    "print(\"best parameters:\", study.best_params)"
   ]
  },
  {
   "cell_type": "markdown",
   "metadata": {},
   "source": [
    "#### Computation of it's Cross Validation Score"
   ]
  },
  {
   "cell_type": "code",
   "execution_count": null,
   "metadata": {},
   "outputs": [],
   "source": [
    "print(\"RBF Cross Validation Score =\", cross_validation_of(final_rbf, X, y))"
   ]
  }
 ],
 "metadata": {
  "kernelspec": {
   "display_name": "Python 3.10.4 64-bit",
   "language": "python",
   "name": "python3"
  },
  "language_info": {
   "codemirror_mode": {
    "name": "ipython",
    "version": 3
   },
   "file_extension": ".py",
   "mimetype": "text/x-python",
   "name": "python",
   "nbconvert_exporter": "python",
   "pygments_lexer": "ipython3",
   "version": "3.10.4"
  },
  "orig_nbformat": 4,
  "vscode": {
   "interpreter": {
    "hash": "916dbcbb3f70747c44a77c7bcd40155683ae19c65e1c03b4aa3499c5328201f1"
   }
  }
 },
 "nbformat": 4,
 "nbformat_minor": 2
}
