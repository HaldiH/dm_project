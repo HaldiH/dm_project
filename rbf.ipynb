{
 "cells": [
  {
   "cell_type": "markdown",
   "metadata": {},
   "source": [
    "### RBF Network Regression"
   ]
  },
  {
   "cell_type": "code",
   "execution_count": 5,
   "metadata": {},
   "outputs": [],
   "source": [
    "import pandas as pd\n",
    "from processing_utils import *\n",
    "from RBF import RBF\n",
    "from rbf_optimization import objective\n",
    "import optuna\n",
    "from optuna.trial import Trial\n",
    "from sklearn.preprocessing import StandardScaler\n",
    "%reload_ext autoreload\n",
    "%autoreload 2\n",
    "\n",
    "raw_dataset = pd.read_csv('./dataset/data.csv')"
   ]
  },
  {
   "cell_type": "code",
   "execution_count": 8,
   "metadata": {},
   "outputs": [],
   "source": [
    "dataset = encode_smiles_column_of(\n",
    "    prune_dataset_lines(\n",
    "        raw_dataset,\n",
    "        remove_nan_lines=False,\n",
    "        remove_nan_cols=True,\n",
    "        remove_duplicates=True\n",
    "    ),\n",
    "    strategy='count_encoding'\n",
    ")\n",
    "\n",
    "\n",
    "((val_f_scaler, val_t_scaler), (test_f_scaler, test_t_scaler)), (X_train, y_train, X_val, y_val, X_train_val, y_train_val, X_test, y_test) = scale_data(*get_train_data(\n",
    "    dataset,\n",
    "    targets_columns=['Energy_(kcal/mol)', 'Energy DG:kcal/mol)'],\n",
    "    as_numpy=False\n",
    "))\n"
   ]
  },
  {
   "cell_type": "markdown",
   "metadata": {},
   "source": [
    "#### TODO : Use RBF.py to see performance."
   ]
  },
  {
   "cell_type": "code",
   "execution_count": 9,
   "metadata": {},
   "outputs": [
    {
     "name": "stderr",
     "output_type": "stream",
     "text": [
      "\u001b[32m[I 2022-06-21 18:50:03,643]\u001b[0m A new study created in memory with name: RBF hyperparameters optimization\u001b[0m\n",
      "\u001b[32m[I 2022-06-21 18:50:10,752]\u001b[0m Trial 0 finished with value: 1.0196089171818234 and parameters: {'n_clusters': 360, 'sigma': 1.7190362799760837}. Best is trial 0 with value: 1.0196089171818234.\u001b[0m\n",
      "\u001b[32m[I 2022-06-21 18:50:15,165]\u001b[0m Trial 1 finished with value: 1.012008619865041 and parameters: {'n_clusters': 220, 'sigma': 6.630825107754122}. Best is trial 1 with value: 1.012008619865041.\u001b[0m\n",
      "\u001b[32m[I 2022-06-21 18:50:20,216]\u001b[0m Trial 2 finished with value: 1.0169728727404568 and parameters: {'n_clusters': 262, 'sigma': 2.805776583645126}. Best is trial 1 with value: 1.012008619865041.\u001b[0m\n",
      "\u001b[32m[I 2022-06-21 18:50:23,546]\u001b[0m Trial 3 finished with value: 0.9921441092094803 and parameters: {'n_clusters': 145, 'sigma': 1.0572476130106636}. Best is trial 3 with value: 0.9921441092094803.\u001b[0m\n",
      "\u001b[32m[I 2022-06-21 18:50:28,928]\u001b[0m Trial 4 finished with value: 1.0219153364113451 and parameters: {'n_clusters': 299, 'sigma': 5.044753610084823}. Best is trial 3 with value: 0.9921441092094803.\u001b[0m\n",
      "\u001b[32m[I 2022-06-21 18:50:35,408]\u001b[0m Trial 5 finished with value: 0.9738426846750672 and parameters: {'n_clusters': 346, 'sigma': 0.012349927710217388}. Best is trial 5 with value: 0.9738426846750672.\u001b[0m\n",
      "\u001b[32m[I 2022-06-21 18:50:40,939]\u001b[0m Trial 6 finished with value: 1.0156868559915153 and parameters: {'n_clusters': 279, 'sigma': 7.795454549722866}. Best is trial 5 with value: 0.9738426846750672.\u001b[0m\n",
      "\u001b[32m[I 2022-06-21 18:50:44,366]\u001b[0m Trial 7 finished with value: 0.9982706638805345 and parameters: {'n_clusters': 139, 'sigma': 5.149601102185552}. Best is trial 5 with value: 0.9738426846750672.\u001b[0m\n",
      "\u001b[32m[I 2022-06-21 18:50:49,418]\u001b[0m Trial 8 finished with value: 1.0196482475227207 and parameters: {'n_clusters': 275, 'sigma': 8.90561340021289}. Best is trial 5 with value: 0.9738426846750672.\u001b[0m\n",
      "\u001b[32m[I 2022-06-21 18:50:53,101]\u001b[0m Trial 9 finished with value: 0.9903170801786081 and parameters: {'n_clusters': 119, 'sigma': 2.70146083616325}. Best is trial 5 with value: 0.9738426846750672.\u001b[0m\n",
      "\u001b[32m[I 2022-06-21 18:50:55,538]\u001b[0m Trial 10 finished with value: 0.977954372182959 and parameters: {'n_clusters': 36, 'sigma': 0.6291734462112277}. Best is trial 5 with value: 0.9738426846750672.\u001b[0m\n",
      "\u001b[32m[I 2022-06-21 18:50:57,853]\u001b[0m Trial 11 finished with value: 1.2344677955773877 and parameters: {'n_clusters': 43, 'sigma': 0.23971145988609296}. Best is trial 5 with value: 0.9738426846750672.\u001b[0m\n",
      "\u001b[32m[I 2022-06-21 18:51:00,114]\u001b[0m Trial 12 finished with value: 6.037356006045057 and parameters: {'n_clusters': 51, 'sigma': 0.19122935006472658}. Best is trial 5 with value: 0.9738426846750672.\u001b[0m\n",
      "\u001b[32m[I 2022-06-21 18:51:06,563]\u001b[0m Trial 13 finished with value: 1.0265380169759097 and parameters: {'n_clusters': 395, 'sigma': 3.223828645104361}. Best is trial 5 with value: 0.9738426846750672.\u001b[0m\n",
      "\u001b[32m[I 2022-06-21 18:51:08,601]\u001b[0m Trial 14 finished with value: 0.9759402111046236 and parameters: {'n_clusters': 17, 'sigma': 3.853267523814209}. Best is trial 5 with value: 0.9738426846750672.\u001b[0m\n",
      "\u001b[32m[I 2022-06-21 18:51:15,442]\u001b[0m Trial 15 finished with value: 1.022426192856878 and parameters: {'n_clusters': 334, 'sigma': 3.811598816492982}. Best is trial 5 with value: 0.9738426846750672.\u001b[0m\n",
      "\u001b[32m[I 2022-06-21 18:51:19,823]\u001b[0m Trial 16 finished with value: 1.0114731389440605 and parameters: {'n_clusters': 194, 'sigma': 6.268295560777274}. Best is trial 5 with value: 0.9738426846750672.\u001b[0m\n",
      "\u001b[32m[I 2022-06-21 18:51:24,096]\u001b[0m Trial 17 finished with value: 1.010364137810823 and parameters: {'n_clusters': 194, 'sigma': 9.565493428356563}. Best is trial 5 with value: 0.9738426846750672.\u001b[0m\n",
      "\u001b[32m[I 2022-06-21 18:51:27,295]\u001b[0m Trial 18 finished with value: 0.9872040786755368 and parameters: {'n_clusters': 82, 'sigma': 1.698032229641664}. Best is trial 5 with value: 0.9738426846750672.\u001b[0m\n",
      "\u001b[32m[I 2022-06-21 18:51:29,461]\u001b[0m Trial 19 finished with value: 0.9730791683001827 and parameters: {'n_clusters': 10, 'sigma': 4.087362139173999}. Best is trial 19 with value: 0.9730791683001827.\u001b[0m\n"
     ]
    },
    {
     "name": "stdout",
     "output_type": "stream",
     "text": [
      "FrozenTrial(number=19, values=[0.9730791683001827], datetime_start=datetime.datetime(2022, 6, 21, 18, 51, 27, 296877), datetime_complete=datetime.datetime(2022, 6, 21, 18, 51, 29, 461537), params={'n_clusters': 10, 'sigma': 4.087362139173999}, distributions={'n_clusters': IntUniformDistribution(high=400, low=10, step=1), 'sigma': UniformDistribution(high=10.0, low=0.01)}, user_attrs={}, system_attrs={}, intermediate_values={}, trial_id=19, state=TrialState.COMPLETE, value=None)\n"
     ]
    }
   ],
   "source": [
    "\n",
    "study = optuna.create_study(\n",
    "    direction='minimize',\n",
    "    study_name=\"RBF hyperparameters optimization\"\n",
    ")\n",
    "\n",
    "study.optimize(\n",
    "    lambda trial: objective(trial, (X_train, y_train, X_val, y_val)),\n",
    "    n_trials=20,\n",
    ")\n",
    "\n",
    "print(study.best_trial)"
   ]
  },
  {
   "cell_type": "code",
   "execution_count": null,
   "metadata": {},
   "outputs": [],
   "source": []
  }
 ],
 "metadata": {
  "kernelspec": {
   "display_name": "Python 3.10.5 64-bit",
   "language": "python",
   "name": "python3"
  },
  "language_info": {
   "codemirror_mode": {
    "name": "ipython",
    "version": 3
   },
   "file_extension": ".py",
   "mimetype": "text/x-python",
   "name": "python",
   "nbconvert_exporter": "python",
   "pygments_lexer": "ipython3",
   "version": "3.10.5"
  },
  "orig_nbformat": 4,
  "vscode": {
   "interpreter": {
    "hash": "e7370f93d1d0cde622a1f8e1c04877d8463912d04d973331ad4851f04de6915a"
   }
  }
 },
 "nbformat": 4,
 "nbformat_minor": 2
}
