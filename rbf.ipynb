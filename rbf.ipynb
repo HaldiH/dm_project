{
 "cells": [
  {
   "cell_type": "code",
   "execution_count": null,
   "metadata": {},
   "outputs": [],
   "source": [
    "# Run this to setup environment\n",
    "%pip install -r requirements.txt"
   ]
  },
  {
   "cell_type": "code",
   "execution_count": 4,
   "metadata": {},
   "outputs": [],
   "source": [
    "import pandas as pd\n",
    "from processing_utils import *\n",
    "from rbf import RBF\n",
    "from rbf_optimization import objective\n",
    "import optuna\n",
    "from sklearn.metrics import r2_score, mean_squared_error\n",
    "import random\n",
    "%reload_ext autoreload\n",
    "%autoreload 2"
   ]
  },
  {
   "cell_type": "markdown",
   "metadata": {},
   "source": [
    "### RBF Network Regression"
   ]
  },
  {
   "cell_type": "code",
   "execution_count": 5,
   "metadata": {},
   "outputs": [],
   "source": [
    "raw_dataset = pd.read_csv('./dataset/data.csv')\n",
    "\n",
    "dataset = encode_smiles_column_of(\n",
    "    prune_dataset_lines(\n",
    "        raw_dataset,\n",
    "        remove_nan_lines=False,\n",
    "        remove_nan_cols=True,\n",
    "        remove_duplicates=True\n",
    "    ),\n",
    "    strategy='count_encoding'\n",
    ")\n",
    "\n",
    "X_train, y_train, X_val, y_val, X_test, y_test = get_train_data(\n",
    "    dataset,\n",
    "    targets_columns=['Energy_(kcal/mol)', 'Energy DG:kcal/mol)'],\n",
    "    random_state=None,\n",
    "    as_numpy=False\n",
    ")"
   ]
  },
  {
   "cell_type": "markdown",
   "metadata": {},
   "source": [
    "### Example of Optuna hyperparameters optimization with Optuna"
   ]
  },
  {
   "cell_type": "code",
   "execution_count": 21,
   "metadata": {},
   "outputs": [
    {
     "data": {
      "text/plain": [
       "0.5972875860828044"
      ]
     },
     "execution_count": 21,
     "metadata": {},
     "output_type": "execute_result"
    }
   ],
   "source": [
    "rbf = RBF(n_clusters=8, sigma=3.14, normalize=True).fit(X_train, y_train)   # RBF class does data normalization no worries.\n",
    "y_pred = rbf.predict(X_val)\n",
    "r2_score(y_val, y_pred)"
   ]
  },
  {
   "cell_type": "code",
   "execution_count": 22,
   "metadata": {},
   "outputs": [
    {
     "name": "stderr",
     "output_type": "stream",
     "text": [
      "\u001b[32m[I 2022-06-22 20:51:35,643]\u001b[0m A new study created in memory with name: RBF hyperparameters optimization\u001b[0m\n",
      "\u001b[32m[I 2022-06-22 20:51:36,606]\u001b[0m Trial 0 finished with value: 0.6449349034700815 and parameters: {'n_clusters': 23, 'sigma': 2.7777748127166104}. Best is trial 0 with value: 0.6449349034700815.\u001b[0m\n",
      "\u001b[32m[I 2022-06-22 20:51:39,359]\u001b[0m Trial 1 finished with value: 0.9915080498169544 and parameters: {'n_clusters': 248, 'sigma': 9.225727221511393}. Best is trial 1 with value: 0.9915080498169544.\u001b[0m\n",
      "\u001b[32m[I 2022-06-22 20:51:41,618]\u001b[0m Trial 2 finished with value: 0.9776747122532344 and parameters: {'n_clusters': 174, 'sigma': 6.541486019099505}. Best is trial 1 with value: 0.9915080498169544.\u001b[0m\n",
      "\u001b[32m[I 2022-06-22 20:51:43,729]\u001b[0m Trial 3 finished with value: 0.8141190039332 and parameters: {'n_clusters': 182, 'sigma': 2.241342091692446}. Best is trial 1 with value: 0.9915080498169544.\u001b[0m\n",
      "\u001b[32m[I 2022-06-22 20:51:46,213]\u001b[0m Trial 4 finished with value: 0.9917059177174694 and parameters: {'n_clusters': 226, 'sigma': 8.959130917797337}. Best is trial 4 with value: 0.9917059177174694.\u001b[0m\n",
      "\u001b[32m[I 2022-06-22 20:51:47,902]\u001b[0m Trial 5 finished with value: 0.9840849990209779 and parameters: {'n_clusters': 132, 'sigma': 8.703790535778912}. Best is trial 4 with value: 0.9917059177174694.\u001b[0m\n",
      "\u001b[32m[I 2022-06-22 20:51:50,269]\u001b[0m Trial 6 finished with value: 0.988751990775395 and parameters: {'n_clusters': 220, 'sigma': 7.880711588757507}. Best is trial 4 with value: 0.9917059177174694.\u001b[0m\n",
      "\u001b[32m[I 2022-06-22 20:51:51,211]\u001b[0m Trial 7 finished with value: 0.9183134235900474 and parameters: {'n_clusters': 35, 'sigma': 7.643598996524904}. Best is trial 4 with value: 0.9917059177174694.\u001b[0m\n",
      "\u001b[32m[I 2022-06-22 20:51:53,438]\u001b[0m Trial 8 finished with value: -1016.7689427027635 and parameters: {'n_clusters': 187, 'sigma': 0.23434887505123997}. Best is trial 4 with value: 0.9917059177174694.\u001b[0m\n",
      "\u001b[32m[I 2022-06-22 20:51:56,059]\u001b[0m Trial 9 finished with value: 0.9847342684222364 and parameters: {'n_clusters': 248, 'sigma': 6.976638677162078}. Best is trial 4 with value: 0.9917059177174694.\u001b[0m\n"
     ]
    },
    {
     "name": "stdout",
     "output_type": "stream",
     "text": [
      "Test mse = 0.00893806066783611\n",
      "Test R2 = 0.9905130372383235\n",
      "best parameters: {'n_clusters': 226, 'sigma': 8.959130917797337}\n"
     ]
    }
   ],
   "source": [
    "study = optuna.create_study(\n",
    "    direction='maximize',\n",
    "    study_name=\"RBF hyperparameters optimization\",\n",
    ")\n",
    "\n",
    "study.optimize(\n",
    "    lambda trial: objective(\n",
    "        trial, X_train, y_train, X_val, y_val, normalize=True, metric=r2_score),\n",
    "    n_trials=10\n",
    ")\n",
    "\n",
    "rbf = RBF(study.best_params[\"n_clusters\"], study.best_params[\"sigma\"], normalize=True).fit(X_train, y_train)\n",
    "y_pred = rbf.predict(X_test)\n",
    "\n",
    "print(\"Test mse =\", mean_squared_error(rbf.targets_scaler.transform(y_test), rbf.targets_scaler.transform(y_pred)))\n",
    "print(\"Test R2 =\", r2_score(y_test, y_pred))\n",
    "print(\"best parameters:\", study.best_params)"
   ]
  },
  {
   "cell_type": "markdown",
   "metadata": {},
   "source": [
    "## Performances w.r.t. training dataset size"
   ]
  },
  {
   "cell_type": "code",
   "execution_count": 11,
   "metadata": {},
   "outputs": [],
   "source": [
    "N_ESSAIS = 50\n",
    "mses = [[] for _ in range(N_ESSAIS)]\n",
    "r2_scores = [[] for _ in range(N_ESSAIS)]\n",
    "percentages = np.linspace(0.2, 1, 15)"
   ]
  },
  {
   "cell_type": "code",
   "execution_count": null,
   "metadata": {},
   "outputs": [],
   "source": [
    "from pathlib import Path\n",
    "cluster_numbers = []\n",
    "standard_deviations = []\n",
    "optimization = np.arange(start=0, stop=N_ESSAIS * len(percentages), step=1)\n",
    "\n",
    "# this took 15 min on my machine with N_ESSAIS = 5\n",
    "for k in range(N_ESSAIS):\n",
    "    seed = random.randint(0, 10000)\n",
    "    random_state = np.random.RandomState(seed)\n",
    "\n",
    "    for p in percentages:\n",
    "\n",
    "        X_train, y_train, X_val, y_val, X_test, y_test = get_train_data(\n",
    "            dataset,\n",
    "            targets_columns=['Energy_(kcal/mol)', 'Energy DG:kcal/mol)'],\n",
    "            random_state=random_state,\n",
    "            as_numpy=False,\n",
    "        )\n",
    "\n",
    "        study = optuna.create_study(\n",
    "            direction='maximize',\n",
    "            study_name=f\"RBF hyperparameters optimization for percentage p={p} Essai={k}\"\n",
    "        )\n",
    "\n",
    "        study.optimize(\n",
    "            lambda trial: objective(\n",
    "                trial, X_train, y_train, X_val, y_val, normalize=True, metric=r2_score),\n",
    "            n_trials=10,\n",
    "            # n_jobs=-1\n",
    "        )\n",
    "\n",
    "        rbf = RBF(\n",
    "            study.best_params[\"n_clusters\"],\n",
    "            study.best_params[\"sigma\"],\n",
    "            normalize=True\n",
    "        ).fit(X_train, y_train)\n",
    "        y_pred = rbf.predict(X_test)\n",
    "        mses[k].append(mean_squared_error(y_test, y_pred))\n",
    "        r2_scores[k].append(r2_score(y_test, y_pred))\n",
    "\n",
    "        cluster_numbers.append(study.best_params[\"n_clusters\"])\n",
    "        standard_deviations.append(study.best_params[\"sigma\"])\n",
    "\n",
    "\n",
    "path = Path('./results/rbf')\n",
    "mses = np.array(mses)\n",
    "r2_scores = np.array(r2_scores)\n",
    "\n",
    "np.save(path/'rbf_mses_var_percentage', mses)\n",
    "np.save(path/'rbf_scores_var_percentage', r2_scores)\n"
   ]
  },
  {
   "cell_type": "code",
   "execution_count": 13,
   "metadata": {},
   "outputs": [
    {
     "data": {
      "text/plain": [
       "<matplotlib.collections.PolyCollection at 0x2b0b9ec830a0>"
      ]
     },
     "execution_count": 13,
     "metadata": {},
     "output_type": "execute_result"
    },
    {
     "data": {
      "image/png": "[encoded data removed]",
      "text/plain": [
       "<Figure size 1440x576 with 2 Axes>"
      ]
     },
     "metadata": {
      "needs_background": "light"
     },
     "output_type": "display_data"
    }
   ],
   "source": [
    "import matplotlib.pyplot as plt\n",
    "from pathlib import Path\n",
    "\n",
    "path = Path('./results/rbf')\n",
    "\n",
    "#mses = np.array(mses)\n",
    "#r2_scores = np.array(r2_scores)\n",
    "\n",
    "mses = np.load(path/'rbf_mses_var_percentage.npy')\n",
    "r2_scores = np.load(path/'rbf_scores_var_percentage.npy')\n",
    "\n",
    "np.save(path/'rbf_mses_var_percentage', mses)\n",
    "np.save(path/'rbf_scores_var_percentage', r2_scores)\n",
    "\n",
    "plt.figure(figsize=(20, 8))\n",
    "plt.subplot(1, 2, 1)\n",
    "plt.title(\"Mean Squares Error\")\n",
    "plt.xlabel(\"Train Data Percentage\")\n",
    "plt.ylabel(\"Test MSE\")\n",
    "plt.grid(True)\n",
    "\n",
    "final_mses = np.mean(mses, axis=0)\n",
    "mses_error = np.std(mses, axis=0)\n",
    "\n",
    "# remove the fucky percentages\n",
    "rows = np.abs(final_mses) < 10000000\n",
    "final_mses_chosen = final_mses[rows][2:]\n",
    "mses_error_chosen = mses_error[rows][2:]\n",
    "percentages_chosen = percentages[rows][2:]\n",
    "\n",
    "plt.semilogy(percentages_chosen, final_mses_chosen, label='Linear Regression')\n",
    "plt.legend()\n",
    "plt.fill_between(percentages_chosen, final_mses_chosen - mses_error_chosen, final_mses_chosen + mses_error_chosen, alpha=0.2, edgecolor='#1B2ACC', facecolor='#089FFF')\n",
    "\n",
    "plt.subplot(1, 2, 2)\n",
    "plt.title(\"R2 score\")\n",
    "plt.xlabel(\"Train Data Percentage\")\n",
    "plt.ylabel(\"Test R2 score\")\n",
    "plt.grid(True)\n",
    "plt.yscale('linear')\n",
    "\n",
    "final_r2_score = np.mean(r2_scores, axis=0)\n",
    "r2_score_error = np.std(r2_scores, axis=0)\n",
    "\n",
    "# remove fucky values\n",
    "r2_rows = np.abs(final_r2_score) < 10000\n",
    "final_r2_score_chosen = final_r2_score[r2_rows][2:]\n",
    "r2_score_error_chosen = r2_score_error[r2_rows][2:]\n",
    "r2_percentages_chosen = percentages[r2_rows][2:]\n",
    "\n",
    "plt.plot(r2_percentages_chosen, final_r2_score_chosen, label='Linear Regression')\n",
    "plt.legend()\n",
    "plt.fill_between(r2_percentages_chosen, final_r2_score_chosen - r2_score_error_chosen, final_r2_score_chosen + r2_score_error_chosen, alpha=0.2, edgecolor='#1B2ACC', facecolor='#089FFF')"
   ]
  },
  {
   "cell_type": "markdown",
   "metadata": {},
   "source": [
    "## Cross Validation Score"
   ]
  },
  {
   "cell_type": "code",
   "execution_count": 15,
   "metadata": {},
   "outputs": [],
   "source": [
    "from sklearn.model_selection import KFold\n",
    "from sklearn.metrics import r2_score\n",
    "\n",
    "\n",
    "def cross_validation_score_of(X: pd.DataFrame, y: pd.DataFrame, n_splits=5, n_clusters=8, sigma=1.):\n",
    "    kf = KFold(n_splits=n_splits)\n",
    "    cross_validation_scores = []\n",
    "\n",
    "    for train_index, test_index in kf.split(X):\n",
    "        X_train, X_test = X.to_numpy()[train_index], X.to_numpy()[test_index]\n",
    "        y_train, y_test = y.to_numpy()[train_index], y.to_numpy()[test_index]\n",
    "\n",
    "        rbf_network = RBF(n_clusters, sigma, normalize=True).fit(\n",
    "            X_train, y_train)\n",
    "        y_pred = rbf_network.predict(X_test)\n",
    "        cross_validation_scores.append(\n",
    "            (r2_score(y_pred[:, 0], y_test[:, 0]),\n",
    "             r2_score(y_pred[:, 1], y_test[:, 1])))\n",
    "\n",
    "    return cross_validation_scores\n"
   ]
  },
  {
   "cell_type": "markdown",
   "metadata": {},
   "source": [
    "#### Computation of Best RBF Network"
   ]
  },
  {
   "cell_type": "code",
   "execution_count": 28,
   "metadata": {},
   "outputs": [
    {
     "name": "stderr",
     "output_type": "stream",
     "text": [
      "\u001b[32m[I 2022-06-22 21:06:00,146]\u001b[0m A new study created in memory with name: RBF hyperparameters optimization\u001b[0m\n",
      "\u001b[32m[I 2022-06-22 21:06:02,297]\u001b[0m Trial 0 finished with value: 18183102.729961812 and parameters: {'n_clusters': 185, 'sigma': 3.7074672551564123}. Best is trial 0 with value: 18183102.729961812.\u001b[0m\n",
      "\u001b[32m[I 2022-06-22 21:06:04,828]\u001b[0m Trial 1 finished with value: 2770386.450205867 and parameters: {'n_clusters': 236, 'sigma': 7.184605756585465}. Best is trial 1 with value: 2770386.450205867.\u001b[0m\n",
      "\u001b[32m[I 2022-06-22 21:06:07,292]\u001b[0m Trial 2 finished with value: 5203326.427578593 and parameters: {'n_clusters': 227, 'sigma': 6.177992182792159}. Best is trial 1 with value: 2770386.450205867.\u001b[0m\n",
      "\u001b[32m[I 2022-06-22 21:06:09,058]\u001b[0m Trial 3 finished with value: 31152357.804660562 and parameters: {'n_clusters': 128, 'sigma': 3.0858281016452387}. Best is trial 1 with value: 2770386.450205867.\u001b[0m\n",
      "\u001b[32m[I 2022-06-22 21:06:10,090]\u001b[0m Trial 4 finished with value: 76379323.71530291 and parameters: {'n_clusters': 31, 'sigma': 2.413672937787253}. Best is trial 1 with value: 2770386.450205867.\u001b[0m\n",
      "\u001b[32m[I 2022-06-22 21:06:11,148]\u001b[0m Trial 5 finished with value: 26265351.23577558 and parameters: {'n_clusters': 33, 'sigma': 6.854229660733128}. Best is trial 1 with value: 2770386.450205867.\u001b[0m\n",
      "\u001b[32m[I 2022-06-22 21:06:12,865]\u001b[0m Trial 6 finished with value: 7814092.685952656 and parameters: {'n_clusters': 118, 'sigma': 6.860687162402262}. Best is trial 1 with value: 2770386.450205867.\u001b[0m\n",
      "\u001b[32m[I 2022-06-22 21:06:14,522]\u001b[0m Trial 7 finished with value: 209400991.26996306 and parameters: {'n_clusters': 98, 'sigma': 0.49086696113585554}. Best is trial 1 with value: 2770386.450205867.\u001b[0m\n",
      "\u001b[32m[I 2022-06-22 21:06:15,573]\u001b[0m Trial 8 finished with value: 35392072.00167694 and parameters: {'n_clusters': 36, 'sigma': 4.910982259704524}. Best is trial 1 with value: 2770386.450205867.\u001b[0m\n",
      "\u001b[32m[I 2022-06-22 21:06:16,999]\u001b[0m Trial 9 finished with value: 13085138.915441249 and parameters: {'n_clusters': 88, 'sigma': 5.876017728685644}. Best is trial 1 with value: 2770386.450205867.\u001b[0m\n",
      "\u001b[32m[I 2022-06-22 21:06:19,656]\u001b[0m Trial 10 finished with value: 1117071.872217189 and parameters: {'n_clusters': 248, 'sigma': 9.882448928224871}. Best is trial 10 with value: 1117071.872217189.\u001b[0m\n",
      "\u001b[32m[I 2022-06-22 21:06:22,773]\u001b[0m Trial 11 finished with value: 1209712.1036312068 and parameters: {'n_clusters': 240, 'sigma': 9.932574855521315}. Best is trial 10 with value: 1117071.872217189.\u001b[0m\n",
      "\u001b[32m[I 2022-06-22 21:06:25,377]\u001b[0m Trial 12 finished with value: 2586952.946263014 and parameters: {'n_clusters': 178, 'sigma': 9.831619737085896}. Best is trial 10 with value: 1117071.872217189.\u001b[0m\n",
      "\u001b[32m[I 2022-06-22 21:06:28,101]\u001b[0m Trial 13 finished with value: 1340284.9864006005 and parameters: {'n_clusters': 250, 'sigma': 9.937798131872597}. Best is trial 10 with value: 1117071.872217189.\u001b[0m\n",
      "\u001b[32m[I 2022-06-22 21:06:30,586]\u001b[0m Trial 14 finished with value: 3069718.5113803744 and parameters: {'n_clusters': 196, 'sigma': 8.460025349009666}. Best is trial 10 with value: 1117071.872217189.\u001b[0m\n",
      "\u001b[32m[I 2022-06-22 21:06:33,122]\u001b[0m Trial 15 finished with value: 2658197.5814611735 and parameters: {'n_clusters': 209, 'sigma': 8.472640344125049}. Best is trial 10 with value: 1117071.872217189.\u001b[0m\n",
      "\u001b[32m[I 2022-06-22 21:06:35,422]\u001b[0m Trial 16 finished with value: 3479410.7565957406 and parameters: {'n_clusters': 174, 'sigma': 8.490683722887765}. Best is trial 10 with value: 1117071.872217189.\u001b[0m\n",
      "\u001b[32m[I 2022-06-22 21:06:37,471]\u001b[0m Trial 17 finished with value: 3312655.0567489285 and parameters: {'n_clusters': 149, 'sigma': 9.171487199618431}. Best is trial 10 with value: 1117071.872217189.\u001b[0m\n",
      "\u001b[32m[I 2022-06-22 21:06:41,628]\u001b[0m Trial 18 finished with value: 3231421.625439491 and parameters: {'n_clusters': 215, 'sigma': 7.732722064073226}. Best is trial 10 with value: 1117071.872217189.\u001b[0m\n",
      "\u001b[32m[I 2022-06-22 21:06:44,717]\u001b[0m Trial 19 finished with value: 1263731436.0808375 and parameters: {'n_clusters': 247, 'sigma': 0.3929977095431232}. Best is trial 10 with value: 1117071.872217189.\u001b[0m\n",
      "\u001b[32m[I 2022-06-22 21:06:46,780]\u001b[0m Trial 20 finished with value: 13828011.923423856 and parameters: {'n_clusters': 155, 'sigma': 4.4737261309672}. Best is trial 10 with value: 1117071.872217189.\u001b[0m\n",
      "\u001b[32m[I 2022-06-22 21:06:50,101]\u001b[0m Trial 21 finished with value: 1270971.24798398 and parameters: {'n_clusters': 241, 'sigma': 9.68213525258934}. Best is trial 10 with value: 1117071.872217189.\u001b[0m\n",
      "\u001b[32m[I 2022-06-22 21:06:55,981]\u001b[0m Trial 22 finished with value: 1904177.8725486603 and parameters: {'n_clusters': 220, 'sigma': 9.179607424272124}. Best is trial 10 with value: 1117071.872217189.\u001b[0m\n",
      "\u001b[32m[I 2022-06-22 21:07:00,619]\u001b[0m Trial 23 finished with value: 1082949.2439616336 and parameters: {'n_clusters': 231, 'sigma': 9.975579066146466}. Best is trial 23 with value: 1082949.2439616336.\u001b[0m\n",
      "\u001b[32m[I 2022-06-22 21:07:03,906]\u001b[0m Trial 24 finished with value: 3215011.512444556 and parameters: {'n_clusters': 203, 'sigma': 7.962071731768109}. Best is trial 23 with value: 1082949.2439616336.\u001b[0m\n",
      "\u001b[32m[I 2022-06-22 21:07:08,617]\u001b[0m Trial 25 finished with value: 1643474.2061152982 and parameters: {'n_clusters': 228, 'sigma': 9.06653611586103}. Best is trial 23 with value: 1082949.2439616336.\u001b[0m\n",
      "\u001b[32m[I 2022-06-22 21:07:11,366]\u001b[0m Trial 26 finished with value: 5498324.457149131 and parameters: {'n_clusters': 66, 'sigma': 9.928849868030522}. Best is trial 23 with value: 1082949.2439616336.\u001b[0m\n",
      "\u001b[32m[I 2022-06-22 21:07:14,557]\u001b[0m Trial 27 finished with value: 4067826.6117602335 and parameters: {'n_clusters': 155, 'sigma': 7.7932155422399205}. Best is trial 23 with value: 1082949.2439616336.\u001b[0m\n",
      "\u001b[32m[I 2022-06-22 21:07:19,189]\u001b[0m Trial 28 finished with value: 2820539.987133582 and parameters: {'n_clusters': 191, 'sigma': 9.014365263379752}. Best is trial 23 with value: 1082949.2439616336.\u001b[0m\n",
      "\u001b[32m[I 2022-06-22 21:07:21,568]\u001b[0m Trial 29 finished with value: 7695129.6583951395 and parameters: {'n_clusters': 172, 'sigma': 5.903540878855039}. Best is trial 23 with value: 1082949.2439616336.\u001b[0m\n",
      "\u001b[32m[I 2022-06-22 21:07:25,194]\u001b[0m Trial 30 finished with value: 40623365.84102144 and parameters: {'n_clusters': 213, 'sigma': 2.140770083535426}. Best is trial 23 with value: 1082949.2439616336.\u001b[0m\n",
      "\u001b[32m[I 2022-06-22 21:07:27,931]\u001b[0m Trial 31 finished with value: 1404578.424622378 and parameters: {'n_clusters': 237, 'sigma': 9.483008547445586}. Best is trial 23 with value: 1082949.2439616336.\u001b[0m\n",
      "\u001b[32m[I 2022-06-22 21:07:30,667]\u001b[0m Trial 32 finished with value: 1830134.9400535834 and parameters: {'n_clusters': 239, 'sigma': 8.483277715435918}. Best is trial 23 with value: 1082949.2439616336.\u001b[0m\n",
      "\u001b[32m[I 2022-06-22 21:07:33,472]\u001b[0m Trial 33 finished with value: 1124238.2088866443 and parameters: {'n_clusters': 250, 'sigma': 9.999923469843324}. Best is trial 23 with value: 1082949.2439616336.\u001b[0m\n",
      "\u001b[32m[I 2022-06-22 21:07:36,280]\u001b[0m Trial 34 finished with value: 3058664.167170492 and parameters: {'n_clusters': 227, 'sigma': 7.544754720980645}. Best is trial 23 with value: 1082949.2439616336.\u001b[0m\n",
      "\u001b[32m[I 2022-06-22 21:07:39,186]\u001b[0m Trial 35 finished with value: 1705944.7040313527 and parameters: {'n_clusters': 250, 'sigma': 8.820654690581048}. Best is trial 23 with value: 1082949.2439616336.\u001b[0m\n",
      "\u001b[32m[I 2022-06-22 21:07:41,961]\u001b[0m Trial 36 finished with value: 1110990.2953708437 and parameters: {'n_clusters': 227, 'sigma': 9.956727278798075}. Best is trial 23 with value: 1082949.2439616336.\u001b[0m\n",
      "\u001b[32m[I 2022-06-22 21:07:44,669]\u001b[0m Trial 37 finished with value: 4368525.519795195 and parameters: {'n_clusters': 229, 'sigma': 6.718344657860178}. Best is trial 23 with value: 1082949.2439616336.\u001b[0m\n",
      "\u001b[32m[I 2022-06-22 21:07:47,123]\u001b[0m Trial 38 finished with value: 2098232.2412183974 and parameters: {'n_clusters': 200, 'sigma': 9.266611096332543}. Best is trial 23 with value: 1082949.2439616336.\u001b[0m\n",
      "\u001b[32m[I 2022-06-22 21:07:49,736]\u001b[0m Trial 39 finished with value: 12716309.491257649 and parameters: {'n_clusters': 224, 'sigma': 3.6130138827841094}. Best is trial 23 with value: 1082949.2439616336.\u001b[0m\n",
      "\u001b[32m[I 2022-06-22 21:07:52,011]\u001b[0m Trial 40 finished with value: 2782169.6121111764 and parameters: {'n_clusters': 182, 'sigma': 8.153242116677035}. Best is trial 23 with value: 1082949.2439616336.\u001b[0m\n",
      "\u001b[32m[I 2022-06-22 21:07:54,738]\u001b[0m Trial 41 finished with value: 1639229.8663297358 and parameters: {'n_clusters': 234, 'sigma': 9.576482386129637}. Best is trial 23 with value: 1082949.2439616336.\u001b[0m\n",
      "\u001b[32m[I 2022-06-22 21:07:57,269]\u001b[0m Trial 42 finished with value: 2173273.870568052 and parameters: {'n_clusters': 212, 'sigma': 9.499980909741652}. Best is trial 23 with value: 1082949.2439616336.\u001b[0m\n",
      "\u001b[32m[I 2022-06-22 21:07:59,988]\u001b[0m Trial 43 finished with value: 1312290.8321595076 and parameters: {'n_clusters': 239, 'sigma': 9.858253418311216}. Best is trial 23 with value: 1082949.2439616336.\u001b[0m\n",
      "\u001b[32m[I 2022-06-22 21:08:02,556]\u001b[0m Trial 44 finished with value: 1861350.9087172365 and parameters: {'n_clusters': 219, 'sigma': 8.857793967638495}. Best is trial 23 with value: 1082949.2439616336.\u001b[0m\n",
      "\u001b[32m[I 2022-06-22 21:08:05,345]\u001b[0m Trial 45 finished with value: 1682307.0710081914 and parameters: {'n_clusters': 247, 'sigma': 8.734324158083117}. Best is trial 23 with value: 1082949.2439616336.\u001b[0m\n",
      "\u001b[32m[I 2022-06-22 21:08:07,904]\u001b[0m Trial 46 finished with value: 1901409.1568959935 and parameters: {'n_clusters': 205, 'sigma': 9.93700372598249}. Best is trial 23 with value: 1082949.2439616336.\u001b[0m\n",
      "\u001b[32m[I 2022-06-22 21:08:08,767]\u001b[0m Trial 47 finished with value: 49813756.877494246 and parameters: {'n_clusters': 12, 'sigma': 9.387642902950038}. Best is trial 23 with value: 1082949.2439616336.\u001b[0m\n",
      "\u001b[32m[I 2022-06-22 21:08:10,532]\u001b[0m Trial 48 finished with value: 64708235.319546774 and parameters: {'n_clusters': 119, 'sigma': 1.918041414194906}. Best is trial 23 with value: 1082949.2439616336.\u001b[0m\n",
      "\u001b[32m[I 2022-06-22 21:08:12,967]\u001b[0m Trial 49 finished with value: 3713257.983405956 and parameters: {'n_clusters': 194, 'sigma': 7.269533847961757}. Best is trial 23 with value: 1082949.2439616336.\u001b[0m\n",
      "\u001b[32m[I 2022-06-22 21:08:15,625]\u001b[0m Trial 50 finished with value: 78658825.61914396 and parameters: {'n_clusters': 232, 'sigma': 1.3899718153902203}. Best is trial 23 with value: 1082949.2439616336.\u001b[0m\n",
      "\u001b[32m[I 2022-06-22 21:08:18,401]\u001b[0m Trial 51 finished with value: 1537737.8288107584 and parameters: {'n_clusters': 241, 'sigma': 9.429915692678634}. Best is trial 23 with value: 1082949.2439616336.\u001b[0m\n",
      "\u001b[32m[I 2022-06-22 21:08:21,270]\u001b[0m Trial 52 finished with value: 1194488.2820653734 and parameters: {'n_clusters': 250, 'sigma': 9.96170137136741}. Best is trial 23 with value: 1082949.2439616336.\u001b[0m\n",
      "\u001b[32m[I 2022-06-22 21:08:24,055]\u001b[0m Trial 53 finished with value: 1222094.5595073695 and parameters: {'n_clusters': 250, 'sigma': 9.958990288683916}. Best is trial 23 with value: 1082949.2439616336.\u001b[0m\n",
      "\u001b[32m[I 2022-06-22 21:08:26,698]\u001b[0m Trial 54 finished with value: 2402385.174101758 and parameters: {'n_clusters': 220, 'sigma': 8.305586269965204}. Best is trial 23 with value: 1082949.2439616336.\u001b[0m\n",
      "\u001b[32m[I 2022-06-22 21:08:29,360]\u001b[0m Trial 55 finished with value: 1788255.2424967862 and parameters: {'n_clusters': 231, 'sigma': 8.763170934414036}. Best is trial 23 with value: 1082949.2439616336.\u001b[0m\n",
      "\u001b[32m[I 2022-06-22 21:08:32,111]\u001b[0m Trial 56 finished with value: 1518923.1999869233 and parameters: {'n_clusters': 243, 'sigma': 9.58007496291559}. Best is trial 23 with value: 1082949.2439616336.\u001b[0m\n",
      "\u001b[32m[I 2022-06-22 21:08:33,972]\u001b[0m Trial 57 finished with value: 4176270.9510925063 and parameters: {'n_clusters': 137, 'sigma': 9.19789801099271}. Best is trial 23 with value: 1082949.2439616336.\u001b[0m\n",
      "\u001b[32m[I 2022-06-22 21:08:35,559]\u001b[0m Trial 58 finished with value: 5682207.305879567 and parameters: {'n_clusters': 96, 'sigma': 8.075100925693148}. Best is trial 23 with value: 1082949.2439616336.\u001b[0m\n",
      "\u001b[32m[I 2022-06-22 21:08:36,910]\u001b[0m Trial 59 finished with value: 21355425.120197367 and parameters: {'n_clusters': 71, 'sigma': 4.975419306022903}. Best is trial 23 with value: 1082949.2439616336.\u001b[0m\n",
      "\u001b[32m[I 2022-06-22 21:08:39,703]\u001b[0m Trial 60 finished with value: 1468382.3579252567 and parameters: {'n_clusters': 222, 'sigma': 9.942363644276124}. Best is trial 23 with value: 1082949.2439616336.\u001b[0m\n",
      "\u001b[32m[I 2022-06-22 21:08:42,572]\u001b[0m Trial 61 finished with value: 1213333.3409513691 and parameters: {'n_clusters': 250, 'sigma': 9.932115781800837}. Best is trial 23 with value: 1082949.2439616336.\u001b[0m\n",
      "\u001b[32m[I 2022-06-22 21:08:45,448]\u001b[0m Trial 62 finished with value: 1357426.9739480447 and parameters: {'n_clusters': 250, 'sigma': 9.661930750373669}. Best is trial 23 with value: 1082949.2439616336.\u001b[0m\n",
      "\u001b[32m[I 2022-06-22 21:08:48,145]\u001b[0m Trial 63 finished with value: 1641779.410602815 and parameters: {'n_clusters': 238, 'sigma': 9.196173175188108}. Best is trial 23 with value: 1082949.2439616336.\u001b[0m\n",
      "\u001b[32m[I 2022-06-22 21:08:50,656]\u001b[0m Trial 64 finished with value: 2140328.045663804 and parameters: {'n_clusters': 209, 'sigma': 8.640465604145737}. Best is trial 23 with value: 1082949.2439616336.\u001b[0m\n",
      "\u001b[32m[I 2022-06-22 21:08:53,410]\u001b[0m Trial 65 finished with value: 6322175.82529475 and parameters: {'n_clusters': 232, 'sigma': 5.425276956113004}. Best is trial 23 with value: 1082949.2439616336.\u001b[0m\n",
      "\u001b[32m[I 2022-06-22 21:08:56,230]\u001b[0m Trial 66 finished with value: 1360795.9887039661 and parameters: {'n_clusters': 243, 'sigma': 9.03793185010989}. Best is trial 23 with value: 1082949.2439616336.\u001b[0m\n",
      "\u001b[32m[I 2022-06-22 21:08:58,834]\u001b[0m Trial 67 finished with value: 1905079.7118206332 and parameters: {'n_clusters': 226, 'sigma': 9.683073353993787}. Best is trial 23 with value: 1082949.2439616336.\u001b[0m\n",
      "\u001b[32m[I 2022-06-22 21:09:01,401]\u001b[0m Trial 68 finished with value: 1523497.07232748 and parameters: {'n_clusters': 216, 'sigma': 9.363401013590568}. Best is trial 23 with value: 1082949.2439616336.\u001b[0m\n",
      "\u001b[32m[I 2022-06-22 21:09:04,234]\u001b[0m Trial 69 finished with value: 10237191.608510638 and parameters: {'n_clusters': 244, 'sigma': 4.199916828211938}. Best is trial 23 with value: 1082949.2439616336.\u001b[0m\n",
      "\u001b[32m[I 2022-06-22 21:09:06,430]\u001b[0m Trial 70 finished with value: 2450128.1224982683 and parameters: {'n_clusters': 167, 'sigma': 9.989481635442825}. Best is trial 23 with value: 1082949.2439616336.\u001b[0m\n",
      "\u001b[32m[I 2022-06-22 21:09:09,235]\u001b[0m Trial 71 finished with value: 1176133.8824182404 and parameters: {'n_clusters': 249, 'sigma': 9.955893467816198}. Best is trial 23 with value: 1082949.2439616336.\u001b[0m\n",
      "\u001b[32m[I 2022-06-22 21:09:12,106]\u001b[0m Trial 72 finished with value: 1314192.2411052245 and parameters: {'n_clusters': 236, 'sigma': 9.632044422938057}. Best is trial 23 with value: 1082949.2439616336.\u001b[0m\n",
      "\u001b[32m[I 2022-06-22 21:09:14,986]\u001b[0m Trial 73 finished with value: 1311428.0141362068 and parameters: {'n_clusters': 250, 'sigma': 8.985576213179801}. Best is trial 23 with value: 1082949.2439616336.\u001b[0m\n",
      "\u001b[32m[I 2022-06-22 21:09:17,643]\u001b[0m Trial 74 finished with value: 1103620.5803531085 and parameters: {'n_clusters': 226, 'sigma': 9.676404698390803}. Best is trial 23 with value: 1082949.2439616336.\u001b[0m\n",
      "\u001b[32m[I 2022-06-22 21:09:19,975]\u001b[0m Trial 75 finished with value: 2811646.7678305013 and parameters: {'n_clusters': 187, 'sigma': 9.317715479574066}. Best is trial 23 with value: 1082949.2439616336.\u001b[0m\n",
      "\u001b[32m[I 2022-06-22 21:09:22,630]\u001b[0m Trial 76 finished with value: 2320555.0335855708 and parameters: {'n_clusters': 225, 'sigma': 8.45269881759685}. Best is trial 23 with value: 1082949.2439616336.\u001b[0m\n",
      "\u001b[32m[I 2022-06-22 21:09:25,326]\u001b[0m Trial 77 finished with value: 1421908.9226908523 and parameters: {'n_clusters': 232, 'sigma': 9.679596333990665}. Best is trial 23 with value: 1082949.2439616336.\u001b[0m\n",
      "\u001b[32m[I 2022-06-22 21:09:27,933]\u001b[0m Trial 78 finished with value: 1971081.3495267518 and parameters: {'n_clusters': 204, 'sigma': 9.075334296440989}. Best is trial 23 with value: 1082949.2439616336.\u001b[0m\n",
      "\u001b[32m[I 2022-06-22 21:09:30,685]\u001b[0m Trial 79 finished with value: 1737508.2254438759 and parameters: {'n_clusters': 215, 'sigma': 9.639126498463257}. Best is trial 23 with value: 1082949.2439616336.\u001b[0m\n",
      "\u001b[32m[I 2022-06-22 21:09:33,479]\u001b[0m Trial 80 finished with value: 4134912.40120384 and parameters: {'n_clusters': 240, 'sigma': 6.4798157972833295}. Best is trial 23 with value: 1082949.2439616336.\u001b[0m\n",
      "\u001b[32m[I 2022-06-22 21:09:36,258]\u001b[0m Trial 81 finished with value: 1064060.1659113776 and parameters: {'n_clusters': 244, 'sigma': 9.821692606062829}. Best is trial 81 with value: 1064060.1659113776.\u001b[0m\n",
      "\u001b[32m[I 2022-06-22 21:09:38,988]\u001b[0m Trial 82 finished with value: 1544176.9757947265 and parameters: {'n_clusters': 235, 'sigma': 9.458561197162908}. Best is trial 81 with value: 1064060.1659113776.\u001b[0m\n",
      "\u001b[32m[I 2022-06-22 21:09:41,747]\u001b[0m Trial 83 finished with value: 1350270.9906920146 and parameters: {'n_clusters': 243, 'sigma': 9.784922656855336}. Best is trial 81 with value: 1064060.1659113776.\u001b[0m\n",
      "\u001b[32m[I 2022-06-22 21:09:44,437]\u001b[0m Trial 84 finished with value: 1784719.190275175 and parameters: {'n_clusters': 230, 'sigma': 9.304462890652543}. Best is trial 81 with value: 1064060.1659113776.\u001b[0m\n",
      "\u001b[32m[I 2022-06-22 21:09:47,063]\u001b[0m Trial 85 finished with value: 2217827.159627382 and parameters: {'n_clusters': 223, 'sigma': 8.868167262750818}. Best is trial 81 with value: 1064060.1659113776.\u001b[0m\n",
      "\u001b[32m[I 2022-06-22 21:09:49,835]\u001b[0m Trial 86 finished with value: 1190421.3202759528 and parameters: {'n_clusters': 244, 'sigma': 9.993567942198915}. Best is trial 81 with value: 1064060.1659113776.\u001b[0m\n",
      "\u001b[32m[I 2022-06-22 21:09:52,637]\u001b[0m Trial 87 finished with value: 1619707.5113550234 and parameters: {'n_clusters': 244, 'sigma': 9.75920232163008}. Best is trial 81 with value: 1064060.1659113776.\u001b[0m\n",
      "\u001b[32m[I 2022-06-22 21:09:55,326]\u001b[0m Trial 88 finished with value: 1709463.1385844387 and parameters: {'n_clusters': 236, 'sigma': 8.636805821640174}. Best is trial 81 with value: 1064060.1659113776.\u001b[0m\n",
      "\u001b[32m[I 2022-06-22 21:09:57,771]\u001b[0m Trial 89 finished with value: 2695793.399354586 and parameters: {'n_clusters': 198, 'sigma': 9.442611916796265}. Best is trial 81 with value: 1064060.1659113776.\u001b[0m\n",
      "\u001b[32m[I 2022-06-22 21:10:00,352]\u001b[0m Trial 90 finished with value: 2166734.601149531 and parameters: {'n_clusters': 211, 'sigma': 9.06787189016247}. Best is trial 81 with value: 1064060.1659113776.\u001b[0m\n",
      "\u001b[32m[I 2022-06-22 21:10:03,506]\u001b[0m Trial 91 finished with value: 1448280.4043934701 and parameters: {'n_clusters': 245, 'sigma': 9.797927057613602}. Best is trial 81 with value: 1064060.1659113776.\u001b[0m\n",
      "\u001b[32m[I 2022-06-22 21:10:06,195]\u001b[0m Trial 92 finished with value: 1452190.3525318722 and parameters: {'n_clusters': 228, 'sigma': 9.526678720634376}. Best is trial 81 with value: 1064060.1659113776.\u001b[0m\n",
      "\u001b[32m[I 2022-06-22 21:10:08,860]\u001b[0m Trial 93 finished with value: 20133926.292114846 and parameters: {'n_clusters': 238, 'sigma': 3.01308096622129}. Best is trial 81 with value: 1064060.1659113776.\u001b[0m\n",
      "\u001b[32m[I 2022-06-22 21:10:11,723]\u001b[0m Trial 94 finished with value: 1209572.2731045564 and parameters: {'n_clusters': 246, 'sigma': 9.98448264838804}. Best is trial 81 with value: 1064060.1659113776.\u001b[0m\n",
      "\u001b[32m[I 2022-06-22 21:10:14,344]\u001b[0m Trial 95 finished with value: 1399694.4912284384 and parameters: {'n_clusters': 218, 'sigma': 9.920939923953563}. Best is trial 81 with value: 1064060.1659113776.\u001b[0m\n",
      "\u001b[32m[I 2022-06-22 21:10:17,105]\u001b[0m Trial 96 finished with value: 1137557.3328288277 and parameters: {'n_clusters': 246, 'sigma': 9.247179825643853}. Best is trial 81 with value: 1064060.1659113776.\u001b[0m\n",
      "\u001b[32m[I 2022-06-22 21:10:19,935]\u001b[0m Trial 97 finished with value: 1791183.9788562753 and parameters: {'n_clusters': 235, 'sigma': 9.231046978397607}. Best is trial 81 with value: 1064060.1659113776.\u001b[0m\n",
      "\u001b[32m[I 2022-06-22 21:10:22,620]\u001b[0m Trial 98 finished with value: 1815644.196414714 and parameters: {'n_clusters': 227, 'sigma': 8.899271246022476}. Best is trial 81 with value: 1064060.1659113776.\u001b[0m\n",
      "\u001b[32m[I 2022-06-22 21:10:25,362]\u001b[0m Trial 99 finished with value: 1491345.8504218427 and parameters: {'n_clusters': 240, 'sigma': 9.72521482148012}. Best is trial 81 with value: 1064060.1659113776.\u001b[0m\n",
      "\u001b[32m[I 2022-06-22 21:10:28,160]\u001b[0m Trial 100 finished with value: 1800749.3180511114 and parameters: {'n_clusters': 246, 'sigma': 8.314456296355704}. Best is trial 81 with value: 1064060.1659113776.\u001b[0m\n",
      "\u001b[32m[I 2022-06-22 21:10:30,986]\u001b[0m Trial 101 finished with value: 9564227856839.941 and parameters: {'n_clusters': 246, 'sigma': 0.11936394651070525}. Best is trial 81 with value: 1064060.1659113776.\u001b[0m\n",
      "\u001b[32m[I 2022-06-22 21:10:33,679]\u001b[0m Trial 102 finished with value: 1491635.249604499 and parameters: {'n_clusters': 234, 'sigma': 9.959581021933177}. Best is trial 81 with value: 1064060.1659113776.\u001b[0m\n",
      "\u001b[32m[I 2022-06-22 21:10:36,457]\u001b[0m Trial 103 finished with value: 1559289.3133272203 and parameters: {'n_clusters': 250, 'sigma': 9.44639544689873}. Best is trial 81 with value: 1064060.1659113776.\u001b[0m\n",
      "\u001b[32m[I 2022-06-22 21:10:39,228]\u001b[0m Trial 104 finished with value: 1467719.0254449085 and parameters: {'n_clusters': 239, 'sigma': 9.75919100829757}. Best is trial 81 with value: 1064060.1659113776.\u001b[0m\n",
      "\u001b[32m[I 2022-06-22 21:10:41,897]\u001b[0m Trial 105 finished with value: 1542607.8376004917 and parameters: {'n_clusters': 222, 'sigma': 9.223647842908235}. Best is trial 81 with value: 1064060.1659113776.\u001b[0m\n",
      "\u001b[32m[I 2022-06-22 21:10:44,675]\u001b[0m Trial 106 finished with value: 1138293.9067228832 and parameters: {'n_clusters': 245, 'sigma': 9.978138209053585}. Best is trial 81 with value: 1064060.1659113776.\u001b[0m\n",
      "\u001b[32m[I 2022-06-22 21:10:47,294]\u001b[0m Trial 107 finished with value: 2057787.8470753378 and parameters: {'n_clusters': 230, 'sigma': 9.491379551691555}. Best is trial 81 with value: 1064060.1659113776.\u001b[0m\n",
      "\u001b[32m[I 2022-06-22 21:10:48,421]\u001b[0m Trial 108 finished with value: 8617714.491102722 and parameters: {'n_clusters': 44, 'sigma': 9.999313648477361}. Best is trial 81 with value: 1064060.1659113776.\u001b[0m\n",
      "\u001b[32m[I 2022-06-22 21:10:51,223]\u001b[0m Trial 109 finished with value: 1381312.6520119156 and parameters: {'n_clusters': 241, 'sigma': 9.604545706347269}. Best is trial 81 with value: 1064060.1659113776.\u001b[0m\n",
      "\u001b[32m[I 2022-06-22 21:10:54,213]\u001b[0m Trial 110 finished with value: 985214.3134089913 and parameters: {'n_clusters': 250, 'sigma': 9.775801565170836}. Best is trial 110 with value: 985214.3134089913.\u001b[0m\n",
      "\u001b[32m[I 2022-06-22 21:10:56,984]\u001b[0m Trial 111 finished with value: 1424007.8392082886 and parameters: {'n_clusters': 246, 'sigma': 9.7568993051702}. Best is trial 110 with value: 985214.3134089913.\u001b[0m\n",
      "\u001b[32m[I 2022-06-22 21:10:59,781]\u001b[0m Trial 112 finished with value: 1183588.0714238356 and parameters: {'n_clusters': 250, 'sigma': 9.287012942035371}. Best is trial 110 with value: 985214.3134089913.\u001b[0m\n",
      "\u001b[32m[I 2022-06-22 21:11:02,444]\u001b[0m Trial 113 finished with value: 1604202.0271249902 and parameters: {'n_clusters': 234, 'sigma': 9.311910406133741}. Best is trial 110 with value: 985214.3134089913.\u001b[0m\n",
      "\u001b[32m[I 2022-06-22 21:11:05,224]\u001b[0m Trial 114 finished with value: 1494745.0265794103 and parameters: {'n_clusters': 240, 'sigma': 9.06144754012344}. Best is trial 110 with value: 985214.3134089913.\u001b[0m\n",
      "\u001b[32m[I 2022-06-22 21:11:07,883]\u001b[0m Trial 115 finished with value: 1577111.3040953237 and parameters: {'n_clusters': 226, 'sigma': 9.549971085541843}. Best is trial 110 with value: 985214.3134089913.\u001b[0m\n",
      "\u001b[32m[I 2022-06-22 21:11:10,668]\u001b[0m Trial 116 finished with value: 1942632.4106931821 and parameters: {'n_clusters': 250, 'sigma': 8.648857603963837}. Best is trial 110 with value: 985214.3134089913.\u001b[0m\n",
      "\u001b[32m[I 2022-06-22 21:11:13,471]\u001b[0m Trial 117 finished with value: 1375713.3153405471 and parameters: {'n_clusters': 243, 'sigma': 9.339026595235655}. Best is trial 110 with value: 985214.3134089913.\u001b[0m\n",
      "\u001b[32m[I 2022-06-22 21:11:16,149]\u001b[0m Trial 118 finished with value: 1680397.9556110264 and parameters: {'n_clusters': 230, 'sigma': 9.754768353020376}. Best is trial 110 with value: 985214.3134089913.\u001b[0m\n",
      "\u001b[32m[I 2022-06-22 21:11:17,944]\u001b[0m Trial 119 finished with value: 4665883.051701557 and parameters: {'n_clusters': 111, 'sigma': 8.909512354856622}. Best is trial 110 with value: 985214.3134089913.\u001b[0m\n",
      "\u001b[32m[I 2022-06-22 21:11:20,689]\u001b[0m Trial 120 finished with value: 1830084.9640310858 and parameters: {'n_clusters': 237, 'sigma': 9.576352176627491}. Best is trial 110 with value: 985214.3134089913.\u001b[0m\n",
      "\u001b[32m[I 2022-06-22 21:11:23,521]\u001b[0m Trial 121 finished with value: 1925042.256645388 and parameters: {'n_clusters': 250, 'sigma': 9.819447417225744}. Best is trial 110 with value: 985214.3134089913.\u001b[0m\n",
      "\u001b[32m[I 2022-06-22 21:11:26,311]\u001b[0m Trial 122 finished with value: 1453150.3220282998 and parameters: {'n_clusters': 244, 'sigma': 9.984406129358966}. Best is trial 110 with value: 985214.3134089913.\u001b[0m\n",
      "\u001b[32m[I 2022-06-22 21:11:29,099]\u001b[0m Trial 123 finished with value: 1870720.8349757034 and parameters: {'n_clusters': 241, 'sigma': 9.172566435772142}. Best is trial 110 with value: 985214.3134089913.\u001b[0m\n",
      "\u001b[32m[I 2022-06-22 21:11:31,821]\u001b[0m Trial 124 finished with value: 1387785.9660191583 and parameters: {'n_clusters': 234, 'sigma': 9.566915642888162}. Best is trial 110 with value: 985214.3134089913.\u001b[0m\n",
      "\u001b[32m[I 2022-06-22 21:11:34,672]\u001b[0m Trial 125 finished with value: 990622.8655739969 and parameters: {'n_clusters': 250, 'sigma': 9.753339918434246}. Best is trial 110 with value: 985214.3134089913.\u001b[0m\n",
      "\u001b[32m[I 2022-06-22 21:11:37,275]\u001b[0m Trial 126 finished with value: 1682805.1602488228 and parameters: {'n_clusters': 220, 'sigma': 9.380494556886589}. Best is trial 110 with value: 985214.3134089913.\u001b[0m\n",
      "\u001b[32m[I 2022-06-22 21:11:39,223]\u001b[0m Trial 127 finished with value: 2777364.9521047007 and parameters: {'n_clusters': 142, 'sigma': 9.751969599015803}. Best is trial 110 with value: 985214.3134089913.\u001b[0m\n",
      "\u001b[32m[I 2022-06-22 21:11:42,047]\u001b[0m Trial 128 finished with value: 1397482.0892618129 and parameters: {'n_clusters': 246, 'sigma': 9.175445278406793}. Best is trial 110 with value: 985214.3134089913.\u001b[0m\n",
      "\u001b[32m[I 2022-06-22 21:11:44,804]\u001b[0m Trial 129 finished with value: 1444085.3303195634 and parameters: {'n_clusters': 239, 'sigma': 9.61378492776173}. Best is trial 110 with value: 985214.3134089913.\u001b[0m\n",
      "\u001b[32m[I 2022-06-22 21:11:47,462]\u001b[0m Trial 130 finished with value: 1636663.1588313987 and parameters: {'n_clusters': 231, 'sigma': 9.440435088098859}. Best is trial 110 with value: 985214.3134089913.\u001b[0m\n",
      "\u001b[32m[I 2022-06-22 21:11:50,311]\u001b[0m Trial 131 finished with value: 1289742.33279558 and parameters: {'n_clusters': 250, 'sigma': 9.986957740638895}. Best is trial 110 with value: 985214.3134089913.\u001b[0m\n",
      "\u001b[32m[I 2022-06-22 21:11:53,171]\u001b[0m Trial 132 finished with value: 113883385.78614941 and parameters: {'n_clusters': 245, 'sigma': 0.9877838544927311}. Best is trial 110 with value: 985214.3134089913.\u001b[0m\n",
      "\u001b[32m[I 2022-06-22 21:11:56,076]\u001b[0m Trial 133 finished with value: 990532.5198554385 and parameters: {'n_clusters': 250, 'sigma': 9.796419494185782}. Best is trial 110 with value: 985214.3134089913.\u001b[0m\n",
      "\u001b[32m[I 2022-06-22 21:11:58,879]\u001b[0m Trial 134 finished with value: 1441285.2788750827 and parameters: {'n_clusters': 237, 'sigma': 9.774955137968156}. Best is trial 110 with value: 985214.3134089913.\u001b[0m\n",
      "\u001b[32m[I 2022-06-22 21:12:01,639]\u001b[0m Trial 135 finished with value: 1430680.6267235992 and parameters: {'n_clusters': 242, 'sigma': 9.787082796332369}. Best is trial 110 with value: 985214.3134089913.\u001b[0m\n",
      "\u001b[32m[I 2022-06-22 21:12:04,371]\u001b[0m Trial 136 finished with value: 1287123.9275725584 and parameters: {'n_clusters': 245, 'sigma': 9.356515905636314}. Best is trial 110 with value: 985214.3134089913.\u001b[0m\n",
      "\u001b[32m[I 2022-06-22 21:12:07,113]\u001b[0m Trial 137 finished with value: 1466314.3482609265 and parameters: {'n_clusters': 226, 'sigma': 9.578055260682948}. Best is trial 110 with value: 985214.3134089913.\u001b[0m\n",
      "\u001b[32m[I 2022-06-22 21:12:09,910]\u001b[0m Trial 138 finished with value: 1475953.2331622543 and parameters: {'n_clusters': 250, 'sigma': 8.985311042250574}. Best is trial 110 with value: 985214.3134089913.\u001b[0m\n",
      "\u001b[32m[I 2022-06-22 21:12:12,609]\u001b[0m Trial 139 finished with value: 1684812.460658128 and parameters: {'n_clusters': 235, 'sigma': 9.808876062355898}. Best is trial 110 with value: 985214.3134089913.\u001b[0m\n",
      "\u001b[32m[I 2022-06-22 21:12:15,388]\u001b[0m Trial 140 finished with value: 2954986.4975520372 and parameters: {'n_clusters': 241, 'sigma': 7.1807836904735485}. Best is trial 110 with value: 985214.3134089913.\u001b[0m\n",
      "\u001b[32m[I 2022-06-22 21:12:18,267]\u001b[0m Trial 141 finished with value: 1111915.4456469507 and parameters: {'n_clusters': 250, 'sigma': 9.95748447893702}. Best is trial 110 with value: 985214.3134089913.\u001b[0m\n",
      "\u001b[32m[I 2022-06-22 21:12:21,042]\u001b[0m Trial 142 finished with value: 6345895.996640526 and parameters: {'n_clusters': 247, 'sigma': 5.296974177217318}. Best is trial 110 with value: 985214.3134089913.\u001b[0m\n",
      "\u001b[32m[I 2022-06-22 21:12:23,825]\u001b[0m Trial 143 finished with value: 1093888.680289355 and parameters: {'n_clusters': 239, 'sigma': 9.97010883149485}. Best is trial 110 with value: 985214.3134089913.\u001b[0m\n",
      "\u001b[32m[I 2022-06-22 21:12:26,489]\u001b[0m Trial 144 finished with value: 1455134.5818708474 and parameters: {'n_clusters': 232, 'sigma': 9.60475022219029}. Best is trial 110 with value: 985214.3134089913.\u001b[0m\n",
      "\u001b[32m[I 2022-06-22 21:12:28,628]\u001b[0m Trial 145 finished with value: 2587843.9841703395 and parameters: {'n_clusters': 163, 'sigma': 9.80480336637429}. Best is trial 110 with value: 985214.3134089913.\u001b[0m\n",
      "\u001b[32m[I 2022-06-22 21:12:31,335]\u001b[0m Trial 146 finished with value: 1232322.0859993743 and parameters: {'n_clusters': 240, 'sigma': 9.309068445323067}. Best is trial 110 with value: 985214.3134089913.\u001b[0m\n",
      "\u001b[32m[I 2022-06-22 21:12:34,113]\u001b[0m Trial 147 finished with value: 1183718.5384574002 and parameters: {'n_clusters': 250, 'sigma': 9.522677559443734}. Best is trial 110 with value: 985214.3134089913.\u001b[0m\n",
      "\u001b[32m[I 2022-06-22 21:12:37,004]\u001b[0m Trial 148 finished with value: 1447307.2620590867 and parameters: {'n_clusters': 236, 'sigma': 9.79260190905538}. Best is trial 110 with value: 985214.3134089913.\u001b[0m\n",
      "\u001b[32m[I 2022-06-22 21:12:39,805]\u001b[0m Trial 149 finished with value: 1021006.6396899662 and parameters: {'n_clusters': 246, 'sigma': 9.989303546897412}. Best is trial 110 with value: 985214.3134089913.\u001b[0m\n",
      "\u001b[32m[I 2022-06-22 21:12:42,572]\u001b[0m Trial 150 finished with value: 1225264.9773380575 and parameters: {'n_clusters': 228, 'sigma': 9.976447141321778}. Best is trial 110 with value: 985214.3134089913.\u001b[0m\n",
      "\u001b[32m[I 2022-06-22 21:12:45,340]\u001b[0m Trial 151 finished with value: 1234683.4709706972 and parameters: {'n_clusters': 245, 'sigma': 9.64323769397502}. Best is trial 110 with value: 985214.3134089913.\u001b[0m\n",
      "\u001b[32m[I 2022-06-22 21:12:48,110]\u001b[0m Trial 152 finished with value: 1206597.9296928085 and parameters: {'n_clusters': 240, 'sigma': 9.421304537854319}. Best is trial 110 with value: 985214.3134089913.\u001b[0m\n",
      "\u001b[32m[I 2022-06-22 21:12:50,974]\u001b[0m Trial 153 finished with value: 1281281.352277676 and parameters: {'n_clusters': 250, 'sigma': 9.833762603573753}. Best is trial 110 with value: 985214.3134089913.\u001b[0m\n",
      "\u001b[32m[I 2022-06-22 21:12:53,752]\u001b[0m Trial 154 finished with value: 1406144.1365015935 and parameters: {'n_clusters': 244, 'sigma': 9.16632945913697}. Best is trial 110 with value: 985214.3134089913.\u001b[0m\n",
      "\u001b[32m[I 2022-06-22 21:12:56,440]\u001b[0m Trial 155 finished with value: 1389510.943989512 and parameters: {'n_clusters': 237, 'sigma': 9.979501059028994}. Best is trial 110 with value: 985214.3134089913.\u001b[0m\n",
      "\u001b[32m[I 2022-06-22 21:12:59,272]\u001b[0m Trial 156 finished with value: 1316045.1959154592 and parameters: {'n_clusters': 246, 'sigma': 9.999099788989321}. Best is trial 110 with value: 985214.3134089913.\u001b[0m\n",
      "\u001b[32m[I 2022-06-22 21:13:02,026]\u001b[0m Trial 157 finished with value: 1473062.3644236522 and parameters: {'n_clusters': 231, 'sigma': 9.64307355875685}. Best is trial 110 with value: 985214.3134089913.\u001b[0m\n",
      "\u001b[32m[I 2022-06-22 21:13:04,697]\u001b[0m Trial 158 finished with value: 1437569.9377184738 and parameters: {'n_clusters': 223, 'sigma': 9.43540818877362}. Best is trial 110 with value: 985214.3134089913.\u001b[0m\n",
      "\u001b[32m[I 2022-06-22 21:13:07,510]\u001b[0m Trial 159 finished with value: 1191439.6116608705 and parameters: {'n_clusters': 241, 'sigma': 9.718028278099565}. Best is trial 110 with value: 985214.3134089913.\u001b[0m\n",
      "\u001b[32m[I 2022-06-22 21:13:10,321]\u001b[0m Trial 160 finished with value: 1502429.1664888752 and parameters: {'n_clusters': 236, 'sigma': 9.179058928622485}. Best is trial 110 with value: 985214.3134089913.\u001b[0m\n",
      "\u001b[32m[I 2022-06-22 21:13:13,307]\u001b[0m Trial 161 finished with value: 1530534.3582733949 and parameters: {'n_clusters': 249, 'sigma': 9.525784211976848}. Best is trial 110 with value: 985214.3134089913.\u001b[0m\n",
      "\u001b[32m[I 2022-06-22 21:13:16,118]\u001b[0m Trial 162 finished with value: 1593433.3072863948 and parameters: {'n_clusters': 247, 'sigma': 9.643966521697818}. Best is trial 110 with value: 985214.3134089913.\u001b[0m\n",
      "\u001b[32m[I 2022-06-22 21:13:18,929]\u001b[0m Trial 163 finished with value: 1128211.174144429 and parameters: {'n_clusters': 250, 'sigma': 9.842150873864025}. Best is trial 110 with value: 985214.3134089913.\u001b[0m\n",
      "\u001b[32m[I 2022-06-22 21:13:21,679]\u001b[0m Trial 164 finished with value: 1737151.3617128488 and parameters: {'n_clusters': 242, 'sigma': 9.818250667931416}. Best is trial 110 with value: 985214.3134089913.\u001b[0m\n",
      "\u001b[32m[I 2022-06-22 21:13:24,515]\u001b[0m Trial 165 finished with value: 1191781.2987430417 and parameters: {'n_clusters': 250, 'sigma': 9.804452072743754}. Best is trial 110 with value: 985214.3134089913.\u001b[0m\n",
      "\u001b[32m[I 2022-06-22 21:13:27,420]\u001b[0m Trial 166 finished with value: 1210909.443961051 and parameters: {'n_clusters': 244, 'sigma': 9.38317464046058}. Best is trial 110 with value: 985214.3134089913.\u001b[0m\n",
      "\u001b[32m[I 2022-06-22 21:13:30,238]\u001b[0m Trial 167 finished with value: 1275211.7604632562 and parameters: {'n_clusters': 238, 'sigma': 9.989788620649938}. Best is trial 110 with value: 985214.3134089913.\u001b[0m\n",
      "\u001b[32m[I 2022-06-22 21:13:32,996]\u001b[0m Trial 168 finished with value: 1819687.9089647844 and parameters: {'n_clusters': 233, 'sigma': 9.636873133315937}. Best is trial 110 with value: 985214.3134089913.\u001b[0m\n",
      "\u001b[32m[I 2022-06-22 21:13:35,828]\u001b[0m Trial 169 finished with value: 1472951.1506475974 and parameters: {'n_clusters': 244, 'sigma': 9.791745375954658}. Best is trial 110 with value: 985214.3134089913.\u001b[0m\n",
      "\u001b[32m[I 2022-06-22 21:13:38,748]\u001b[0m Trial 170 finished with value: 1616274.9654043238 and parameters: {'n_clusters': 250, 'sigma': 9.280088997366272}. Best is trial 110 with value: 985214.3134089913.\u001b[0m\n",
      "\u001b[32m[I 2022-06-22 21:13:41,607]\u001b[0m Trial 171 finished with value: 1283728.3655610667 and parameters: {'n_clusters': 247, 'sigma': 9.522925965342068}. Best is trial 110 with value: 985214.3134089913.\u001b[0m\n",
      "\u001b[32m[I 2022-06-22 21:13:44,444]\u001b[0m Trial 172 finished with value: 1500541.4268216034 and parameters: {'n_clusters': 250, 'sigma': 9.993029183536631}. Best is trial 110 with value: 985214.3134089913.\u001b[0m\n",
      "\u001b[32m[I 2022-06-22 21:13:47,245]\u001b[0m Trial 173 finished with value: 1435753.1334114783 and parameters: {'n_clusters': 241, 'sigma': 9.528346004868798}. Best is trial 110 with value: 985214.3134089913.\u001b[0m\n",
      "\u001b[32m[I 2022-06-22 21:13:50,001]\u001b[0m Trial 174 finished with value: 9465103.356031083 and parameters: {'n_clusters': 238, 'sigma': 4.552323986392114}. Best is trial 110 with value: 985214.3134089913.\u001b[0m\n",
      "\u001b[32m[I 2022-06-22 21:13:51,458]\u001b[0m Trial 175 finished with value: 4730069.164294596 and parameters: {'n_clusters': 83, 'sigma': 9.710993088214238}. Best is trial 110 with value: 985214.3134089913.\u001b[0m\n",
      "\u001b[32m[I 2022-06-22 21:13:54,250]\u001b[0m Trial 176 finished with value: 1512627.4541487056 and parameters: {'n_clusters': 245, 'sigma': 8.969699654479866}. Best is trial 110 with value: 985214.3134089913.\u001b[0m\n",
      "\u001b[32m[I 2022-06-22 21:13:57,111]\u001b[0m Trial 177 finished with value: 1168734.2034490192 and parameters: {'n_clusters': 250, 'sigma': 9.435233524199205}. Best is trial 110 with value: 985214.3134089913.\u001b[0m\n",
      "\u001b[32m[I 2022-06-22 21:13:59,884]\u001b[0m Trial 178 finished with value: 1370446.0679058041 and parameters: {'n_clusters': 233, 'sigma': 9.816336251663024}. Best is trial 110 with value: 985214.3134089913.\u001b[0m\n",
      "\u001b[32m[I 2022-06-22 21:14:02,668]\u001b[0m Trial 179 finished with value: 4162315.49965302 and parameters: {'n_clusters': 242, 'sigma': 6.059917349986785}. Best is trial 110 with value: 985214.3134089913.\u001b[0m\n",
      "\u001b[32m[I 2022-06-22 21:14:05,435]\u001b[0m Trial 180 finished with value: 1682106.071592776 and parameters: {'n_clusters': 238, 'sigma': 9.305335475125453}. Best is trial 110 with value: 985214.3134089913.\u001b[0m\n",
      "\u001b[32m[I 2022-06-22 21:14:08,345]\u001b[0m Trial 181 finished with value: 1919907.984947043 and parameters: {'n_clusters': 250, 'sigma': 9.519409134330191}. Best is trial 110 with value: 985214.3134089913.\u001b[0m\n",
      "\u001b[32m[I 2022-06-22 21:14:11,197]\u001b[0m Trial 182 finished with value: 957214.7520010518 and parameters: {'n_clusters': 246, 'sigma': 9.984280712835586}. Best is trial 182 with value: 957214.7520010518.\u001b[0m\n",
      "\u001b[32m[I 2022-06-22 21:14:14,051]\u001b[0m Trial 183 finished with value: 1126660.6453490905 and parameters: {'n_clusters': 245, 'sigma': 9.841952641214219}. Best is trial 182 with value: 957214.7520010518.\u001b[0m\n",
      "\u001b[32m[I 2022-06-22 21:14:16,823]\u001b[0m Trial 184 finished with value: 1100575.6369484433 and parameters: {'n_clusters': 243, 'sigma': 9.984695111351648}. Best is trial 182 with value: 957214.7520010518.\u001b[0m\n",
      "\u001b[32m[I 2022-06-22 21:14:19,604]\u001b[0m Trial 185 finished with value: 1041086.8327419438 and parameters: {'n_clusters': 243, 'sigma': 9.787415244033987}. Best is trial 182 with value: 957214.7520010518.\u001b[0m\n",
      "\u001b[32m[I 2022-06-22 21:14:22,351]\u001b[0m Trial 186 finished with value: 1158019.6351733261 and parameters: {'n_clusters': 230, 'sigma': 9.844141752152424}. Best is trial 182 with value: 957214.7520010518.\u001b[0m\n",
      "\u001b[32m[I 2022-06-22 21:14:25,155]\u001b[0m Trial 187 finished with value: 1124162.0803585052 and parameters: {'n_clusters': 242, 'sigma': 9.993228968965493}. Best is trial 182 with value: 957214.7520010518.\u001b[0m\n",
      "\u001b[32m[I 2022-06-22 21:14:27,857]\u001b[0m Trial 188 finished with value: 1445073.836360947 and parameters: {'n_clusters': 235, 'sigma': 9.669191466948101}. Best is trial 182 with value: 957214.7520010518.\u001b[0m\n",
      "\u001b[32m[I 2022-06-22 21:14:30,654]\u001b[0m Trial 189 finished with value: 1345795.7736195466 and parameters: {'n_clusters': 239, 'sigma': 9.811023003601225}. Best is trial 182 with value: 957214.7520010518.\u001b[0m\n",
      "\u001b[32m[I 2022-06-22 21:14:33,444]\u001b[0m Trial 190 finished with value: 1077089.9907630854 and parameters: {'n_clusters': 226, 'sigma': 9.991136069882861}. Best is trial 182 with value: 957214.7520010518.\u001b[0m\n",
      "\u001b[32m[I 2022-06-22 21:14:36,095]\u001b[0m Trial 191 finished with value: 1354392.9976129853 and parameters: {'n_clusters': 225, 'sigma': 9.828114934280666}. Best is trial 182 with value: 957214.7520010518.\u001b[0m\n",
      "\u001b[32m[I 2022-06-22 21:14:38,665]\u001b[0m Trial 192 finished with value: 1641366.9742462807 and parameters: {'n_clusters': 214, 'sigma': 9.950850165501155}. Best is trial 182 with value: 957214.7520010518.\u001b[0m\n",
      "\u001b[32m[I 2022-06-22 21:14:41,418]\u001b[0m Trial 193 finished with value: 1377435.122781447 and parameters: {'n_clusters': 243, 'sigma': 9.69181502305311}. Best is trial 182 with value: 957214.7520010518.\u001b[0m\n",
      "\u001b[32m[I 2022-06-22 21:14:44,125]\u001b[0m Trial 194 finished with value: 1605336.6549841543 and parameters: {'n_clusters': 227, 'sigma': 9.669904774781072}. Best is trial 182 with value: 957214.7520010518.\u001b[0m\n",
      "\u001b[32m[I 2022-06-22 21:14:46,867]\u001b[0m Trial 195 finished with value: 1331862.3961185333 and parameters: {'n_clusters': 234, 'sigma': 9.93910252958593}. Best is trial 182 with value: 957214.7520010518.\u001b[0m\n",
      "\u001b[32m[I 2022-06-22 21:14:49,639]\u001b[0m Trial 196 finished with value: 1238512.0927220676 and parameters: {'n_clusters': 242, 'sigma': 9.96107216048583}. Best is trial 182 with value: 957214.7520010518.\u001b[0m\n",
      "\u001b[32m[I 2022-06-22 21:14:52,452]\u001b[0m Trial 197 finished with value: 1430991.4492786503 and parameters: {'n_clusters': 245, 'sigma': 9.652094655165161}. Best is trial 182 with value: 957214.7520010518.\u001b[0m\n",
      "\u001b[32m[I 2022-06-22 21:14:55,062]\u001b[0m Trial 198 finished with value: 1401357.0562399845 and parameters: {'n_clusters': 220, 'sigma': 9.786890774310585}. Best is trial 182 with value: 957214.7520010518.\u001b[0m\n",
      "\u001b[32m[I 2022-06-22 21:14:57,848]\u001b[0m Trial 199 finished with value: 18573947.45168875 and parameters: {'n_clusters': 238, 'sigma': 3.214141226261618}. Best is trial 182 with value: 957214.7520010518.\u001b[0m\n"
     ]
    },
    {
     "name": "stdout",
     "output_type": "stream",
     "text": [
      "Test mse = 1532259.5910276459\n",
      "Test R2 = 0.9933806095524936\n",
      "best parameters: {'n_clusters': 246, 'sigma': 9.984280712835586}\n"
     ]
    },
    {
     "name": "stderr",
     "output_type": "stream",
     "text": [
      "/home/hugo/Projects/dm_project/.venv/lib64/python3.10/site-packages/sklearn/base.py:443: UserWarning: X has feature names, but StandardScaler was fitted without feature names\n",
      "  warnings.warn(\n"
     ]
    }
   ],
   "source": [
    "study = optuna.create_study(\n",
    "    direction='minimize',\n",
    "    study_name=\"RBF hyperparameters optimization\"\n",
    ")\n",
    "\n",
    "study.optimize(\n",
    "    lambda trial: objective(\n",
    "        trial, X_train, y_train, X_val, y_val, normalize=True, metric=mean_squared_error),\n",
    "    n_trials=200\n",
    ")\n",
    "\n",
    "final_rbf = RBF(study.best_params[\"n_clusters\"], study.best_params[\"sigma\"], normalize=True).fit(X_train, y_train)\n",
    "y_pred = rbf.predict(X_test)\n",
    "\n",
    "print(\"Test mse =\", mean_squared_error(y_test, y_pred))\n",
    "print(\"Test R2 =\", r2_score(y_test, y_pred))\n",
    "print(\"best parameters:\", study.best_params)"
   ]
  },
  {
   "cell_type": "code",
   "execution_count": 9,
   "metadata": {},
   "outputs": [],
   "source": [
    "best_params = {'n_clusters': 246, 'sigma': 9.984280712835586}"
   ]
  },
  {
   "cell_type": "markdown",
   "metadata": {},
   "source": [
    "#### Computation of it's Cross Validation Score"
   ]
  },
  {
   "cell_type": "code",
   "execution_count": 16,
   "metadata": {},
   "outputs": [],
   "source": [
    "X = pd.concat([X_train, X_test])\n",
    "y = pd.concat([y_train, y_test])\n",
    "\n",
    "cross_val_scores = cross_validation_score_of(X, y, **best_params)"
   ]
  },
  {
   "cell_type": "code",
   "execution_count": 21,
   "metadata": {},
   "outputs": [
    {
     "name": "stdout",
     "output_type": "stream",
     "text": [
      "RBF Cross Validation Score = [0.99199898 0.99198635]\n"
     ]
    }
   ],
   "source": [
    "print(\"RBF Cross Validation Score =\", np.mean(cross_val_scores, axis=0))"
   ]
  },
  {
   "cell_type": "code",
   "execution_count": 24,
   "metadata": {},
   "outputs": [],
   "source": [
    "from sklearn.model_selection import KFold\n",
    "from sklearn.metrics import r2_score\n",
    "\n",
    "\n",
    "def cross_validation_mse_of(X: pd.DataFrame, y: pd.DataFrame, n_splits=5, n_clusters=8, sigma=1., denormalize=True):\n",
    "    kf = KFold(n_splits=n_splits)\n",
    "    cross_validation_mses = []\n",
    "\n",
    "    for train_index, test_index in kf.split(X):\n",
    "        X_train, X_test = X.to_numpy()[train_index], X.to_numpy()[test_index]\n",
    "        y_train, y_test = y.to_numpy()[train_index], y.to_numpy()[test_index]\n",
    "\n",
    "        rbf_network = RBF(n_clusters, sigma, normalize=True).fit(\n",
    "            X_train, y_train)\n",
    "\n",
    "        y_pred = rbf_network.predict(X_test, denormalize)\n",
    "        print(y_pred[0, :], y_test[0, :])\n",
    "        if not denormalize:\n",
    "            y_test = rbf_network.targets_scaler.transform(y_test)\n",
    "        cross_validation_mses.append((\n",
    "            mean_squared_error(y_pred[:, 0], y_test[:, 0]),\n",
    "            mean_squared_error(y_pred[:, 1], y_test[:, 1]),\n",
    "        ))\n",
    "\n",
    "    return cross_validation_mses\n"
   ]
  },
  {
   "cell_type": "code",
   "execution_count": 29,
   "metadata": {},
   "outputs": [
    {
     "name": "stdout",
     "output_type": "stream",
     "text": [
      "[-59744.09641073 -59653.17276412] [-59984.44052 -59891.92346]\n",
      "[-72582.65252827 -72441.19243688] [-72088.90358 -71949.03197]\n",
      "[-35204.52241135 -35153.04384056] [-35447.69898 -35394.0583 ]\n",
      "[-64315.07753686 -64264.15454537] [-59932.63758 -59889.96439]\n",
      "[-76083.85791581 -75853.49405593] [-75933.89514 -75704.41099]\n",
      "RBF Denormalized Cross Validation MSES = [1687162.65458226 1683766.86736788]\n"
     ]
    }
   ],
   "source": [
    "denormalized_cross_val_mses = cross_validation_mse_of(X, y, denormalize=True, **best_params)\n",
    "print(\"RBF Denormalized Cross Validation MSES =\", np.mean(denormalized_cross_val_mses, axis=0))"
   ]
  },
  {
   "cell_type": "code",
   "execution_count": 30,
   "metadata": {},
   "outputs": [
    {
     "name": "stdout",
     "output_type": "stream",
     "text": [
      "[-0.27993413 -0.28097513] [-59984.44052 -59891.92346]\n",
      "[-1.07567462 -1.07449186] [-72088.90358 -71949.03197]\n",
      "[1.38143986 1.38064395] [-35447.69898 -35394.0583 ]\n",
      "[-0.38651611 -0.39055997] [-59932.63758 -59889.96439]\n",
      "[-1.31735098 -1.31058512] [-75933.89514 -75704.41099]\n",
      "RBF Normalized Cross Validation MSES = [0.00701638 0.00702371]\n"
     ]
    }
   ],
   "source": [
    "normalized_cross_val_mses = cross_validation_mse_of(X, y, denormalize=False, **best_params)\n",
    "print(\"RBF Normalized Cross Validation MSES =\", np.mean(normalized_cross_val_mses, axis=0))"
   ]
  },
  {
   "cell_type": "code",
   "execution_count": null,
   "metadata": {},
   "outputs": [],
   "source": []
  }
 ],
 "metadata": {
  "kernelspec": {
   "display_name": "Python 3.8.8 ('.venv': venv)",
   "language": "python",
   "name": "python3"
  },
  "language_info": {
   "codemirror_mode": {
    "name": "ipython",
    "version": 3
   },
   "file_extension": ".py",
   "mimetype": "text/x-python",
   "name": "python",
   "nbconvert_exporter": "python",
   "pygments_lexer": "ipython3",
   "version": "3.8.8"
  },
  "orig_nbformat": 4,
  "vscode": {
   "interpreter": {
    "hash": "932188ec255b8e3f1bcde9148f07b2998f153f8d850d43fc4c8d675afec19fbf"
   }
  }
 },
 "nbformat": 4,
 "nbformat_minor": 2
}
