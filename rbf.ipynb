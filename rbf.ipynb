{
 "cells": [
  {
   "cell_type": "code",
   "execution_count": null,
   "metadata": {},
   "outputs": [],
   "source": [
    "# Run this to setup environment\n",
    "%pip install -r requirements.txt"
   ]
  },
  {
   "cell_type": "markdown",
   "metadata": {},
   "source": [
    "### RBF Network Regression"
   ]
  },
  {
   "cell_type": "code",
   "execution_count": 5,
   "metadata": {},
   "outputs": [],
   "source": [
    "import pandas as pd\n",
    "from processing_utils import *\n",
    "from rbf import RBF\n",
    "from rbf_optimization import objective\n",
    "import optuna\n",
    "from sklearn.metrics import r2_score, mean_squared_error\n",
    "import random\n",
    "%reload_ext autoreload\n",
    "%autoreload 2\n",
    "\n",
    "raw_dataset = pd.read_csv('./dataset/data.csv')"
   ]
  },
  {
   "cell_type": "code",
   "execution_count": 6,
   "metadata": {},
   "outputs": [
    {
     "name": "stdout",
     "output_type": "stream",
     "text": [
      "       Zero_point_energy_(kcal/mol@0K)  Enthalpy_(kcal/mol@298K)  \\\n",
      "36022                        34.348271                 38.496887   \n",
      "18528                       109.964328                120.907841   \n",
      "19324                        46.109933                 51.905503   \n",
      "16461                        74.605810                 82.719634   \n",
      "33006                       103.334974                111.401327   \n",
      "...                                ...                       ...   \n",
      "15124                        67.714824                 73.170953   \n",
      "35685                       140.466445                151.160630   \n",
      "28238                       109.600022                118.110369   \n",
      "24856                        56.954919                 61.485772   \n",
      "13105                       110.810632                120.093552   \n",
      "\n",
      "       Gibbs_energy_(kcal/mol@298K)  [  '  #     (  )  +  ...  P  S  \\  ]  c  \\\n",
      "36022                     15.726077  0  0  0  0  0  0  0  ...  0  0  0  0  0   \n",
      "18528                     83.423567  0  0  0  0  4  4  0  ...  0  0  0  0  6   \n",
      "19324                     26.812794  0  0  0  0  3  3  0  ...  0  0  0  0  6   \n",
      "16461                     50.773900  0  0  0  0  3  3  0  ...  0  1  0  0  6   \n",
      "33006                     81.292477  0  0  1  0  1  1  0  ...  0  0  0  0  6   \n",
      "...                             ... .. .. .. .. .. .. ..  ... .. .. .. .. ..   \n",
      "15124                     48.253299  0  0  0  0  1  1  0  ...  0  0  0  0  7   \n",
      "35685                    113.972045  1  0  1  0  3  3  0  ...  0  0  0  1  5   \n",
      "28238                     86.151021  1  0  0  0  2  2  0  ...  0  0  0  1  6   \n",
      "24856                     38.660578  0  0  0  0  0  0  0  ...  0  0  0  0  0   \n",
      "13105                     85.845443  0  0  0  0  4  4  0  ...  0  1  0  0  6   \n",
      "\n",
      "       l  n  o  r  s  \n",
      "36022  0  0  0  2  0  \n",
      "18528  2  0  0  0  0  \n",
      "19324  0  0  0  1  0  \n",
      "16461  0  0  0  0  0  \n",
      "33006  0  0  0  0  0  \n",
      "...   .. .. .. .. ..  \n",
      "15124  0  3  1  0  0  \n",
      "35685  0  1  0  0  0  \n",
      "28238  0  0  0  1  0  \n",
      "24856  0  0  0  1  0  \n",
      "13105  0  0  0  0  0  \n",
      "\n",
      "[6432 rows x 36 columns]\n"
     ]
    }
   ],
   "source": [
    "dataset = encode_smiles_column_of(\n",
    "    prune_dataset_lines(\n",
    "        raw_dataset,\n",
    "        remove_nan_lines=False,\n",
    "        remove_nan_cols=True,\n",
    "        remove_duplicates=True\n",
    "    ),\n",
    "    strategy='count_encoding'\n",
    ")\n",
    "\n",
    "X_train, y_train, X_val, y_val, X_test, y_test = get_train_data(\n",
    "    dataset,\n",
    "    targets_columns=['Energy_(kcal/mol)', 'Energy DG:kcal/mol)'],\n",
    "    random_state=None,\n",
    "    as_numpy=False\n",
    ")\n",
    "\n",
    "print(X_train)"
   ]
  },
  {
   "cell_type": "markdown",
   "metadata": {},
   "source": [
    "#### Trying RBF with SMILES dataset"
   ]
  },
  {
   "cell_type": "code",
   "execution_count": 7,
   "metadata": {},
   "outputs": [
    {
     "data": {
      "text/plain": [
       "0.41380958903277704"
      ]
     },
     "execution_count": 7,
     "metadata": {},
     "output_type": "execute_result"
    }
   ],
   "source": [
    "rbf = RBF(n_clusters=8, sigma=3.14, normalize=True).fit(X_train, y_train)\n",
    "y_pred = rbf.predict(X_val)\n",
    "r2_score(y_val, y_pred)"
   ]
  },
  {
   "cell_type": "markdown",
   "metadata": {},
   "source": [
    "### Optimize hyperparameters with Optuna"
   ]
  },
  {
   "cell_type": "code",
   "execution_count": 8,
   "metadata": {},
   "outputs": [
    {
     "name": "stderr",
     "output_type": "stream",
     "text": [
      "\u001b[32m[I 2022-06-22 03:15:25,335]\u001b[0m A new study created in memory with name: RBF hyperparameters optimization\u001b[0m\n",
      "\u001b[32m[I 2022-06-22 03:15:31,206]\u001b[0m Trial 0 finished with value: 0.98135420424988 and parameters: {'n_clusters': 214, 'sigma': 6.67449361023077}. Best is trial 0 with value: 0.98135420424988.\u001b[0m\n",
      "\u001b[32m[I 2022-06-22 03:15:36,502]\u001b[0m Trial 1 finished with value: 0.7012599466442445 and parameters: {'n_clusters': 232, 'sigma': 1.5569932963228452}. Best is trial 0 with value: 0.98135420424988.\u001b[0m\n",
      "\u001b[32m[I 2022-06-22 03:15:39,921]\u001b[0m Trial 2 finished with value: 0.8376422934679795 and parameters: {'n_clusters': 121, 'sigma': 2.9478083286897463}. Best is trial 0 with value: 0.98135420424988.\u001b[0m\n",
      "\u001b[32m[I 2022-06-22 03:15:42,676]\u001b[0m Trial 3 finished with value: 0.9757199444596591 and parameters: {'n_clusters': 86, 'sigma': 8.902273948388247}. Best is trial 0 with value: 0.98135420424988.\u001b[0m\n",
      "\u001b[32m[I 2022-06-22 03:15:45,726]\u001b[0m Trial 4 finished with value: 0.9702703230067746 and parameters: {'n_clusters': 108, 'sigma': 7.356462871710014}. Best is trial 0 with value: 0.98135420424988.\u001b[0m\n",
      "\u001b[32m[I 2022-06-22 03:15:48,899]\u001b[0m Trial 5 finished with value: 0.9612436858254948 and parameters: {'n_clusters': 128, 'sigma': 6.246328659356595}. Best is trial 0 with value: 0.98135420424988.\u001b[0m\n",
      "\u001b[32m[I 2022-06-22 03:15:50,941]\u001b[0m Trial 6 finished with value: 0.8935768940937345 and parameters: {'n_clusters': 31, 'sigma': 7.9786737427691286}. Best is trial 0 with value: 0.98135420424988.\u001b[0m\n",
      "\u001b[32m[I 2022-06-22 03:15:54,375]\u001b[0m Trial 7 finished with value: 0.9091699685082529 and parameters: {'n_clusters': 146, 'sigma': 3.8023306662076406}. Best is trial 0 with value: 0.98135420424988.\u001b[0m\n",
      "\u001b[32m[I 2022-06-22 03:15:58,762]\u001b[0m Trial 8 finished with value: 0.9841407381471855 and parameters: {'n_clusters': 203, 'sigma': 7.23570419319228}. Best is trial 8 with value: 0.9841407381471855.\u001b[0m\n",
      "\u001b[32m[I 2022-06-22 03:16:02,155]\u001b[0m Trial 9 finished with value: 0.9832801282493665 and parameters: {'n_clusters': 144, 'sigma': 8.77773721448056}. Best is trial 8 with value: 0.9841407381471855.\u001b[0m\n"
     ]
    },
    {
     "name": "stdout",
     "output_type": "stream",
     "text": [
      "Test mse = 3476501.6950129895\n",
      "Test R2 = 0.9845480178552618\n"
     ]
    }
   ],
   "source": [
    "study = optuna.create_study(\n",
    "    direction='maximize',\n",
    "    study_name=\"RBF hyperparameters optimization\"\n",
    ")\n",
    "\n",
    "study.optimize(\n",
    "    lambda trial: objective(\n",
    "        trial, X_train, y_train, X_val, y_val, normalize=True, metric=r2_score),\n",
    "    n_trials=10,\n",
    "    # n_jobs=-1 # doesn't work well with my computer\n",
    ")\n",
    "\n",
    "rbf = RBF(\n",
    "    study.best_params[\"n_clusters\"],\n",
    "    study.best_params[\"sigma\"],\n",
    "    normalize=True\n",
    ").fit(X_train, y_train)\n",
    "y_pred = rbf.predict(X_test)\n",
    "print(\"Test mse =\", mean_squared_error(y_test, y_pred))\n",
    "print(\"Test R2 =\", r2_score(y_test, y_pred))\n"
   ]
  },
  {
   "cell_type": "code",
   "execution_count": 13,
   "metadata": {},
   "outputs": [
    {
     "name": "stdout",
     "output_type": "stream",
     "text": [
      "best parameters: {'n_clusters': 117, 'sigma': 9.91554131454891}\n"
     ]
    }
   ],
   "source": [
    "print(\"best parameters:\", study.best_params)"
   ]
  },
  {
   "cell_type": "markdown",
   "metadata": {},
   "source": [
    "#### Performances w.r.t. training dataset size"
   ]
  },
  {
   "cell_type": "code",
   "execution_count": 10,
   "metadata": {},
   "outputs": [],
   "source": [
    "N_ESSAIS = 50\n",
    "mses = [[] for _ in range(N_ESSAIS)]\n",
    "r2_scores = [[] for _ in range(N_ESSAIS)]\n",
    "percentages = np.linspace(0.2, 1, 50)"
   ]
  },
  {
   "cell_type": "code",
   "execution_count": 11,
   "metadata": {},
   "outputs": [
    {
     "name": "stderr",
     "output_type": "stream",
     "text": [
      "\u001b[32m[I 2022-06-22 03:16:06,870]\u001b[0m A new study created in memory with name: RBF hyperparameters optimization for percentage p=0.2 Essai=0\u001b[0m\n",
      "\u001b[32m[I 2022-06-22 03:16:11,049]\u001b[0m Trial 0 finished with value: 0.9875319358473407 and parameters: {'n_clusters': 145, 'sigma': 9.091027919331822}. Best is trial 0 with value: 0.9875319358473407.\u001b[0m\n",
      "\u001b[32m[I 2022-06-22 03:16:16,309]\u001b[0m Trial 1 finished with value: 0.988877802617131 and parameters: {'n_clusters': 117, 'sigma': 9.91554131454891}. Best is trial 1 with value: 0.988877802617131.\u001b[0m\n",
      "\u001b[32m[I 2022-06-22 03:16:23,235]\u001b[0m Trial 2 finished with value: 0.967788432271865 and parameters: {'n_clusters': 240, 'sigma': 4.577201865147072}. Best is trial 1 with value: 0.988877802617131.\u001b[0m\n",
      "\u001b[32m[I 2022-06-22 03:16:25,713]\u001b[0m Trial 3 finished with value: 0.7656549153563987 and parameters: {'n_clusters': 57, 'sigma': 2.7570780496657603}. Best is trial 1 with value: 0.988877802617131.\u001b[0m\n"
     ]
    },
    {
     "ename": "KeyboardInterrupt",
     "evalue": "",
     "output_type": "error",
     "traceback": [
      "\u001b[0;31m---------------------------------------------------------------------------\u001b[0m",
      "\u001b[0;31mKeyboardInterrupt\u001b[0m                         Traceback (most recent call last)",
      "\u001b[1;32m/home/hugo/Projects/dm_project/rbf.ipynb Cell 11'\u001b[0m in \u001b[0;36m<cell line: 7>\u001b[0;34m()\u001b[0m\n\u001b[1;32m     <a href='vscode-notebook-cell:/home/hugo/Projects/dm_project/rbf.ipynb#ch0000007?line=12'>13</a>\u001b[0m X_train, y_train, X_val, y_val, X_test, y_test \u001b[39m=\u001b[39m get_train_data(\n\u001b[1;32m     <a href='vscode-notebook-cell:/home/hugo/Projects/dm_project/rbf.ipynb#ch0000007?line=13'>14</a>\u001b[0m     dataset,\n\u001b[1;32m     <a href='vscode-notebook-cell:/home/hugo/Projects/dm_project/rbf.ipynb#ch0000007?line=14'>15</a>\u001b[0m     targets_columns\u001b[39m=\u001b[39m[\u001b[39m'\u001b[39m\u001b[39mEnergy_(kcal/mol)\u001b[39m\u001b[39m'\u001b[39m, \u001b[39m'\u001b[39m\u001b[39mEnergy DG:kcal/mol)\u001b[39m\u001b[39m'\u001b[39m],\n\u001b[1;32m     <a href='vscode-notebook-cell:/home/hugo/Projects/dm_project/rbf.ipynb#ch0000007?line=15'>16</a>\u001b[0m     random_state\u001b[39m=\u001b[39mrandom_state,\n\u001b[1;32m     <a href='vscode-notebook-cell:/home/hugo/Projects/dm_project/rbf.ipynb#ch0000007?line=16'>17</a>\u001b[0m     as_numpy\u001b[39m=\u001b[39m\u001b[39mFalse\u001b[39;00m,\n\u001b[1;32m     <a href='vscode-notebook-cell:/home/hugo/Projects/dm_project/rbf.ipynb#ch0000007?line=17'>18</a>\u001b[0m )\n\u001b[1;32m     <a href='vscode-notebook-cell:/home/hugo/Projects/dm_project/rbf.ipynb#ch0000007?line=19'>20</a>\u001b[0m study \u001b[39m=\u001b[39m optuna\u001b[39m.\u001b[39mcreate_study(\n\u001b[1;32m     <a href='vscode-notebook-cell:/home/hugo/Projects/dm_project/rbf.ipynb#ch0000007?line=20'>21</a>\u001b[0m     direction\u001b[39m=\u001b[39m\u001b[39m'\u001b[39m\u001b[39mmaximize\u001b[39m\u001b[39m'\u001b[39m,\n\u001b[1;32m     <a href='vscode-notebook-cell:/home/hugo/Projects/dm_project/rbf.ipynb#ch0000007?line=21'>22</a>\u001b[0m     study_name\u001b[39m=\u001b[39m\u001b[39mf\u001b[39m\u001b[39m\"\u001b[39m\u001b[39mRBF hyperparameters optimization for percentage p=\u001b[39m\u001b[39m{\u001b[39;00mp\u001b[39m}\u001b[39;00m\u001b[39m Essai=\u001b[39m\u001b[39m{\u001b[39;00mk\u001b[39m}\u001b[39;00m\u001b[39m\"\u001b[39m\n\u001b[1;32m     <a href='vscode-notebook-cell:/home/hugo/Projects/dm_project/rbf.ipynb#ch0000007?line=22'>23</a>\u001b[0m )\n\u001b[0;32m---> <a href='vscode-notebook-cell:/home/hugo/Projects/dm_project/rbf.ipynb#ch0000007?line=24'>25</a>\u001b[0m study\u001b[39m.\u001b[39;49moptimize(\n\u001b[1;32m     <a href='vscode-notebook-cell:/home/hugo/Projects/dm_project/rbf.ipynb#ch0000007?line=25'>26</a>\u001b[0m     \u001b[39mlambda\u001b[39;49;00m trial: objective(\n\u001b[1;32m     <a href='vscode-notebook-cell:/home/hugo/Projects/dm_project/rbf.ipynb#ch0000007?line=26'>27</a>\u001b[0m         trial, X_train, y_train, X_val, y_val, normalize\u001b[39m=\u001b[39;49m\u001b[39mTrue\u001b[39;49;00m, metric\u001b[39m=\u001b[39;49mr2_score),\n\u001b[1;32m     <a href='vscode-notebook-cell:/home/hugo/Projects/dm_project/rbf.ipynb#ch0000007?line=27'>28</a>\u001b[0m     n_trials\u001b[39m=\u001b[39;49m\u001b[39m10\u001b[39;49m,\n\u001b[1;32m     <a href='vscode-notebook-cell:/home/hugo/Projects/dm_project/rbf.ipynb#ch0000007?line=28'>29</a>\u001b[0m     \u001b[39m# n_jobs=-1\u001b[39;49;00m\n\u001b[1;32m     <a href='vscode-notebook-cell:/home/hugo/Projects/dm_project/rbf.ipynb#ch0000007?line=29'>30</a>\u001b[0m )\n\u001b[1;32m     <a href='vscode-notebook-cell:/home/hugo/Projects/dm_project/rbf.ipynb#ch0000007?line=31'>32</a>\u001b[0m rbf \u001b[39m=\u001b[39m RBF(\n\u001b[1;32m     <a href='vscode-notebook-cell:/home/hugo/Projects/dm_project/rbf.ipynb#ch0000007?line=32'>33</a>\u001b[0m     study\u001b[39m.\u001b[39mbest_params[\u001b[39m\"\u001b[39m\u001b[39mn_clusters\u001b[39m\u001b[39m\"\u001b[39m],\n\u001b[1;32m     <a href='vscode-notebook-cell:/home/hugo/Projects/dm_project/rbf.ipynb#ch0000007?line=33'>34</a>\u001b[0m     study\u001b[39m.\u001b[39mbest_params[\u001b[39m\"\u001b[39m\u001b[39msigma\u001b[39m\u001b[39m\"\u001b[39m],\n\u001b[1;32m     <a href='vscode-notebook-cell:/home/hugo/Projects/dm_project/rbf.ipynb#ch0000007?line=34'>35</a>\u001b[0m     normalize\u001b[39m=\u001b[39m\u001b[39mTrue\u001b[39;00m\n\u001b[1;32m     <a href='vscode-notebook-cell:/home/hugo/Projects/dm_project/rbf.ipynb#ch0000007?line=35'>36</a>\u001b[0m )\u001b[39m.\u001b[39mfit(X_train, y_train)\n\u001b[1;32m     <a href='vscode-notebook-cell:/home/hugo/Projects/dm_project/rbf.ipynb#ch0000007?line=36'>37</a>\u001b[0m y_pred \u001b[39m=\u001b[39m rbf\u001b[39m.\u001b[39mpredict(X_test)\n",
      "File \u001b[0;32m~/.local/lib/python3.10/site-packages/optuna/study/study.py:400\u001b[0m, in \u001b[0;36mStudy.optimize\u001b[0;34m(self, func, n_trials, timeout, n_jobs, catch, callbacks, gc_after_trial, show_progress_bar)\u001b[0m\n\u001b[1;32m    392\u001b[0m \u001b[39mif\u001b[39;00m n_jobs \u001b[39m!=\u001b[39m \u001b[39m1\u001b[39m:\n\u001b[1;32m    393\u001b[0m     warnings\u001b[39m.\u001b[39mwarn(\n\u001b[1;32m    394\u001b[0m         \u001b[39m\"\u001b[39m\u001b[39m`n_jobs` argument has been deprecated in v2.7.0. \u001b[39m\u001b[39m\"\u001b[39m\n\u001b[1;32m    395\u001b[0m         \u001b[39m\"\u001b[39m\u001b[39mThis feature will be removed in v4.0.0. \u001b[39m\u001b[39m\"\u001b[39m\n\u001b[1;32m    396\u001b[0m         \u001b[39m\"\u001b[39m\u001b[39mSee https://github.com/optuna/optuna/releases/tag/v2.7.0.\u001b[39m\u001b[39m\"\u001b[39m,\n\u001b[1;32m    397\u001b[0m         \u001b[39mFutureWarning\u001b[39;00m,\n\u001b[1;32m    398\u001b[0m     )\n\u001b[0;32m--> 400\u001b[0m _optimize(\n\u001b[1;32m    401\u001b[0m     study\u001b[39m=\u001b[39;49m\u001b[39mself\u001b[39;49m,\n\u001b[1;32m    402\u001b[0m     func\u001b[39m=\u001b[39;49mfunc,\n\u001b[1;32m    403\u001b[0m     n_trials\u001b[39m=\u001b[39;49mn_trials,\n\u001b[1;32m    404\u001b[0m     timeout\u001b[39m=\u001b[39;49mtimeout,\n\u001b[1;32m    405\u001b[0m     n_jobs\u001b[39m=\u001b[39;49mn_jobs,\n\u001b[1;32m    406\u001b[0m     catch\u001b[39m=\u001b[39;49mcatch,\n\u001b[1;32m    407\u001b[0m     callbacks\u001b[39m=\u001b[39;49mcallbacks,\n\u001b[1;32m    408\u001b[0m     gc_after_trial\u001b[39m=\u001b[39;49mgc_after_trial,\n\u001b[1;32m    409\u001b[0m     show_progress_bar\u001b[39m=\u001b[39;49mshow_progress_bar,\n\u001b[1;32m    410\u001b[0m )\n",
      "File \u001b[0;32m~/.local/lib/python3.10/site-packages/optuna/study/_optimize.py:66\u001b[0m, in \u001b[0;36m_optimize\u001b[0;34m(study, func, n_trials, timeout, n_jobs, catch, callbacks, gc_after_trial, show_progress_bar)\u001b[0m\n\u001b[1;32m     64\u001b[0m \u001b[39mtry\u001b[39;00m:\n\u001b[1;32m     65\u001b[0m     \u001b[39mif\u001b[39;00m n_jobs \u001b[39m==\u001b[39m \u001b[39m1\u001b[39m:\n\u001b[0;32m---> 66\u001b[0m         _optimize_sequential(\n\u001b[1;32m     67\u001b[0m             study,\n\u001b[1;32m     68\u001b[0m             func,\n\u001b[1;32m     69\u001b[0m             n_trials,\n\u001b[1;32m     70\u001b[0m             timeout,\n\u001b[1;32m     71\u001b[0m             catch,\n\u001b[1;32m     72\u001b[0m             callbacks,\n\u001b[1;32m     73\u001b[0m             gc_after_trial,\n\u001b[1;32m     74\u001b[0m             reseed_sampler_rng\u001b[39m=\u001b[39;49m\u001b[39mFalse\u001b[39;49;00m,\n\u001b[1;32m     75\u001b[0m             time_start\u001b[39m=\u001b[39;49m\u001b[39mNone\u001b[39;49;00m,\n\u001b[1;32m     76\u001b[0m             progress_bar\u001b[39m=\u001b[39;49mprogress_bar,\n\u001b[1;32m     77\u001b[0m         )\n\u001b[1;32m     78\u001b[0m     \u001b[39melse\u001b[39;00m:\n\u001b[1;32m     79\u001b[0m         \u001b[39mif\u001b[39;00m show_progress_bar:\n",
      "File \u001b[0;32m~/.local/lib/python3.10/site-packages/optuna/study/_optimize.py:163\u001b[0m, in \u001b[0;36m_optimize_sequential\u001b[0;34m(study, func, n_trials, timeout, catch, callbacks, gc_after_trial, reseed_sampler_rng, time_start, progress_bar)\u001b[0m\n\u001b[1;32m    160\u001b[0m         \u001b[39mbreak\u001b[39;00m\n\u001b[1;32m    162\u001b[0m \u001b[39mtry\u001b[39;00m:\n\u001b[0;32m--> 163\u001b[0m     trial \u001b[39m=\u001b[39m _run_trial(study, func, catch)\n\u001b[1;32m    164\u001b[0m \u001b[39mexcept\u001b[39;00m \u001b[39mException\u001b[39;00m:\n\u001b[1;32m    165\u001b[0m     \u001b[39mraise\u001b[39;00m\n",
      "File \u001b[0;32m~/.local/lib/python3.10/site-packages/optuna/study/_optimize.py:213\u001b[0m, in \u001b[0;36m_run_trial\u001b[0;34m(study, func, catch)\u001b[0m\n\u001b[1;32m    210\u001b[0m     thread\u001b[39m.\u001b[39mstart()\n\u001b[1;32m    212\u001b[0m \u001b[39mtry\u001b[39;00m:\n\u001b[0;32m--> 213\u001b[0m     value_or_values \u001b[39m=\u001b[39m func(trial)\n\u001b[1;32m    214\u001b[0m \u001b[39mexcept\u001b[39;00m exceptions\u001b[39m.\u001b[39mTrialPruned \u001b[39mas\u001b[39;00m e:\n\u001b[1;32m    215\u001b[0m     \u001b[39m# TODO(mamu): Handle multi-objective cases.\u001b[39;00m\n\u001b[1;32m    216\u001b[0m     state \u001b[39m=\u001b[39m TrialState\u001b[39m.\u001b[39mPRUNED\n",
      "\u001b[1;32m/home/hugo/Projects/dm_project/rbf.ipynb Cell 11'\u001b[0m in \u001b[0;36m<lambda>\u001b[0;34m(trial)\u001b[0m\n\u001b[1;32m     <a href='vscode-notebook-cell:/home/hugo/Projects/dm_project/rbf.ipynb#ch0000007?line=12'>13</a>\u001b[0m X_train, y_train, X_val, y_val, X_test, y_test \u001b[39m=\u001b[39m get_train_data(\n\u001b[1;32m     <a href='vscode-notebook-cell:/home/hugo/Projects/dm_project/rbf.ipynb#ch0000007?line=13'>14</a>\u001b[0m     dataset,\n\u001b[1;32m     <a href='vscode-notebook-cell:/home/hugo/Projects/dm_project/rbf.ipynb#ch0000007?line=14'>15</a>\u001b[0m     targets_columns\u001b[39m=\u001b[39m[\u001b[39m'\u001b[39m\u001b[39mEnergy_(kcal/mol)\u001b[39m\u001b[39m'\u001b[39m, \u001b[39m'\u001b[39m\u001b[39mEnergy DG:kcal/mol)\u001b[39m\u001b[39m'\u001b[39m],\n\u001b[1;32m     <a href='vscode-notebook-cell:/home/hugo/Projects/dm_project/rbf.ipynb#ch0000007?line=15'>16</a>\u001b[0m     random_state\u001b[39m=\u001b[39mrandom_state,\n\u001b[1;32m     <a href='vscode-notebook-cell:/home/hugo/Projects/dm_project/rbf.ipynb#ch0000007?line=16'>17</a>\u001b[0m     as_numpy\u001b[39m=\u001b[39m\u001b[39mFalse\u001b[39;00m,\n\u001b[1;32m     <a href='vscode-notebook-cell:/home/hugo/Projects/dm_project/rbf.ipynb#ch0000007?line=17'>18</a>\u001b[0m )\n\u001b[1;32m     <a href='vscode-notebook-cell:/home/hugo/Projects/dm_project/rbf.ipynb#ch0000007?line=19'>20</a>\u001b[0m study \u001b[39m=\u001b[39m optuna\u001b[39m.\u001b[39mcreate_study(\n\u001b[1;32m     <a href='vscode-notebook-cell:/home/hugo/Projects/dm_project/rbf.ipynb#ch0000007?line=20'>21</a>\u001b[0m     direction\u001b[39m=\u001b[39m\u001b[39m'\u001b[39m\u001b[39mmaximize\u001b[39m\u001b[39m'\u001b[39m,\n\u001b[1;32m     <a href='vscode-notebook-cell:/home/hugo/Projects/dm_project/rbf.ipynb#ch0000007?line=21'>22</a>\u001b[0m     study_name\u001b[39m=\u001b[39m\u001b[39mf\u001b[39m\u001b[39m\"\u001b[39m\u001b[39mRBF hyperparameters optimization for percentage p=\u001b[39m\u001b[39m{\u001b[39;00mp\u001b[39m}\u001b[39;00m\u001b[39m Essai=\u001b[39m\u001b[39m{\u001b[39;00mk\u001b[39m}\u001b[39;00m\u001b[39m\"\u001b[39m\n\u001b[1;32m     <a href='vscode-notebook-cell:/home/hugo/Projects/dm_project/rbf.ipynb#ch0000007?line=22'>23</a>\u001b[0m )\n\u001b[1;32m     <a href='vscode-notebook-cell:/home/hugo/Projects/dm_project/rbf.ipynb#ch0000007?line=24'>25</a>\u001b[0m study\u001b[39m.\u001b[39moptimize(\n\u001b[0;32m---> <a href='vscode-notebook-cell:/home/hugo/Projects/dm_project/rbf.ipynb#ch0000007?line=25'>26</a>\u001b[0m     \u001b[39mlambda\u001b[39;00m trial: objective(\n\u001b[1;32m     <a href='vscode-notebook-cell:/home/hugo/Projects/dm_project/rbf.ipynb#ch0000007?line=26'>27</a>\u001b[0m         trial, X_train, y_train, X_val, y_val, normalize\u001b[39m=\u001b[39;49m\u001b[39mTrue\u001b[39;49;00m, metric\u001b[39m=\u001b[39;49mr2_score),\n\u001b[1;32m     <a href='vscode-notebook-cell:/home/hugo/Projects/dm_project/rbf.ipynb#ch0000007?line=27'>28</a>\u001b[0m     n_trials\u001b[39m=\u001b[39m\u001b[39m10\u001b[39m,\n\u001b[1;32m     <a href='vscode-notebook-cell:/home/hugo/Projects/dm_project/rbf.ipynb#ch0000007?line=28'>29</a>\u001b[0m     \u001b[39m# n_jobs=-1\u001b[39;00m\n\u001b[1;32m     <a href='vscode-notebook-cell:/home/hugo/Projects/dm_project/rbf.ipynb#ch0000007?line=29'>30</a>\u001b[0m )\n\u001b[1;32m     <a href='vscode-notebook-cell:/home/hugo/Projects/dm_project/rbf.ipynb#ch0000007?line=31'>32</a>\u001b[0m rbf \u001b[39m=\u001b[39m RBF(\n\u001b[1;32m     <a href='vscode-notebook-cell:/home/hugo/Projects/dm_project/rbf.ipynb#ch0000007?line=32'>33</a>\u001b[0m     study\u001b[39m.\u001b[39mbest_params[\u001b[39m\"\u001b[39m\u001b[39mn_clusters\u001b[39m\u001b[39m\"\u001b[39m],\n\u001b[1;32m     <a href='vscode-notebook-cell:/home/hugo/Projects/dm_project/rbf.ipynb#ch0000007?line=33'>34</a>\u001b[0m     study\u001b[39m.\u001b[39mbest_params[\u001b[39m\"\u001b[39m\u001b[39msigma\u001b[39m\u001b[39m\"\u001b[39m],\n\u001b[1;32m     <a href='vscode-notebook-cell:/home/hugo/Projects/dm_project/rbf.ipynb#ch0000007?line=34'>35</a>\u001b[0m     normalize\u001b[39m=\u001b[39m\u001b[39mTrue\u001b[39;00m\n\u001b[1;32m     <a href='vscode-notebook-cell:/home/hugo/Projects/dm_project/rbf.ipynb#ch0000007?line=35'>36</a>\u001b[0m )\u001b[39m.\u001b[39mfit(X_train, y_train)\n\u001b[1;32m     <a href='vscode-notebook-cell:/home/hugo/Projects/dm_project/rbf.ipynb#ch0000007?line=36'>37</a>\u001b[0m y_pred \u001b[39m=\u001b[39m rbf\u001b[39m.\u001b[39mpredict(X_test)\n",
      "File \u001b[0;32m~/Projects/dm_project/rbf_optimization.py:17\u001b[0m, in \u001b[0;36mobjective\u001b[0;34m(trial, X_train, y_train, X_validation, y_validation, normalize, metric)\u001b[0m\n\u001b[1;32m     14\u001b[0m n_clusters \u001b[39m=\u001b[39m trial\u001b[39m.\u001b[39msuggest_int(\u001b[39m\"\u001b[39m\u001b[39mn_clusters\u001b[39m\u001b[39m\"\u001b[39m, \u001b[39m10\u001b[39m, \u001b[39m250\u001b[39m)\n\u001b[1;32m     15\u001b[0m sigma \u001b[39m=\u001b[39m trial\u001b[39m.\u001b[39msuggest_float(\u001b[39m\"\u001b[39m\u001b[39msigma\u001b[39m\u001b[39m\"\u001b[39m, \u001b[39m0.01\u001b[39m, \u001b[39m10\u001b[39m)\n\u001b[0;32m---> 17\u001b[0m rbf \u001b[39m=\u001b[39m RBF(n_clusters, sigma, normalize)\u001b[39m.\u001b[39;49mfit(X_train, y_train)\n\u001b[1;32m     18\u001b[0m y_pred \u001b[39m=\u001b[39m rbf\u001b[39m.\u001b[39mpredict(X_validation)\n\u001b[1;32m     20\u001b[0m \u001b[39mreturn\u001b[39;00m metric(y_validation, y_pred)\n",
      "File \u001b[0;32m~/Projects/dm_project/rbf.py:46\u001b[0m, in \u001b[0;36mRBF.fit\u001b[0;34m(self, X, y)\u001b[0m\n\u001b[1;32m     41\u001b[0m \u001b[39mself\u001b[39m\u001b[39m.\u001b[39mkmeans\u001b[39m.\u001b[39mfit(X)\n\u001b[1;32m     42\u001b[0m \u001b[39m# self.sigmas = [np.cov(X[pred == cluster].T)\u001b[39;00m\n\u001b[1;32m     43\u001b[0m \u001b[39m#                for cluster in range(self.n_clusters)]\u001b[39;00m\n\u001b[1;32m     44\u001b[0m \u001b[39m# phi_j is a scalar representing the activation of the jth cluster wrt its distance with x\u001b[39;00m\n\u001b[1;32m     45\u001b[0m \u001b[39m# so for each cluster we need to estimate the best weights\u001b[39;00m\n\u001b[0;32m---> 46\u001b[0m phi \u001b[39m=\u001b[39m \u001b[39mself\u001b[39;49m\u001b[39m.\u001b[39;49m__phi(X)\n\u001b[1;32m     47\u001b[0m \u001b[39mself\u001b[39m\u001b[39m.\u001b[39mlr \u001b[39m=\u001b[39m LinearRegression()\u001b[39m.\u001b[39mfit(phi, y)\n\u001b[1;32m     48\u001b[0m \u001b[39mreturn\u001b[39;00m \u001b[39mself\u001b[39m\n",
      "File \u001b[0;32m~/Projects/dm_project/rbf.py:29\u001b[0m, in \u001b[0;36mRBF.__phi\u001b[0;34m(self, X)\u001b[0m\n\u001b[1;32m     27\u001b[0m \u001b[39mdef\u001b[39;00m \u001b[39m__phi\u001b[39m(\u001b[39mself\u001b[39m, X):\n\u001b[1;32m     28\u001b[0m     \u001b[39mreturn\u001b[39;00m np\u001b[39m.\u001b[39marray(\n\u001b[0;32m---> 29\u001b[0m         [RBF\u001b[39m.\u001b[39mphi(X, center, sigma)\n\u001b[1;32m     30\u001b[0m          \u001b[39mfor\u001b[39;00m center, sigma \u001b[39min\u001b[39;00m \u001b[39mzip\u001b[39m(\u001b[39mself\u001b[39m\u001b[39m.\u001b[39mkmeans\u001b[39m.\u001b[39mcluster_centers_, \u001b[39mself\u001b[39m\u001b[39m.\u001b[39msigmas)]\n\u001b[1;32m     31\u001b[0m     )\u001b[39m.\u001b[39mT\n",
      "File \u001b[0;32m~/Projects/dm_project/rbf.py:29\u001b[0m, in \u001b[0;36m<listcomp>\u001b[0;34m(.0)\u001b[0m\n\u001b[1;32m     27\u001b[0m \u001b[39mdef\u001b[39;00m \u001b[39m__phi\u001b[39m(\u001b[39mself\u001b[39m, X):\n\u001b[1;32m     28\u001b[0m     \u001b[39mreturn\u001b[39;00m np\u001b[39m.\u001b[39marray(\n\u001b[0;32m---> 29\u001b[0m         [RBF\u001b[39m.\u001b[39;49mphi(X, center, sigma)\n\u001b[1;32m     30\u001b[0m          \u001b[39mfor\u001b[39;00m center, sigma \u001b[39min\u001b[39;00m \u001b[39mzip\u001b[39m(\u001b[39mself\u001b[39m\u001b[39m.\u001b[39mkmeans\u001b[39m.\u001b[39mcluster_centers_, \u001b[39mself\u001b[39m\u001b[39m.\u001b[39msigmas)]\n\u001b[1;32m     31\u001b[0m     )\u001b[39m.\u001b[39mT\n",
      "File \u001b[0;32m~/Projects/dm_project/rbf.py:23\u001b[0m, in \u001b[0;36mRBF.phi\u001b[0;34m(x, mu, sigma)\u001b[0m\n\u001b[1;32m     22\u001b[0m \u001b[39mdef\u001b[39;00m \u001b[39mphi\u001b[39m(x, mu, sigma: np\u001b[39m.\u001b[39mndarray):\n\u001b[0;32m---> 23\u001b[0m     \u001b[39mreturn\u001b[39;00m np\u001b[39m.\u001b[39mexp(\u001b[39m-\u001b[39m np\u001b[39m.\u001b[39;49mlinalg\u001b[39m.\u001b[39;49mnorm(x \u001b[39m-\u001b[39;49m mu, axis\u001b[39m=\u001b[39;49m\u001b[39m-\u001b[39;49m\u001b[39m1\u001b[39;49m)\u001b[39m*\u001b[39m\u001b[39m*\u001b[39m\u001b[39m2\u001b[39m \u001b[39m/\u001b[39m (\u001b[39m2\u001b[39m \u001b[39m*\u001b[39m sigma\u001b[39m*\u001b[39m\u001b[39m*\u001b[39m\u001b[39m2\u001b[39m))\n",
      "File \u001b[0;32m<__array_function__ internals>:180\u001b[0m, in \u001b[0;36mnorm\u001b[0;34m(*args, **kwargs)\u001b[0m\n",
      "File \u001b[0;32m~/.local/lib/python3.10/site-packages/numpy/linalg/linalg.py:2547\u001b[0m, in \u001b[0;36mnorm\u001b[0;34m(x, ord, axis, keepdims)\u001b[0m\n\u001b[1;32m   2544\u001b[0m \u001b[39melif\u001b[39;00m \u001b[39mord\u001b[39m \u001b[39mis\u001b[39;00m \u001b[39mNone\u001b[39;00m \u001b[39mor\u001b[39;00m \u001b[39mord\u001b[39m \u001b[39m==\u001b[39m \u001b[39m2\u001b[39m:\n\u001b[1;32m   2545\u001b[0m     \u001b[39m# special case for speedup\u001b[39;00m\n\u001b[1;32m   2546\u001b[0m     s \u001b[39m=\u001b[39m (x\u001b[39m.\u001b[39mconj() \u001b[39m*\u001b[39m x)\u001b[39m.\u001b[39mreal\n\u001b[0;32m-> 2547\u001b[0m     \u001b[39mreturn\u001b[39;00m sqrt(add\u001b[39m.\u001b[39;49mreduce(s, axis\u001b[39m=\u001b[39;49maxis, keepdims\u001b[39m=\u001b[39;49mkeepdims))\n\u001b[1;32m   2548\u001b[0m \u001b[39m# None of the str-type keywords for ord ('fro', 'nuc')\u001b[39;00m\n\u001b[1;32m   2549\u001b[0m \u001b[39m# are valid for vectors\u001b[39;00m\n\u001b[1;32m   2550\u001b[0m \u001b[39melif\u001b[39;00m \u001b[39misinstance\u001b[39m(\u001b[39mord\u001b[39m, \u001b[39mstr\u001b[39m):\n",
      "\u001b[0;31mKeyboardInterrupt\u001b[0m: "
     ]
    }
   ],
   "source": [
    "from pathlib import Path\n",
    "cluster_numbers = []\n",
    "standard_deviations = []\n",
    "optimization = np.arange(start=0, stop=N_ESSAIS * len(percentages), step=1)\n",
    "\n",
    "# this took 15 min on my machine with N_ESSAIS = 5\n",
    "for k in range(N_ESSAIS):\n",
    "    seed = random.randint(0, 10000)\n",
    "    random_state = np.random.RandomState(seed)\n",
    "\n",
    "    for p in percentages:\n",
    "\n",
    "        X_train, y_train, X_val, y_val, X_test, y_test = get_train_data(\n",
    "            dataset,\n",
    "            targets_columns=['Energy_(kcal/mol)', 'Energy DG:kcal/mol)'],\n",
    "            random_state=random_state,\n",
    "            as_numpy=False,\n",
    "        )\n",
    "\n",
    "        study = optuna.create_study(\n",
    "            direction='maximize',\n",
    "            study_name=f\"RBF hyperparameters optimization for percentage p={p} Essai={k}\"\n",
    "        )\n",
    "\n",
    "        study.optimize(\n",
    "            lambda trial: objective(\n",
    "                trial, X_train, y_train, X_val, y_val, normalize=True, metric=r2_score),\n",
    "            n_trials=10,\n",
    "            # n_jobs=-1\n",
    "        )\n",
    "\n",
    "        rbf = RBF(\n",
    "            study.best_params[\"n_clusters\"],\n",
    "            study.best_params[\"sigma\"],\n",
    "            normalize=True\n",
    "        ).fit(X_train, y_train)\n",
    "        y_pred = rbf.predict(X_test)\n",
    "        mses[k].append(mean_squared_error(y_test, y_pred))\n",
    "        r2_scores[k].append(r2_score(y_test, y_pred))\n",
    "\n",
    "        cluster_numbers.append(study.best_params[\"n_clusters\"])\n",
    "        standard_deviations.append(study.best_params[\"sigma\"])\n",
    "\n",
    "\n",
    "path = Path('./results/rbf')\n",
    "mses = np.array(mses)\n",
    "r2_scores = np.array(r2_scores)\n",
    "\n",
    "np.save(path/'rbf_mses_var_percentage', mses)\n",
    "np.save(path/'rbf_scores_var_percentage', r2_scores)\n"
   ]
  },
  {
   "cell_type": "code",
   "execution_count": null,
   "metadata": {},
   "outputs": [
    {
     "data": {
      "text/plain": [
       "<matplotlib.collections.PolyCollection at 0x7f9d0c4f6050>"
      ]
     },
     "execution_count": 32,
     "metadata": {},
     "output_type": "execute_result"
    },
    {
     "data": {
      "image/png": "[encoded data removed]",
      "text/plain": [
       "<Figure size 1440x576 with 2 Axes>"
      ]
     },
     "metadata": {
      "needs_background": "light"
     },
     "output_type": "display_data"
    }
   ],
   "source": [
    "import matplotlib.pyplot as plt\n",
    "from pathlib import Path\n",
    "\n",
    "path = Path('./results/rbf')\n",
    "\n",
    "#mses = np.array(mses)\n",
    "#r2_scores = np.array(r2_scores)\n",
    "\n",
    "mses = np.load(path/'rbf_mses_var_percentage.npy')\n",
    "r2_scores = np.load(path/'rbf_scores_var_percentage.npy')\n",
    "\n",
    "np.save(path/'rbf_mses_var_percentage', mses)\n",
    "np.save(path/'rbf_scores_var_percentage', r2_scores)\n",
    "\n",
    "plt.figure(figsize=(20, 8))\n",
    "plt.subplot(1, 2, 1)\n",
    "plt.title(\"Mean Squares Error\")\n",
    "plt.xlabel(\"Train Data Percentage\")\n",
    "plt.ylabel(\"Test MSE\")\n",
    "plt.grid(True)\n",
    "\n",
    "final_mses = np.mean(mses, axis=0)\n",
    "mses_error = np.std(mses, axis=0)\n",
    "\n",
    "# remove the fucky percentages\n",
    "rows = np.abs(final_mses) < 10000\n",
    "final_mses_chosen = final_mses[rows][2:]\n",
    "mses_error_chosen = mses_error[rows][2:]\n",
    "percentages_chosen = percentages[rows][2:]\n",
    "\n",
    "plt.semilogy(percentages_chosen, final_mses_chosen, label='Linear Regression')\n",
    "plt.legend()\n",
    "plt.fill_between(percentages_chosen, final_mses_chosen - mses_error_chosen, final_mses_chosen + mses_error_chosen, alpha=0.2, edgecolor='#1B2ACC', facecolor='#089FFF')\n",
    "\n",
    "plt.subplot(1, 2, 2)\n",
    "plt.title(\"R2 score\")\n",
    "plt.xlabel(\"Train Data Percentage\")\n",
    "plt.ylabel(\"Test R2 score\")\n",
    "plt.grid(True)\n",
    "plt.yscale('linear')\n",
    "\n",
    "final_r2_score = np.mean(r2_scores, axis=0)\n",
    "r2_score_error = np.std(r2_scores, axis=0)\n",
    "\n",
    "# remove fucky values\n",
    "r2_rows = np.abs(final_r2_score) < 10000\n",
    "final_r2_score_chosen = final_r2_score[r2_rows][2:]\n",
    "r2_score_error_chosen = r2_score_error[r2_rows][2:]\n",
    "r2_percentages_chosen = percentages[r2_rows][2:]\n",
    "\n",
    "plt.plot(r2_percentages_chosen, final_r2_score_chosen, label='Linear Regression')\n",
    "plt.legend()\n",
    "plt.fill_between(r2_percentages_chosen, final_r2_score_chosen - r2_score_error_chosen, final_r2_score_chosen + r2_score_error_chosen, alpha=0.2, edgecolor='#1B2ACC', facecolor='#089FFF')\n"
   ]
  },
  {
   "cell_type": "code",
   "execution_count": null,
   "metadata": {},
   "outputs": [
    {
     "name": "stderr",
     "output_type": "stream",
     "text": [
      "\u001b[32m[I 2022-06-22 03:10:43,590]\u001b[0m A new study created in memory with name: RBF hyperparameters optimization for scale factor s=0.1 Essai=0\u001b[0m\n",
      "\u001b[32m[I 2022-06-22 03:10:46,086]\u001b[0m Trial 0 finished with value: 0.18856949906362197 and parameters: {'n_clusters': 135, 'sigma': 0.704540088484537}. Best is trial 0 with value: 0.18856949906362197.\u001b[0m\n",
      "\u001b[32m[I 2022-06-22 03:10:48,590]\u001b[0m Trial 1 finished with value: 0.8628454647267665 and parameters: {'n_clusters': 118, 'sigma': 3.0437318855280444}. Best is trial 1 with value: 0.8628454647267665.\u001b[0m\n",
      "\u001b[32m[I 2022-06-22 03:10:50,691]\u001b[0m Trial 2 finished with value: 0.694605301228836 and parameters: {'n_clusters': 86, 'sigma': 1.9316855922489156}. Best is trial 1 with value: 0.8628454647267665.\u001b[0m\n",
      "\u001b[32m[I 2022-06-22 03:10:53,301]\u001b[0m Trial 3 finished with value: 0.728076651191325 and parameters: {'n_clusters': 179, 'sigma': 1.77802810543794}. Best is trial 1 with value: 0.8628454647267665.\u001b[0m\n",
      "\u001b[32m[I 2022-06-22 03:10:54,282]\u001b[0m Trial 4 finished with value: 0.9478147408503352 and parameters: {'n_clusters': 53, 'sigma': 8.382489737660826}. Best is trial 4 with value: 0.9478147408503352.\u001b[0m\n",
      "\u001b[32m[I 2022-06-22 03:10:57,667]\u001b[0m Trial 5 finished with value: 0.8012861507112925 and parameters: {'n_clusters': 244, 'sigma': 1.9503535063669915}. Best is trial 4 with value: 0.9478147408503352.\u001b[0m\n",
      "\u001b[32m[I 2022-06-22 03:10:59,188]\u001b[0m Trial 6 finished with value: 0.9508497907910207 and parameters: {'n_clusters': 88, 'sigma': 6.403909410603762}. Best is trial 6 with value: 0.9508497907910207.\u001b[0m\n",
      "\u001b[32m[I 2022-06-22 03:11:01,751]\u001b[0m Trial 7 finished with value: 0.8869826125148064 and parameters: {'n_clusters': 175, 'sigma': 3.064000564750328}. Best is trial 6 with value: 0.9508497907910207.\u001b[0m\n",
      "\u001b[32m[I 2022-06-22 03:11:02,994]\u001b[0m Trial 8 finished with value: 0.9368913470085289 and parameters: {'n_clusters': 75, 'sigma': 5.914812474671732}. Best is trial 6 with value: 0.9508497907910207.\u001b[0m\n",
      "\u001b[32m[I 2022-06-22 03:11:04,614]\u001b[0m Trial 9 finished with value: 0.8940971687167748 and parameters: {'n_clusters': 102, 'sigma': 4.014633680585162}. Best is trial 6 with value: 0.9508497907910207.\u001b[0m\n",
      "\u001b[32m[I 2022-06-22 03:11:06,047]\u001b[0m A new study created in memory with name: RBF hyperparameters optimization for scale factor s=0.15918367346938775 Essai=0\u001b[0m\n",
      "\u001b[32m[I 2022-06-22 03:11:06,872]\u001b[0m Trial 0 finished with value: 0.5860166874368887 and parameters: {'n_clusters': 39, 'sigma': 1.9729339520408613}. Best is trial 0 with value: 0.5860166874368887.\u001b[0m\n",
      "\u001b[32m[I 2022-06-22 03:11:09,278]\u001b[0m Trial 1 finished with value: 0.9580382081498632 and parameters: {'n_clusters': 160, 'sigma': 5.420547776867923}. Best is trial 1 with value: 0.9580382081498632.\u001b[0m\n",
      "\u001b[32m[I 2022-06-22 03:11:10,530]\u001b[0m Trial 2 finished with value: 0.9310239783756316 and parameters: {'n_clusters': 78, 'sigma': 6.149883485903676}. Best is trial 1 with value: 0.9580382081498632.\u001b[0m\n",
      "\u001b[32m[I 2022-06-22 03:11:12,533]\u001b[0m Trial 3 finished with value: 0.754829609426467 and parameters: {'n_clusters': 142, 'sigma': 2.187606656598614}. Best is trial 1 with value: 0.9580382081498632.\u001b[0m\n",
      "\u001b[32m[I 2022-06-22 03:11:13,708]\u001b[0m Trial 4 finished with value: 0.9172438105286468 and parameters: {'n_clusters': 69, 'sigma': 5.2947028966755685}. Best is trial 1 with value: 0.9580382081498632.\u001b[0m\n"
     ]
    },
    {
     "ename": "KeyboardInterrupt",
     "evalue": "",
     "output_type": "error",
     "traceback": [
      "\u001b[0;31m---------------------------------------------------------------------------\u001b[0m",
      "\u001b[0;31mKeyboardInterrupt\u001b[0m                         Traceback (most recent call last)",
      "File \u001b[0;32m<__array_function__ internals>:177\u001b[0m, in \u001b[0;36mwhere\u001b[0;34m(*args, **kwargs)\u001b[0m\n",
      "\u001b[0;31mKeyboardInterrupt\u001b[0m: "
     ]
    },
    {
     "name": "stderr",
     "output_type": "stream",
     "text": [
      "Exception ignored in: 'sklearn.cluster._k_means_common._relocate_empty_clusters_dense'\n",
      "Traceback (most recent call last):\n",
      "  File \"<__array_function__ internals>\", line 177, in where\n",
      "KeyboardInterrupt: \n",
      "\u001b[32m[I 2022-06-22 03:11:16,579]\u001b[0m Trial 5 finished with value: 0.9446995734943834 and parameters: {'n_clusters': 143, 'sigma': 4.702925833054136}. Best is trial 1 with value: 0.9580382081498632.\u001b[0m\n",
      "\u001b[32m[I 2022-06-22 03:11:17,055]\u001b[0m Trial 6 finished with value: 0.08492311967137928 and parameters: {'n_clusters': 21, 'sigma': 0.7609722113028929}. Best is trial 1 with value: 0.9580382081498632.\u001b[0m\n",
      "\u001b[32m[I 2022-06-22 03:11:20,883]\u001b[0m Trial 7 finished with value: 0.5195450241473405 and parameters: {'n_clusters': 235, 'sigma': 1.0481213514372938}. Best is trial 1 with value: 0.9580382081498632.\u001b[0m\n",
      "\u001b[32m[I 2022-06-22 03:11:21,900]\u001b[0m Trial 8 finished with value: 0.96948981441025 and parameters: {'n_clusters': 67, 'sigma': 9.12358619473601}. Best is trial 8 with value: 0.96948981441025.\u001b[0m\n",
      "\u001b[32m[I 2022-06-22 03:11:22,315]\u001b[0m Trial 9 finished with value: 0.829372997761703 and parameters: {'n_clusters': 18, 'sigma': 9.68478126603798}. Best is trial 8 with value: 0.96948981441025.\u001b[0m\n",
      "\u001b[32m[I 2022-06-22 03:11:23,607]\u001b[0m A new study created in memory with name: RBF hyperparameters optimization for scale factor s=0.21836734693877552 Essai=0\u001b[0m\n",
      "\u001b[32m[I 2022-06-22 03:11:27,094]\u001b[0m Trial 0 finished with value: 0.9346759307093166 and parameters: {'n_clusters': 232, 'sigma': 3.2985239699365327}. Best is trial 0 with value: 0.9346759307093166.\u001b[0m\n",
      "\u001b[32m[I 2022-06-22 03:11:30,232]\u001b[0m Trial 1 finished with value: 0.9884765353584662 and parameters: {'n_clusters': 180, 'sigma': 8.17591860686301}. Best is trial 1 with value: 0.9884765353584662.\u001b[0m\n",
      "\u001b[32m[I 2022-06-22 03:11:32,282]\u001b[0m Trial 2 finished with value: 0.9899529374107474 and parameters: {'n_clusters': 119, 'sigma': 9.865892438043433}. Best is trial 2 with value: 0.9899529374107474.\u001b[0m\n",
      "\u001b[32m[I 2022-06-22 03:11:34,582]\u001b[0m Trial 3 finished with value: 0.9831471651668551 and parameters: {'n_clusters': 136, 'sigma': 7.229209107255426}. Best is trial 2 with value: 0.9899529374107474.\u001b[0m\n",
      "\u001b[32m[I 2022-06-22 03:11:34,994]\u001b[0m Trial 4 finished with value: 0.5904787929491672 and parameters: {'n_clusters': 12, 'sigma': 2.7675903742674484}. Best is trial 2 with value: 0.9899529374107474.\u001b[0m\n"
     ]
    }
   ],
   "source": [
    "noisy_mses = [[] for _ in range(N_ESSAIS)]\n",
    "noisy_r2_scores = [[] for _ in range(N_ESSAIS)]\n",
    "scale_factors = np.linspace(0.1, 3, 50)\n",
    "\n",
    "for k in range(N_ESSAIS):\n",
    "    for scale_factor in scale_factors:\n",
    "        seed = random.randint(0, 10000)\n",
    "        random_state = np.random.RandomState(seed)\n",
    "        \n",
    "        X_train, y_train, X_val, y_val, X_test, y_test = get_train_data(\n",
    "            dataset,\n",
    "            targets_columns=['Energy_(kcal/mol)', 'Energy DG:kcal/mol)'],\n",
    "            random_state=random_state,\n",
    "            as_numpy=True\n",
    "        )\n",
    "\n",
    "        # add noise to the first three columns which are our continuous features.\n",
    "        X_train[:, 0] += np.random.normal(scale=scale_factor*np.std(X_train[:, 0]), size=X_train.shape[0])\n",
    "        X_train[:, 1] += np.random.normal(scale=scale_factor*np.std(X_train[:, 1]), size=X_train.shape[0])\n",
    "        X_train[:, 2] += np.random.normal(scale=scale_factor*np.std(X_train[:, 2]), size=X_train.shape[0])\n",
    "\n",
    "        study = optuna.create_study(\n",
    "            direction='maximize',\n",
    "            study_name=f\"RBF hyperparameters optimization for scale factor s={scale_factor} Essai={k}\"\n",
    "        )\n",
    "\n",
    "        study.optimize(\n",
    "            lambda trial: objective(\n",
    "                trial, X_train, y_train, X_val, y_val, normalize=True, metric=r2_score),\n",
    "            n_trials=10,\n",
    "            # n_jobs=-1\n",
    "        )\n",
    "                \n",
    "        rbf = RBF(\n",
    "            study.best_params[\"n_clusters\"], \n",
    "            study.best_params[\"sigma\"],\n",
    "            normalize=True\n",
    "        ).fit(X_train, y_train)\n",
    "        y_pred = rbf.predict(X_test)\n",
    "        noisy_mses[k].append(mean_squared_error(y_test, y_pred))\n",
    "        noisy_r2_scores[k].append(r2_score(y_test, y_pred))\n"
   ]
  },
  {
   "cell_type": "code",
   "execution_count": null,
   "metadata": {},
   "outputs": [],
   "source": []
  }
 ],
 "metadata": {
  "kernelspec": {
   "display_name": "Python 3.10.5 64-bit",
   "language": "python",
   "name": "python3"
  },
  "language_info": {
   "codemirror_mode": {
    "name": "ipython",
    "version": 3
   },
   "file_extension": ".py",
   "mimetype": "text/x-python",
   "name": "python",
   "nbconvert_exporter": "python",
   "pygments_lexer": "ipython3",
   "version": "3.10.5"
  },
  "orig_nbformat": 4,
  "vscode": {
   "interpreter": {
    "hash": "e7370f93d1d0cde622a1f8e1c04877d8463912d04d973331ad4851f04de6915a"
   }
  }
 },
 "nbformat": 4,
 "nbformat_minor": 2
}
