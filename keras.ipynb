{
 "cells": [
  {
   "cell_type": "markdown",
   "metadata": {},
   "source": [
    "### Keras and Tensorflow Neural Network (NN)"
   ]
  },
  {
   "cell_type": "code",
   "execution_count": 1,
   "metadata": {},
   "outputs": [
    {
     "name": "stdout",
     "output_type": "stream",
     "text": [
      "Raw dataset shape = (39926, 24)  Pruned dataset shape = (12865, 6)\n",
      "Encoded dataset shape = (12865, 35)\n"
     ]
    }
   ],
   "source": [
    "import pandas as pd\n",
    "from processing_utils import *\n",
    "\n",
    "raw_dataset = pd.read_csv('./dataset/data.csv')\n",
    "\n",
    "pruned_dataset = prune_dataset_lines(raw_dataset, remove_nan_lines=False, remove_nan_cols=True)\n",
    "print(\"Raw dataset shape =\", raw_dataset.shape, \" Pruned dataset shape =\", pruned_dataset.shape)\n",
    "\n",
    "encoded_pruned_data = encode_smiles_column_of(pruned_dataset, 'count_encoding') # change to one_hot_encoding here\n",
    "print(\"Encoded dataset shape =\", encoded_pruned_data.shape)\n",
    "\n",
    "X_train, y_train, X_test, y_test = return_required_data(\n",
    "    encoded_pruned_data, \n",
    "    ['Energy_(kcal/mol)', 'Energy DG:kcal/mol)'], \n",
    "    normalize=True\n",
    ")"
   ]
  },
  {
   "cell_type": "code",
   "execution_count": null,
   "metadata": {},
   "outputs": [],
   "source": [
    "from tensorflow import keras\n",
    "\n",
    "num_features = X_train.shape[1]\n",
    "\n",
    "tiny_model = keras.Sequential([\n",
    "    keras.layers.Dense(64, activation='elu', input_dim=33),\n",
    "    keras.layers.Dense(2)\n",
    "])\n",
    "\n",
    "print(X_train.shape, y_train.shape, X_test.shape, y_test.shape)\n",
    "tiny_model.compile(loss='mse', optimizer='sgd', metrics=['mse'])\n"
   ]
  },
  {
   "cell_type": "code",
   "execution_count": null,
   "metadata": {},
   "outputs": [],
   "source": [
    "histories = {}\n",
    "histories['Tiny'] = tiny_model.fit(X_train, y_train, epochs=150, batch_size=500, validation_data=(X_test, y_test))"
   ]
  },
  {
   "cell_type": "code",
   "execution_count": null,
   "metadata": {},
   "outputs": [],
   "source": [
    "import tensorflow_docs as tfdocs\n",
    "import tensorflow_docs.plots\n",
    "\n",
    "plotter = tfdocs.plots.HistoryPlotter(metric='mse')\n",
    "plotter.plot(histories)\n"
   ]
  },
  {
   "cell_type": "code",
   "execution_count": null,
   "metadata": {},
   "outputs": [],
   "source": [
    "\n",
    "fat_model = keras.Sequential([\n",
    "    keras.layers.Dense(512, activation='relu', input_dim=33),\n",
    "    keras.layers.Dense(512, activation='relu', input_dim=512),\n",
    "    keras.layers.Dense(512, activation='relu', input_dim=512),\n",
    "    keras.layers.Dense(512, activation='relu', input_dim=512),\n",
    "    keras.layers.Dense(2)\n",
    "])\n",
    "\n",
    "print(X_train.shape, y_train.shape, X_test.shape, y_test.shape)\n",
    "fat_model.compile(loss='mse', optimizer='sgd', metrics=['mse'])\n"
   ]
  },
  {
   "cell_type": "code",
   "execution_count": null,
   "metadata": {},
   "outputs": [],
   "source": [
    "histories['Fat'] = fat_model.fit(X_train, y_train, epochs=1000, batch_size=500, validation_data=(X_test, y_test))"
   ]
  },
  {
   "cell_type": "code",
   "execution_count": null,
   "metadata": {},
   "outputs": [],
   "source": [
    "import matplotlib.pyplot as plt\n",
    "\n",
    "plt.yscale(\"log\")\n",
    "plotter = tfdocs.plots.HistoryPlotter(metric='mse')\n",
    "plotter.plot(histories)\n",
    "\n",
    "print(mean_squared_error(y_test[:10, :], fat_model.predict(X_test[:10, :])))"
   ]
  }
 ],
 "metadata": {
  "kernelspec": {
   "display_name": "Python 3.10.4 64-bit",
   "language": "python",
   "name": "python3"
  },
  "language_info": {
   "codemirror_mode": {
    "name": "ipython",
    "version": 3
   },
   "file_extension": ".py",
   "mimetype": "text/x-python",
   "name": "python",
   "nbconvert_exporter": "python",
   "pygments_lexer": "ipython3",
   "version": "3.10.4"
  },
  "orig_nbformat": 4,
  "vscode": {
   "interpreter": {
    "hash": "916dbcbb3f70747c44a77c7bcd40155683ae19c65e1c03b4aa3499c5328201f1"
   }
  }
 },
 "nbformat": 4,
 "nbformat_minor": 2
}
