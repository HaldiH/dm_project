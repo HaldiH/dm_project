{
 "cells": [
  {
   "cell_type": "code",
   "execution_count": 1,
   "metadata": {},
   "outputs": [],
   "source": [
    "%matplotlib inline\n",
    "%load_ext autoreload\n",
    "\n",
    "import pandas as pd\n",
    "from processing_utils import *"
   ]
  },
  {
   "cell_type": "markdown",
   "metadata": {},
   "source": [
    "### Data Pipeline Application"
   ]
  },
  {
   "cell_type": "code",
   "execution_count": 2,
   "metadata": {},
   "outputs": [
    {
     "name": "stdout",
     "output_type": "stream",
     "text": [
      "Raw dataset shape = (39926, 24)  Pruned dataset shape = (12865, 6)\n",
      "Encoded dataset shape = (12865, 35)\n",
      "X_train shape = (9005, 33)\n",
      "y_train shape = (9005, 2)\n",
      "X_val shape = (2702, 33)\n",
      "y_val shape = (2702, 2)\n",
      "X_test shape = (1158, 33)\n",
      "y_test shape = (1158, 2)\n"
     ]
    }
   ],
   "source": [
    "raw_dataset = pd.read_csv('./dataset/data.csv')\n",
    "\n",
    "pruned_dataset = prune_dataset_lines(raw_dataset, remove_nan_lines=False, remove_nan_cols=True)\n",
    "print(\"Raw dataset shape =\", raw_dataset.shape, \" Pruned dataset shape =\", pruned_dataset.shape)\n",
    "\n",
    "encoded_pruned_data = encode_smiles_column_of(pruned_dataset, 'count_encoding') # change to one_hot_encoding here\n",
    "print(\"Encoded dataset shape =\", encoded_pruned_data.shape)\n",
    "\n",
    "X_train, y_train, X_val, y_val, X_test, y_test = return_required_data(\n",
    "    encoded_pruned_data, \n",
    "    ['Energy_(kcal/mol)', 'Energy DG:kcal/mol)'], \n",
    "    normalize=True\n",
    ")\n",
    "\n",
    "print(\"X_train shape =\", X_train.shape)\n",
    "print(\"y_train shape =\", y_train.shape)\n",
    "print(\"X_val shape =\", X_val.shape)\n",
    "print(\"y_val shape =\", y_val.shape)\n",
    "print(\"X_test shape =\", X_test.shape)\n",
    "print(\"y_test shape =\", y_test.shape)"
   ]
  },
  {
   "cell_type": "markdown",
   "metadata": {},
   "source": [
    "### Linear Regression"
   ]
  },
  {
   "cell_type": "code",
   "execution_count": 7,
   "metadata": {},
   "outputs": [
    {
     "name": "stdout",
     "output_type": "stream",
     "text": [
      "[4.06343295e-16 3.15038262e-16]\n",
      "mse y_train, y_pred_train = 2.733692055295139e-06\n",
      "mse y_val, y_pred_val = 0.0005395176161845391\n",
      "Sample prediction mse = 0.00021530780328409167\n",
      "Actual Real target values : \n",
      " [[-2.08553055 -2.08020615]\n",
      " [-0.61242337 -0.61807893]\n",
      " [-0.75002236 -0.74752656]\n",
      " [-0.15626746 -0.15550055]\n",
      " [-1.48699455 -1.48758001]]\n",
      "Sample predicted vector : \n",
      " [[-2.06772498 -2.06248767]\n",
      " [-0.60020363 -0.60574707]\n",
      " [-0.75245421 -0.74998744]\n",
      " [-0.16870459 -0.16792953]\n",
      " [-1.48895904 -1.48949245]]\n"
     ]
    }
   ],
   "source": [
    "from sklearn.linear_model import LinearRegression\n",
    "\n",
    "LR = LinearRegression()\n",
    "LR = LR.fit(X_train, y_train)\n",
    "\n",
    "y_pred_val = LR.predict(X_val)\n",
    "y_pred_train = LR.predict(X_train)\n",
    "\n",
    "print(LR.intercept_)\n",
    "print(\"mse y_train, y_pred_train =\", mean_squared_error(y_train, y_pred_train))\n",
    "print(\"mse y_val, y_pred_val =\", mean_squared_error(y_val, y_pred_val))\n",
    "\n",
    "print(\"Sample prediction mse =\", mean_squared_error(y_val[:10, :], LR.predict(X_val[:10, :])))\n",
    "print(\"Actual Real target values : \\n\", y_val[:5, :])\n",
    "print(\"Sample predicted vector : \\n\", LR.predict(X_val[:5, :]))"
   ]
  },
  {
   "cell_type": "code",
   "execution_count": 8,
   "metadata": {},
   "outputs": [
    {
     "name": "stdout",
     "output_type": "stream",
     "text": [
      "Cross validation error =  0.0008075089494236521\n"
     ]
    }
   ],
   "source": [
    "print(\"Cross validation error = \", cross_validation_of( LR, np.vstack((X_train, X_test)), np.vstack((y_train, y_test)) ))"
   ]
  },
  {
   "cell_type": "code",
   "execution_count": 17,
   "metadata": {},
   "outputs": [
    {
     "name": "stdout",
     "output_type": "stream",
     "text": [
      "{'fit_time': array([0.02963495, 0.0170269 , 0.03795791, 0.03686547, 0.0283587 ,\n",
      "       0.03106523, 0.0263207 , 0.04643798, 0.02493858, 0.02569771]), 'score_time': array([0.00077295, 0.00178576, 0.00186586, 0.00289822, 0.0032084 ,\n",
      "       0.0016706 , 0.00202608, 0.00183201, 0.00520444, 0.00185776]), 'test_r2': array([0.99989791, 0.99988959, 0.99989923, 0.99986621, 0.99989457,\n",
      "       0.99988693, 0.99989726, 0.99988537, 0.99937579, 0.99346088]), 'test_neg_mean_squared_error': array([-1.00980453e-04, -1.11369936e-04, -9.70404017e-05, -1.47512800e-04,\n",
      "       -1.04614959e-04, -1.15123160e-04, -1.01725572e-04, -1.10802044e-04,\n",
      "       -5.97323510e-04, -6.58859666e-03])}\n"
     ]
    },
    {
     "data": {
      "text/plain": [
       "<matplotlib.collections.PathCollection at 0x7fe735c9b370>"
      ]
     },
     "execution_count": 17,
     "metadata": {},
     "output_type": "execute_result"
    },
    {
     "data": {
      "image/png": "[encoded data removed]",
      "text/plain": [
       "<Figure size 432x288 with 1 Axes>"
      ]
     },
     "metadata": {
      "needs_background": "light"
     },
     "output_type": "display_data"
    }
   ],
   "source": [
    "import matplotlib.pyplot as plt\n",
    "from sklearn.model_selection import cross_validate\n",
    "scores = cross_validate(LR, np.vstack((X_train, X_test)), np.vstack((y_train, y_test)), scoring=['r2', 'neg_mean_squared_error'], cv=10)\n",
    "plt.scatter(range(10), scores['test_neg_mean_squared_error'])"
   ]
  },
  {
   "cell_type": "markdown",
   "metadata": {},
   "source": [
    "### RBF Network Regression"
   ]
  },
  {
   "cell_type": "code",
   "execution_count": 12,
   "metadata": {},
   "outputs": [],
   "source": [
    "# TODO : Use RBF.py to see performance."
   ]
  },
  {
   "cell_type": "markdown",
   "metadata": {},
   "source": []
  }
 ],
 "metadata": {
  "kernelspec": {
   "display_name": "Python 3.10.4 64-bit",
   "language": "python",
   "name": "python3"
  },
  "language_info": {
   "codemirror_mode": {
    "name": "ipython",
    "version": 3
   },
   "file_extension": ".py",
   "mimetype": "text/x-python",
   "name": "python",
   "nbconvert_exporter": "python",
   "pygments_lexer": "ipython3",
   "version": "3.10.4"
  },
  "orig_nbformat": 4,
  "vscode": {
   "interpreter": {
    "hash": "916dbcbb3f70747c44a77c7bcd40155683ae19c65e1c03b4aa3499c5328201f1"
   }
  }
 },
 "nbformat": 4,
 "nbformat_minor": 2
}
