{
 "cells": [
  {
   "cell_type": "code",
   "execution_count": 1,
   "metadata": {},
   "outputs": [],
   "source": [
    "%matplotlib inline\n",
    "%load_ext autoreload\n",
    "%autoreload 2\n",
    "\n",
    "import pandas as pd\n",
    "from processing_utils import *"
   ]
  },
  {
   "cell_type": "markdown",
   "metadata": {},
   "source": [
    "### Data Pipeline Application"
   ]
  },
  {
   "cell_type": "code",
   "execution_count": 2,
   "metadata": {},
   "outputs": [
    {
     "name": "stdout",
     "output_type": "stream",
     "text": [
      "                 Chiral_Molecular_SMILES  Energy_(kcal/mol)  \\\n",
      "0                 Fc1ccc(cc1)c1cn[nH]c1N       -51177.14356   \n",
      "1                 Fc1ccc(cc1)c1cn[nH]c1N       -51177.14356   \n",
      "2   O=C(c1ccccc1)O[C@H]1c2ccccc2C(=O)N1C       -73542.31526   \n",
      "3   O=C(c1ccccc1)O[C@H]1c2ccccc2C(=O)N1C       -73542.31444   \n",
      "4  O=C(c1ccccc1)O[C@@H]1c2ccccc2C(=O)N1C       -73542.31445   \n",
      "\n",
      "   Zero_point_energy_(kcal/mol@0K)  Enthalpy_(kcal/mol@298K)  \\\n",
      "0                        93.711236                101.010221   \n",
      "1                        93.716622                101.010607   \n",
      "2                       150.283189                161.552872   \n",
      "3                       150.296914                161.555511   \n",
      "4                       150.299719                161.554575   \n",
      "\n",
      "   Gibbs_energy_(kcal/mol@298K)  Energy DG:kcal/mol)       PMI1         PMI2  \\\n",
      "0                     72.646019         -51104.49754  15.116918  1138.689784   \n",
      "1                     72.676293         -51104.46727  55.760384  2320.928165   \n",
      "2                    122.934889         -73419.38037  16.723606  1358.577969   \n",
      "3                    123.082139         -73419.23230  35.725474  1045.051233   \n",
      "4                    123.129949         -73419.18450  38.861689  1717.118190   \n",
      "\n",
      "          PMI3      NPR1  ...  Asphericity  Eccentricity  \\\n",
      "0  1276.446124  0.152023  ...     0.611914      0.988377   \n",
      "1  2603.438182  0.277877  ...     0.386631      0.960616   \n",
      "2  1573.221539  0.161400  ...     0.592709      0.986863   \n",
      "3  1174.934149  0.400795  ...     0.235944      0.914903   \n",
      "4  1838.665112  0.270299  ...     0.402459      0.962733   \n",
      "\n",
      "   Core_Core_Repulsion_(kcal/mol)  Core_Hamiltonian_(kcal/mol)  \\\n",
      "0                     209590.8432                 -82616.31512   \n",
      "1                     423156.7216                -118968.29190   \n",
      "2                     202454.7033                 -81529.04355   \n",
      "3                     350422.3801                 -94499.59329   \n",
      "4                     343048.4259                -101348.46490   \n",
      "\n",
      "   Two_Electron_Integral_(kcal/mol)  Electronic_Energy_(kcal/mol)  \\\n",
      "0                      -356305.3370                  -260768.9836   \n",
      "1                      -755464.2531                  -496700.4184   \n",
      "2                      -343358.5290                  -253208.3080   \n",
      "3                      -629142.5208                  -409070.8537   \n",
      "4                      -609028.2103                  -405862.5701   \n",
      "\n",
      "   Heat_of_Formation_(kcal/mol)  HOMO_Energy__(eV)  LUMO_Energy_(eV)  \\\n",
      "0                     19.369701          -0.325429         -0.006221   \n",
      "1                    -63.125192          -0.357174         -0.031290   \n",
      "2                     11.846054          -0.326917         -0.027046   \n",
      "3                    -94.228188          -0.342692          0.007355   \n",
      "4                    -38.218309          -0.364205         -0.010251   \n",
      "\n",
      "   H-L_Gap_(eV)  \n",
      "0      0.319207  \n",
      "1      0.325884  \n",
      "2      0.299870  \n",
      "3      0.350046  \n",
      "4      0.353954  \n",
      "\n",
      "[5 rows x 24 columns]\n",
      "Raw dataset shape = (39926, 24)  Pruned dataset shape = (12865, 6)\n",
      "Encoded dataset shape = (12865, 35)\n",
      "X_train shape = (6432, 33)\n",
      "y_train shape = (6432, 2)\n",
      "X_val shape = (3216, 33)\n",
      "y_val shape = (3216, 2)\n",
      "X_test shape = (3217, 33)\n",
      "y_test shape = (3217, 2)\n"
     ]
    }
   ],
   "source": [
    "raw_dataset = pd.read_csv('./dataset/data.csv')\n",
    "print(raw_dataset.head())\n",
    "pruned_dataset = prune_dataset_lines(\n",
    "    raw_dataset, remove_nan_lines=False, remove_nan_cols=True)\n",
    "print(\"Raw dataset shape =\", raw_dataset.shape,\n",
    "      \" Pruned dataset shape =\", pruned_dataset.shape)\n",
    "\n",
    "encoded_pruned_data = encode_smiles_column_of(\n",
    "    pruned_dataset, 'count_encoding')  # change to one_hot_encoding here\n",
    "print(\"Encoded dataset shape =\", encoded_pruned_data.shape)\n",
    "\n",
    "X_train, y_train, X_val, y_val, X_test, y_test = return_required_data(\n",
    "    encoded_pruned_data,\n",
    "    ['Energy_(kcal/mol)', 'Energy DG:kcal/mol)'],\n",
    "    ['Zero_point_energy_(kcal/mol@0K)', 'Enthalpy_(kcal/mol@298K)', 'Gibbs_energy_(kcal/mol@298K)'],\n",
    "    normalize=True\n",
    ")\n",
    "\n",
    "print(\"X_train shape =\", X_train.shape)\n",
    "print(\"y_train shape =\", y_train.shape)\n",
    "print(\"X_val shape =\", X_val.shape)\n",
    "print(\"y_val shape =\", y_val.shape)\n",
    "print(\"X_test shape =\", X_test.shape)\n",
    "print(\"y_test shape =\", y_test.shape)\n"
   ]
  },
  {
   "cell_type": "markdown",
   "metadata": {},
   "source": [
    "### Linear Regression"
   ]
  },
  {
   "cell_type": "code",
   "execution_count": 3,
   "metadata": {},
   "outputs": [
    {
     "name": "stdout",
     "output_type": "stream",
     "text": [
      "mse(y_train_Energy_, y_pred_train_Energy_) = 2.7631559981928316e-06\n",
      "mse(y_test_Energy_, y_pred_test_Energy_) = 2.6817113777943324e-06\n",
      "==================================\n",
      "Test prediction mse = 3.624802632677278e-06\n",
      "Actual Real target values : \n",
      " [ 0.8487947   0.11726522 -1.48409101  0.82605651  1.33467482]\n",
      "Sample predicted vector : \n",
      " [ 0.85136992  0.11963949 -1.48308367  0.8276357   1.33314299]\n",
      "==================================\n",
      "mse(y_train_EnergyDG, y_pred_train_EnergyDG) = 2.772086377893522e-06\n",
      "mse(y_test_EnergyDG, y_pred_test_EnergyDG) = 2.690378551976572e-06\n",
      "==================================\n",
      "Test prediction mse = 3.6365178188665374e-06\n",
      "Actual Real target values : \n",
      " [ 0.84908891  0.11520764 -1.47770517  0.82503716  1.33511329]\n",
      "Sample predicted vector : \n",
      " [ 0.85166829  0.11758574 -1.47669621  0.8266189   1.33357898]\n"
     ]
    }
   ],
   "source": [
    "from sklearn.linear_model import LinearRegression\n",
    "\n",
    "X_train, y_train, X_test, y_test = return_required_data(\n",
    "    encoded_pruned_data, \n",
    "    ['Energy_(kcal/mol)', 'Energy DG:kcal/mol)'], \n",
    "    ['Zero_point_energy_(kcal/mol@0K)', 'Enthalpy_(kcal/mol@298K)', 'Gibbs_energy_(kcal/mol@298K)'],\n",
    "    normalize=True,\n",
    "    normalize_targets=True,\n",
    "    validation=False\n",
    ")\n",
    "\n",
    "LR_Energy_ = LinearRegression()\n",
    "LR_Energy_ = LR_Energy_.fit(X_train, y_train[:, 0])\n",
    "\n",
    "LR_EnergyDG = LinearRegression()\n",
    "LR_EnergyDG = LR_EnergyDG.fit(X_train, y_train[:, 1])\n",
    "\n",
    "print(\"mse(y_train_Energy_, y_pred_train_Energy_) =\", mean_squared_error(y_train[:, 0], LR_Energy_.predict(X_train)))\n",
    "print(\"mse(y_test_Energy_, y_pred_test_Energy_) =\", mean_squared_error(y_test[:, 0], LR_Energy_.predict(X_test)))\n",
    "print(\"==================================\")\n",
    "\n",
    "print(\"Test prediction mse =\", mean_squared_error(y_test[:5, 0], LR_Energy_.predict(X_test[:5, :])))\n",
    "print(\"Actual Real target values : \\n\", y_test[:5, 0])\n",
    "print(\"Sample predicted vector : \\n\", LR_Energy_.predict(X_test[:5, :]))\n",
    "print(\"==================================\")\n",
    "\n",
    "print(\"mse(y_train_EnergyDG, y_pred_train_EnergyDG) =\", mean_squared_error(y_train[:, 1], LR_EnergyDG.predict(X_train)))\n",
    "print(\"mse(y_test_EnergyDG, y_pred_test_EnergyDG) =\", mean_squared_error(y_test[:, 1], LR_EnergyDG.predict(X_test)))\n",
    "print(\"==================================\")\n",
    "\n",
    "print(\"Test prediction mse =\", mean_squared_error(y_test[:5, 1], LR_EnergyDG.predict(X_test[:5, :])))\n",
    "print(\"Actual Real target values : \\n\", y_test[:5, 1])\n",
    "print(\"Sample predicted vector : \\n\", LR_EnergyDG.predict(X_test[:5, :]))"
   ]
  },
  {
   "cell_type": "code",
   "execution_count": 4,
   "metadata": {},
   "outputs": [
    {
     "name": "stdout",
     "output_type": "stream",
     "text": [
      "Cross validation error LR_Energy_ = 2.790929072119353e-06\n",
      "Cross Validation of EnergyGD = 2.790929072119353e-06\n"
     ]
    }
   ],
   "source": [
    "print(\"Cross validation error LR_Energy_ =\", cross_validation_of( LR_Energy_, X_train, y_train))\n",
    "print(\"Cross Validation of EnergyGD =\", cross_validation_of( LR_EnergyDG, X_train, y_train))"
   ]
  },
  {
   "cell_type": "markdown",
   "metadata": {},
   "source": [
    "#### Performances wrt. training dataset size"
   ]
  },
  {
   "cell_type": "code",
   "execution_count": 6,
   "metadata": {},
   "outputs": [
    {
     "data": {
      "image/png": "[encoded data removed]",
      "text/plain": [
       "<Figure size 720x360 with 2 Axes>"
      ]
     },
     "metadata": {
      "needs_background": "light"
     },
     "output_type": "display_data"
    }
   ],
   "source": [
    "from utils import split_array\n",
    "from sklearn.metrics import r2_score, mean_squared_error\n",
    "import matplotlib.pyplot as plt\n",
    "import random\n",
    "mses = []\n",
    "r2_scores = []\n",
    "percentages = np.arange(0.1, 1, 0.01)\n",
    "# seed = random.randint(0, 10000)\n",
    "seed = 7732\n",
    "for p in percentages:\n",
    "    # print(f\"p={p}, seed={seed}\")\n",
    "    X_train, y_train, X_test, y_test = return_required_data(\n",
    "        encoded_pruned_data,\n",
    "        ['Energy_(kcal/mol)', 'Energy DG:kcal/mol)'],\n",
    "        ['Zero_point_energy_(kcal/mol@0K)', 'Enthalpy_(kcal/mol@298K)',\n",
    "         'Gibbs_energy_(kcal/mol@298K)'],\n",
    "        normalize=True,  # DO NOT CHANGE THAT!\n",
    "        validation=False,\n",
    "        seed=seed\n",
    "    )\n",
    "    X_tr, _ = split_array(X_train, p)\n",
    "    y_tr, _ = split_array(y_train, p)\n",
    "    lr = LinearRegression()\n",
    "    lr = lr.fit(X_tr, y_tr)\n",
    "    y_pred = lr.predict(X_test)\n",
    "    mses.append(mean_squared_error(y_test, y_pred))\n",
    "    r2_scores.append(r2_score(y_test, y_pred))\n",
    "fig, (ax1, ax2) = plt.subplots(1, 2, figsize=(10, 5))\n",
    "fig.suptitle('Metrics wrt. train dataset size')\n",
    "ax1.set_title('MSE')\n",
    "ax1.plot(percentages, mses)\n",
    "ax2.set_title('$R^2$ score')\n",
    "ax2.plot(percentages, r2_scores)\n",
    "plt.show()\n"
   ]
  },
  {
   "cell_type": "markdown",
   "metadata": {},
   "source": [
    "#### Performances wrt. added noise"
   ]
  },
  {
   "cell_type": "code",
   "execution_count": 7,
   "metadata": {},
   "outputs": [
    {
     "data": {
      "image/png": "[encoded data removed]",
      "text/plain": [
       "<Figure size 720x360 with 2 Axes>"
      ]
     },
     "metadata": {
      "needs_background": "light"
     },
     "output_type": "display_data"
    }
   ],
   "source": [
    "\n",
    "mses = []\n",
    "r2_scores = []\n",
    "scale_factors = np.arange(0.1, 2, 0.1)\n",
    "for scale_factor in scale_factors:\n",
    "    X_train, y_train, X_test, y_test = return_required_data(\n",
    "        encoded_pruned_data,\n",
    "        ['Energy_(kcal/mol)', 'Energy DG:kcal/mol)'],\n",
    "        ['Zero_point_energy_(kcal/mol@0K)', 'Enthalpy_(kcal/mol@298K)',\n",
    "         'Gibbs_energy_(kcal/mol@298K)'],\n",
    "        normalize=True,\n",
    "        validation=False,\n",
    "        seed=7732\n",
    "    )\n",
    "    for column in X_train.T[:3]:\n",
    "        column += np.random.normal(column.mean(),\n",
    "                                   column.std() * scale_factor, column.shape)\n",
    "    lr = LinearRegression()\n",
    "    lr.fit(X_train, y_train)\n",
    "    y_pred = lr.predict(X_test)\n",
    "    mses.append(mean_squared_error(y_test, y_pred))\n",
    "    r2_scores.append(r2_score(y_test, y_pred))\n",
    "fig, (ax1, ax2) = plt.subplots(1, 2, figsize=(10, 5))\n",
    "fig.suptitle('Metrics wrt. noise addition')\n",
    "ax1.set_title('MSE')\n",
    "ax1.plot(scale_factors, mses)\n",
    "ax2.set_title('$R^2$ score')\n",
    "ax2.plot(scale_factors, r2_scores)\n",
    "plt.show()\n"
   ]
  },
  {
   "cell_type": "code",
   "execution_count": null,
   "metadata": {},
   "outputs": [],
   "source": []
  }
 ],
 "metadata": {
  "kernelspec": {
   "display_name": "Python 3.10.5 64-bit",
   "language": "python",
   "name": "python3"
  },
  "language_info": {
   "codemirror_mode": {
    "name": "ipython",
    "version": 3
   },
   "file_extension": ".py",
   "mimetype": "text/x-python",
   "name": "python",
   "nbconvert_exporter": "python",
   "pygments_lexer": "ipython3",
   "version": "3.10.5"
  },
  "orig_nbformat": 4,
  "vscode": {
   "interpreter": {
    "hash": "e7370f93d1d0cde622a1f8e1c04877d8463912d04d973331ad4851f04de6915a"
   }
  }
 },
 "nbformat": 4,
 "nbformat_minor": 2
}
