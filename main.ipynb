{
 "cells": [
  {
   "cell_type": "code",
   "execution_count": 1,
   "metadata": {},
   "outputs": [],
   "source": [
    "%matplotlib inline\n",
    "%load_ext autoreload\n",
    "\n",
    "import pandas as pd\n",
    "from processing_utils import *"
   ]
  },
  {
   "cell_type": "markdown",
   "metadata": {},
   "source": [
    "### Data Pipeline Application"
   ]
  },
  {
   "cell_type": "code",
   "execution_count": 18,
   "metadata": {},
   "outputs": [
    {
     "name": "stdout",
     "output_type": "stream",
     "text": [
      "                 Chiral_Molecular_SMILES  Energy_(kcal/mol)  \\\n",
      "0                 Fc1ccc(cc1)c1cn[nH]c1N       -51177.14356   \n",
      "1                 Fc1ccc(cc1)c1cn[nH]c1N       -51177.14356   \n",
      "2   O=C(c1ccccc1)O[C@H]1c2ccccc2C(=O)N1C       -73542.31526   \n",
      "3   O=C(c1ccccc1)O[C@H]1c2ccccc2C(=O)N1C       -73542.31444   \n",
      "4  O=C(c1ccccc1)O[C@@H]1c2ccccc2C(=O)N1C       -73542.31445   \n",
      "\n",
      "   Zero_point_energy_(kcal/mol@0K)  Enthalpy_(kcal/mol@298K)  \\\n",
      "0                        93.711236                101.010221   \n",
      "1                        93.716622                101.010607   \n",
      "2                       150.283189                161.552872   \n",
      "3                       150.296914                161.555511   \n",
      "4                       150.299719                161.554575   \n",
      "\n",
      "   Gibbs_energy_(kcal/mol@298K)  Energy DG:kcal/mol)       PMI1         PMI2  \\\n",
      "0                     72.646019         -51104.49754  15.116918  1138.689784   \n",
      "1                     72.676293         -51104.46727  55.760384  2320.928165   \n",
      "2                    122.934889         -73419.38037  16.723606  1358.577969   \n",
      "3                    123.082139         -73419.23230  35.725474  1045.051233   \n",
      "4                    123.129949         -73419.18450  38.861689  1717.118190   \n",
      "\n",
      "          PMI3      NPR1  ...  Asphericity  Eccentricity  \\\n",
      "0  1276.446124  0.152023  ...     0.611914      0.988377   \n",
      "1  2603.438182  0.277877  ...     0.386631      0.960616   \n",
      "2  1573.221539  0.161400  ...     0.592709      0.986863   \n",
      "3  1174.934149  0.400795  ...     0.235944      0.914903   \n",
      "4  1838.665112  0.270299  ...     0.402459      0.962733   \n",
      "\n",
      "   Core_Core_Repulsion_(kcal/mol)  Core_Hamiltonian_(kcal/mol)  \\\n",
      "0                     209590.8432                 -82616.31512   \n",
      "1                     423156.7216                -118968.29190   \n",
      "2                     202454.7033                 -81529.04355   \n",
      "3                     350422.3801                 -94499.59329   \n",
      "4                     343048.4259                -101348.46490   \n",
      "\n",
      "   Two_Electron_Integral_(kcal/mol)  Electronic_Energy_(kcal/mol)  \\\n",
      "0                      -356305.3370                  -260768.9836   \n",
      "1                      -755464.2531                  -496700.4184   \n",
      "2                      -343358.5290                  -253208.3080   \n",
      "3                      -629142.5208                  -409070.8537   \n",
      "4                      -609028.2103                  -405862.5701   \n",
      "\n",
      "   Heat_of_Formation_(kcal/mol)  HOMO_Energy__(eV)  LUMO_Energy_(eV)  \\\n",
      "0                     19.369701          -0.325429         -0.006221   \n",
      "1                    -63.125192          -0.357174         -0.031290   \n",
      "2                     11.846054          -0.326917         -0.027046   \n",
      "3                    -94.228188          -0.342692          0.007355   \n",
      "4                    -38.218309          -0.364205         -0.010251   \n",
      "\n",
      "   H-L_Gap_(eV)  \n",
      "0      0.319207  \n",
      "1      0.325884  \n",
      "2      0.299870  \n",
      "3      0.350046  \n",
      "4      0.353954  \n",
      "\n",
      "[5 rows x 24 columns]\n",
      "Raw dataset shape = (39926, 24)  Pruned dataset shape = (12865, 6)\n",
      "Encoded dataset shape = (12865, 35)\n",
      "X_train shape = (9005, 33)\n",
      "y_train shape = (9005, 2)\n",
      "X_val shape = (2702, 33)\n",
      "y_val shape = (2702, 2)\n",
      "X_test shape = (1158, 33)\n",
      "y_test shape = (1158, 2)\n"
     ]
    }
   ],
   "source": [
    "raw_dataset = pd.read_csv('./dataset/data.csv')\n",
    "print(raw_dataset.head())\n",
    "pruned_dataset = prune_dataset_lines(raw_dataset, remove_nan_lines=False, remove_nan_cols=True)\n",
    "print(\"Raw dataset shape =\", raw_dataset.shape, \" Pruned dataset shape =\", pruned_dataset.shape)\n",
    "\n",
    "encoded_pruned_data = encode_smiles_column_of(pruned_dataset, 'count_encoding') # change to one_hot_encoding here\n",
    "print(\"Encoded dataset shape =\", encoded_pruned_data.shape)\n",
    "\n",
    "X_train, y_train, X_val, y_val, X_test, y_test = return_required_data(\n",
    "    encoded_pruned_data, \n",
    "    ['Energy_(kcal/mol)', 'Energy DG:kcal/mol)'], \n",
    "    normalize=True\n",
    ")\n",
    "\n",
    "print(\"X_train shape =\", X_train.shape)\n",
    "print(\"y_train shape =\", y_train.shape)\n",
    "print(\"X_val shape =\", X_val.shape)\n",
    "print(\"y_val shape =\", y_val.shape)\n",
    "print(\"X_test shape =\", X_test.shape)\n",
    "print(\"y_test shape =\", y_test.shape)"
   ]
  },
  {
   "cell_type": "markdown",
   "metadata": {},
   "source": [
    "### Linear Regression"
   ]
  },
  {
   "cell_type": "code",
   "execution_count": 20,
   "metadata": {},
   "outputs": [
    {
     "name": "stdout",
     "output_type": "stream",
     "text": [
      "mse(y_train_Energy_, y_pred_train_Energy_) = 9.732707977533945e-05\n",
      "mse(y_val_Energy_, y_pred_val_Energy_) = 0.00031667777941247365\n",
      "mse(y_test_Energy_, y_pred_test_Energy_) = 0.006046406758231887\n",
      "==================================\n",
      "Test prediction mse = 0.0052624012713294544\n",
      "Actual Real target values : \n",
      " [-0.72683536 -1.74296008 -0.29714503 -0.20861087 -0.16368761]\n",
      "Sample predicted vector : \n",
      " [-0.76949048 -1.85523726 -0.40411846 -0.18920654 -0.17184475]\n",
      "==================================\n",
      "mse(y_train_EnergyDG, y_pred_train_EnergyDG) = 9.730094514767952e-05\n",
      "mse(y_val_EnergyDG, y_pred_val_EnergyDG) = 0.0003166054307816974\n",
      "mse(y_test_Energy_, y_pred_test_Energy_) = 0.006028496735773142\n",
      "==================================\n",
      "Test prediction mse = 0.005238001463340732\n",
      "Actual Real target values : \n",
      " [-0.72697726 -1.73961602 -0.29509866 -0.20820851 -0.16520833]\n",
      "Sample predicted vector : \n",
      " [-0.76949701 -1.85158427 -0.40188427 -0.18881718 -0.17333226]\n"
     ]
    }
   ],
   "source": [
    "from sklearn.linear_model import LinearRegression\n",
    "\n",
    "X_train, y_train, X_val, y_val, X_test, y_test = return_required_data(\n",
    "    encoded_pruned_data, \n",
    "    ['Energy_(kcal/mol)', 'Energy DG:kcal/mol)'], \n",
    "    normalize=True\n",
    ")\n",
    "\n",
    "X_train = np.vstack((X_train, X_val))\n",
    "y_train = np.vstack((y_train, y_val))\n",
    "\n",
    "LR_Energy_ = LinearRegression()\n",
    "LR_Energy_ = LR_Energy_.fit(X_train, y_train[:, 0])\n",
    "\n",
    "LR_EnergyDG = LinearRegression()\n",
    "LR_EnergyDG = LR_EnergyDG.fit(X_train, y_train[:, 1])\n",
    "\n",
    "print(\"mse(y_train_Energy_, y_pred_train_Energy_) =\", mean_squared_error(y_train[:, 0], LR_Energy_.predict(X_train)))\n",
    "print(\"mse(y_val_Energy_, y_pred_val_Energy_) =\", mean_squared_error(y_val[:, 0], LR_Energy_.predict(X_val)))\n",
    "print(\"mse(y_test_Energy_, y_pred_test_Energy_) =\", mean_squared_error(y_test[:, 0], LR_Energy_.predict(X_test)))\n",
    "print(\"==================================\")\n",
    "\n",
    "print(\"Test prediction mse =\", mean_squared_error(y_test[:5, 0], LR_Energy_.predict(X_test[:5, :])))\n",
    "print(\"Actual Real target values : \\n\", y_test[:5, 0])\n",
    "print(\"Sample predicted vector : \\n\", LR_Energy_.predict(X_test[:5, :]))\n",
    "print(\"==================================\")\n",
    "\n",
    "print(\"mse(y_train_EnergyDG, y_pred_train_EnergyDG) =\", mean_squared_error(y_train[:, 1], LR_EnergyDG.predict(X_train)))\n",
    "print(\"mse(y_val_EnergyDG, y_pred_val_EnergyDG) =\", mean_squared_error(y_val[:, 1], LR_EnergyDG.predict(X_val)))\n",
    "print(\"mse(y_test_Energy_, y_pred_test_Energy_) =\", mean_squared_error(y_test[:, 1], LR_EnergyDG.predict(X_test)))\n",
    "print(\"==================================\")\n",
    "\n",
    "print(\"Test prediction mse =\", mean_squared_error(y_test[:5, 1], LR_EnergyDG.predict(X_test[:5, :])))\n",
    "print(\"Actual Real target values : \\n\", y_test[:5, 1])\n",
    "print(\"Sample predicted vector : \\n\", LR_EnergyDG.predict(X_test[:5, :]))"
   ]
  },
  {
   "cell_type": "code",
   "execution_count": 25,
   "metadata": {},
   "outputs": [
    {
     "name": "stdout",
     "output_type": "stream",
     "text": [
      "Cross validation error LR_Energy_ = 0.00011824140029793778\n",
      "Cross Validation of EnergyGD = 0.00011824140029793778\n"
     ]
    }
   ],
   "source": [
    "print(\"Cross validation error LR_Energy_ =\", cross_validation_of( LR_Energy_, X_train, y_train))\n",
    "print(\"Cross Validation of EnergyGD =\", cross_validation_of( LR_EnergyDG, X_train, y_train))"
   ]
  },
  {
   "cell_type": "markdown",
   "metadata": {},
   "source": []
  }
 ],
 "metadata": {
  "kernelspec": {
   "display_name": "Python 3.10.4 64-bit",
   "language": "python",
   "name": "python3"
  },
  "language_info": {
   "codemirror_mode": {
    "name": "ipython",
    "version": 3
   },
   "file_extension": ".py",
   "mimetype": "text/x-python",
   "name": "python",
   "nbconvert_exporter": "python",
   "pygments_lexer": "ipython3",
   "version": "3.10.4"
  },
  "orig_nbformat": 4,
  "vscode": {
   "interpreter": {
    "hash": "916dbcbb3f70747c44a77c7bcd40155683ae19c65e1c03b4aa3499c5328201f1"
   }
  }
 },
 "nbformat": 4,
 "nbformat_minor": 2
}
